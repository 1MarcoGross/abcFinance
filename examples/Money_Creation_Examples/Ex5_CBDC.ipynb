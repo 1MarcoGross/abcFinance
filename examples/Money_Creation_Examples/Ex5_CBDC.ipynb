{
 "cells": [
  {
   "cell_type": "markdown",
   "metadata": {},
   "source": [
    "[Money Creation Examples](http://www.siebenbrunner.com/moneycreation/) > **Example 5**:\n",
    "# Lending in Central Bank Digital Currency\n",
    "We present two possible implementations of a Central Bank Digital Currency (CBDC) in which loans are denoted in CBDC. As discussed in the paper, there is an alternative way to implement CBDCs, where lending would be conducted in commercial bank money, and customers could choose to swap their bank deposits into CBDC at a later stage. This implementation would be completely analogous in terms of booking statements to the change between cash and deposits in the initialization example ([Example 1](http://www.siebenbrunner.com/moneycreation/Ex1_Initialization.html)) and is thus not presented separately here. The two alternatives presented herein are:\n",
    "\n",
    "- **Direct transfor of CBDC**: the bank grants a loan directly in CBDC by transferring a previously owned stock of CBDC to the debtor (Version 1).\n",
    "- **Loan transfer from the central bank**: the loan is created by in CBDC by the central bank and subsequently transferred to a commercial bank (Version 2).\n",
    "\n",
    "We start by importing required utilities."
   ]
  },
  {
   "cell_type": "code",
   "execution_count": 1,
   "metadata": {},
   "outputs": [],
   "source": [
    "import os\n",
    "import sys\n",
    "\n",
    "base_path = os.path.realpath(os.getcwd()+\"/../..\")\n",
    "sys.path.append(base_path)\n",
    "\n",
    "from abcFinance import Ledger, Account, AccountSide"
   ]
  },
  {
   "cell_type": "markdown",
   "metadata": {},
   "source": [
    "We further define a function that computes the money stocks according to our defined taxonomy. Note that we do not count CBDC held by banks as part of the total money stock, in analogy to physical cash and in accordance with the definition adopted in our paper. In practice, central banks will have to decide whether to include CBDC held by banks in the money stock."
   ]
  },
  {
   "cell_type": "code",
   "execution_count": 2,
   "metadata": {},
   "outputs": [],
   "source": [
    "from contextlib import suppress\n",
    "from IPython.core.display import SVG\n",
    "from IPython.display import display_svg\n",
    "\n",
    "def print_money_stocks():\n",
    "    # Bank money: bank liabilities that are money\n",
    "    bank_money = private_agent.get_balance('Deposits')[1]\n",
    "    central_bank_money = private_agent.get_balance('CBDC')[1]\n",
    "    \n",
    "    with suppress(Exception):\n",
    "        bank_money += private_agent2.get_balance('Deposits')[1]\n",
    "        central_bank_money += private_agent2.get_balance('CBDC')[1]\n",
    "\n",
    "    print(\"Commercial Bank Money:\",bank_money)\n",
    "    print(\"Central Bank Money:\",central_bank_money)\n",
    "    print(\"Total (Bank) Money:\",central_bank_money+bank_money)\n",
    "\n",
    "def print_balance_sheets_and_money_stocks():\n",
    "    bank_balance_sheet = SVG(bank.draw_balance_sheet(\"Bank Balance Sheet\"))\n",
    "    central_bank_balance_sheet = SVG(central_bank.draw_balance_sheet(\"Central Bank Balance Sheet\"))\n",
    "    if private_agent.get_total_assets() > 0:\n",
    "        private_agent_balance_sheet = SVG(private_agent.draw_balance_sheet(\"Private Agent Balance Sheet\"))\n",
    "        display_svg(bank_balance_sheet, central_bank_balance_sheet, private_agent_balance_sheet)\n",
    "    else:\n",
    "        display_svg(bank_balance_sheet, central_bank_balance_sheet)\n",
    "    print_money_stocks()\n"
   ]
  },
  {
   "cell_type": "markdown",
   "metadata": {},
   "source": [
    "## Version 1: Direct Transfer of CBDC from Commercial Bank to Private Sector Agent\n",
    "In this implementation of a CBDC, banks grant loans directly in CBDC by transferring a stock of CBDC which they already own to the borrower. CBDC lending in this implementation is similar to (but not the same as) how loanable-funds theories describe lending: commercial banks are exogeneously constrained in their ability to grant loans by the availability of CBDC. In contrast to loanable funds theories, however, the limiting resource - CBDC instead of deposits - is an asset for the bank, not a liability.\n",
    "\n",
    "We start the example by defining a bank, central bank and private sector agent."
   ]
  },
  {
   "cell_type": "code",
   "execution_count": 3,
   "metadata": {},
   "outputs": [],
   "source": [
    "bank = Ledger(residual_account_name=\"Equity\")\n",
    "central_bank = Ledger(residual_account_name=\"Equity\")\n",
    "private_agent = Ledger(residual_account_name=\"Equity\")\n",
    "\n",
    "bank.make_asset_accounts(['CBDC','Loans'])\n",
    "bank.make_liability_accounts(['Deposits'])\n",
    "\n",
    "private_agent.make_asset_accounts(['CBDC','Deposits'])\n",
    "private_agent.make_liability_accounts(['Loans'])\n",
    "\n",
    "central_bank.make_asset_accounts(['Assets'])\n",
    "central_bank.make_liability_accounts(['CBDC'])"
   ]
  },
  {
   "cell_type": "markdown",
   "metadata": {},
   "source": [
    "We initialize the system by endowing the commercial and central bank with some initial stock of money."
   ]
  },
  {
   "cell_type": "code",
   "execution_count": 4,
   "metadata": {},
   "outputs": [
    {
     "data": {
      "image/svg+xml": [
       "<svg height=\"110\" width=\"360\">\n",
       "  <g style=\"fill-opacity:1.0; stroke:black;    stroke-width:1;\">\n",
       "   <text dominant-baseline=\" hanging \" font-size=\"19\" text-anchor=\" middle \" x=\"175\" y=\"0\">\n",
       "    Bank Balance Sheet\n",
       "   </text>\n",
       "   <rect height=\"80\" style=\"fill:rgb(153, 204, 255);\" width=\"175\" x=\"5\" y=\"25\"/>\n",
       "   <text dominant-baseline=\" middle \" font-size=\"16\" text-anchor=\" middle \" x=\"92\" y=\"65\">\n",
       "    CBDC 100\n",
       "   </text>\n",
       "   <rect height=\"80\" style=\"fill:rgb(204, 255, 204);\" width=\"175\" x=\"180\" y=\"25\"/>\n",
       "   <text dominant-baseline=\" middle \" font-size=\"16\" text-anchor=\" middle \" x=\"267\" y=\"65\">\n",
       "    Equity 100\n",
       "   </text>\n",
       "  </g>\n",
       "</svg>"
      ]
     },
     "metadata": {},
     "output_type": "display_data"
    },
    {
     "data": {
      "image/svg+xml": [
       "<svg height=\"110\" width=\"360\">\n",
       "  <g style=\"fill-opacity:1.0; stroke:black;    stroke-width:1;\">\n",
       "   <text dominant-baseline=\" hanging \" font-size=\"19\" text-anchor=\" middle \" x=\"175\" y=\"0\">\n",
       "    Central Bank Balance Sheet\n",
       "   </text>\n",
       "   <rect height=\"80\" style=\"fill:rgb(153, 204, 255);\" width=\"175\" x=\"5\" y=\"25\"/>\n",
       "   <text dominant-baseline=\" middle \" font-size=\"16\" text-anchor=\" middle \" x=\"92\" y=\"65\">\n",
       "    Assets 100\n",
       "   </text>\n",
       "   <rect height=\"80\" style=\"fill:rgb(255, 204, 204);\" width=\"175\" x=\"180\" y=\"25\"/>\n",
       "   <text dominant-baseline=\" middle \" font-size=\"16\" text-anchor=\" middle \" x=\"267\" y=\"65\">\n",
       "    CBDC 100\n",
       "   </text>\n",
       "  </g>\n",
       "</svg>"
      ]
     },
     "metadata": {},
     "output_type": "display_data"
    },
    {
     "name": "stdout",
     "output_type": "stream",
     "text": [
      "Commercial Bank Money: 0\n",
      "Central Bank Money: 0\n",
      "Total (Bank) Money: 0\n"
     ]
    }
   ],
   "source": [
    "bank.book(debit=[('CBDC',100)],credit=[('Equity',100)])\n",
    "central_bank.book(debit=[('Assets',100)],credit=[('CBDC',100)])\n",
    "print_balance_sheets_and_money_stocks()"
   ]
  },
  {
   "cell_type": "markdown",
   "metadata": {},
   "source": [
    "The bank now uses parts of its pre-existing stock of CBDC to grant a loan. Note that since we excluded the CBDC held by the bank from the money supply, this transaction has the effect of increasing the money stock."
   ]
  },
  {
   "cell_type": "code",
   "execution_count": 5,
   "metadata": {},
   "outputs": [
    {
     "data": {
      "image/svg+xml": [
       "<svg height=\"110\" width=\"360\">\n",
       "  <g style=\"fill-opacity:1.0; stroke:black;    stroke-width:1;\">\n",
       "   <text dominant-baseline=\" hanging \" font-size=\"19\" text-anchor=\" middle \" x=\"175\" y=\"0\">\n",
       "    Bank Balance Sheet\n",
       "   </text>\n",
       "   <rect height=\"40\" style=\"fill:rgb(153, 204, 255);\" width=\"175\" x=\"5\" y=\"25\"/>\n",
       "   <text dominant-baseline=\" middle \" font-size=\"16\" text-anchor=\" middle \" x=\"92\" y=\"45\">\n",
       "    CBDC 50\n",
       "   </text>\n",
       "   <rect height=\"40\" style=\"fill:rgb(153, 204, 255);\" width=\"175\" x=\"5\" y=\"65\"/>\n",
       "   <text dominant-baseline=\" middle \" font-size=\"16\" text-anchor=\" middle \" x=\"92\" y=\"85\">\n",
       "    Loans 50\n",
       "   </text>\n",
       "   <rect height=\"80\" style=\"fill:rgb(204, 255, 204);\" width=\"175\" x=\"180\" y=\"25\"/>\n",
       "   <text dominant-baseline=\" middle \" font-size=\"16\" text-anchor=\" middle \" x=\"267\" y=\"65\">\n",
       "    Equity 100\n",
       "   </text>\n",
       "  </g>\n",
       "</svg>"
      ]
     },
     "metadata": {},
     "output_type": "display_data"
    },
    {
     "data": {
      "image/svg+xml": [
       "<svg height=\"110\" width=\"360\">\n",
       "  <g style=\"fill-opacity:1.0; stroke:black;    stroke-width:1;\">\n",
       "   <text dominant-baseline=\" hanging \" font-size=\"19\" text-anchor=\" middle \" x=\"175\" y=\"0\">\n",
       "    Central Bank Balance Sheet\n",
       "   </text>\n",
       "   <rect height=\"80\" style=\"fill:rgb(153, 204, 255);\" width=\"175\" x=\"5\" y=\"25\"/>\n",
       "   <text dominant-baseline=\" middle \" font-size=\"16\" text-anchor=\" middle \" x=\"92\" y=\"65\">\n",
       "    Assets 100\n",
       "   </text>\n",
       "   <rect height=\"80\" style=\"fill:rgb(255, 204, 204);\" width=\"175\" x=\"180\" y=\"25\"/>\n",
       "   <text dominant-baseline=\" middle \" font-size=\"16\" text-anchor=\" middle \" x=\"267\" y=\"65\">\n",
       "    CBDC 100\n",
       "   </text>\n",
       "  </g>\n",
       "</svg>"
      ]
     },
     "metadata": {},
     "output_type": "display_data"
    },
    {
     "data": {
      "image/svg+xml": [
       "<svg height=\"70\" width=\"360\">\n",
       "  <g style=\"fill-opacity:1.0; stroke:black;    stroke-width:1;\">\n",
       "   <text dominant-baseline=\" hanging \" font-size=\"19\" text-anchor=\" middle \" x=\"175\" y=\"0\">\n",
       "    Private Agent Balance Sheet\n",
       "   </text>\n",
       "   <rect height=\"40\" style=\"fill:rgb(153, 204, 255);\" width=\"175\" x=\"5\" y=\"25\"/>\n",
       "   <text dominant-baseline=\" middle \" font-size=\"16\" text-anchor=\" middle \" x=\"92\" y=\"45\">\n",
       "    CBDC 50\n",
       "   </text>\n",
       "   <rect height=\"40\" style=\"fill:rgb(255, 204, 204);\" width=\"175\" x=\"180\" y=\"25\"/>\n",
       "   <text dominant-baseline=\" middle \" font-size=\"16\" text-anchor=\" middle \" x=\"267\" y=\"45\">\n",
       "    Loans 50\n",
       "   </text>\n",
       "  </g>\n",
       "</svg>"
      ]
     },
     "metadata": {},
     "output_type": "display_data"
    },
    {
     "name": "stdout",
     "output_type": "stream",
     "text": [
      "Commercial Bank Money: 0\n",
      "Central Bank Money: 50\n",
      "Total (Bank) Money: 50\n"
     ]
    }
   ],
   "source": [
    "bank.book(debit=[('Loans',50)],credit=[('CBDC',50)])\n",
    "private_agent.book(debit=[('CBDC',50)],credit=[('Loans',50)])\n",
    "print_balance_sheets_and_money_stocks()"
   ]
  },
  {
   "cell_type": "markdown",
   "metadata": {},
   "source": [
    "## Version 2: Loan transfer from the Central Bank to Commercial Bank\n",
    "An alternative implementation of lending in CBDC would consist in the central bank intially granting the loan, using the same booking statements that commercial banks use for granting loans in bank money currently. In the second step, the loan would be transferred to a commercial bank, in exchange for CBDC. As we will demonstrate, this implementation of CBDC lending results in the same final state if there are no defaults (Case 2a). The booking statements, however, are different, and as we will demonstrate this means that the central bank bears a type of settlement risk similar to [Herstatt risk](https://en.wikipedia.org/wiki/Settlement_risk) (Case 2b).\n",
    "\n",
    "We start by defining a set of agents again. We include a second private agent and flow accounts for the other agents. These additions will be needed to book the effects of a materialization of Herstatt risk for the central bank in case 2a."
   ]
  },
  {
   "cell_type": "code",
   "execution_count": 6,
   "metadata": {},
   "outputs": [],
   "source": [
    "bank = Ledger(residual_account_name=\"Equity\")\n",
    "central_bank = Ledger(residual_account_name=\"Equity\")\n",
    "private_agent = Ledger(residual_account_name=\"Equity\")\n",
    "private_agent2 = Ledger(residual_account_name=\"Equity\")\n",
    "\n",
    "bank.make_asset_accounts(['CBDC','Loans'])\n",
    "bank.make_liability_accounts(['Deposits'])\n",
    "bank.make_flow_accounts(['Expenses','Impairments'])\n",
    "\n",
    "private_agent.make_asset_accounts(['CBDC','Deposits'])\n",
    "private_agent.make_liability_accounts(['Loans'])\n",
    "private_agent.make_flow_accounts(['Expenses'])\n",
    "\n",
    "private_agent2.make_asset_accounts(['CBDC','Deposits'])\n",
    "private_agent2.make_flow_accounts(['Revenues','Impairments'])\n",
    "\n",
    "central_bank.make_asset_accounts(['Assets','Loans'])\n",
    "central_bank.make_liability_accounts(['CBDC'])\n",
    "central_bank.make_flow_accounts(['Impairments'])"
   ]
  },
  {
   "cell_type": "markdown",
   "metadata": {},
   "source": [
    "### Case 2a: Favourable case\n",
    "We first start by endowing the agents with some initial money allocations, similar to the first example:"
   ]
  },
  {
   "cell_type": "code",
   "execution_count": 7,
   "metadata": {},
   "outputs": [
    {
     "data": {
      "image/svg+xml": [
       "<svg height=\"110\" width=\"360\">\n",
       "  <g style=\"fill-opacity:1.0; stroke:black;    stroke-width:1;\">\n",
       "   <text dominant-baseline=\" hanging \" font-size=\"19\" text-anchor=\" middle \" x=\"175\" y=\"0\">\n",
       "    Bank Balance Sheet\n",
       "   </text>\n",
       "   <rect height=\"80\" style=\"fill:rgb(153, 204, 255);\" width=\"175\" x=\"5\" y=\"25\"/>\n",
       "   <text dominant-baseline=\" middle \" font-size=\"16\" text-anchor=\" middle \" x=\"92\" y=\"65\">\n",
       "    CBDC 100\n",
       "   </text>\n",
       "   <rect height=\"80\" style=\"fill:rgb(255, 204, 204);\" width=\"175\" x=\"180\" y=\"25\"/>\n",
       "   <text dominant-baseline=\" middle \" font-size=\"16\" text-anchor=\" middle \" x=\"267\" y=\"65\">\n",
       "    Deposits 100\n",
       "   </text>\n",
       "  </g>\n",
       "</svg>"
      ]
     },
     "metadata": {},
     "output_type": "display_data"
    },
    {
     "data": {
      "image/svg+xml": [
       "<svg height=\"110\" width=\"360\">\n",
       "  <g style=\"fill-opacity:1.0; stroke:black;    stroke-width:1;\">\n",
       "   <text dominant-baseline=\" hanging \" font-size=\"19\" text-anchor=\" middle \" x=\"175\" y=\"0\">\n",
       "    Central Bank Balance Sheet\n",
       "   </text>\n",
       "   <rect height=\"80\" style=\"fill:rgb(153, 204, 255);\" width=\"175\" x=\"5\" y=\"25\"/>\n",
       "   <text dominant-baseline=\" middle \" font-size=\"16\" text-anchor=\" middle \" x=\"92\" y=\"65\">\n",
       "    Assets 100\n",
       "   </text>\n",
       "   <rect height=\"80\" style=\"fill:rgb(255, 204, 204);\" width=\"175\" x=\"180\" y=\"25\"/>\n",
       "   <text dominant-baseline=\" middle \" font-size=\"16\" text-anchor=\" middle \" x=\"267\" y=\"65\">\n",
       "    CBDC 100\n",
       "   </text>\n",
       "  </g>\n",
       "</svg>"
      ]
     },
     "metadata": {},
     "output_type": "display_data"
    },
    {
     "data": {
      "image/svg+xml": [
       "<svg height=\"110\" width=\"360\">\n",
       "  <g style=\"fill-opacity:1.0; stroke:black;    stroke-width:1;\">\n",
       "   <text dominant-baseline=\" hanging \" font-size=\"19\" text-anchor=\" middle \" x=\"175\" y=\"0\">\n",
       "    Private Agent Balance Sheet\n",
       "   </text>\n",
       "   <rect height=\"80\" style=\"fill:rgb(153, 204, 255);\" width=\"175\" x=\"5\" y=\"25\"/>\n",
       "   <text dominant-baseline=\" middle \" font-size=\"16\" text-anchor=\" middle \" x=\"92\" y=\"65\">\n",
       "    Deposits 100\n",
       "   </text>\n",
       "   <rect height=\"80\" style=\"fill:rgb(204, 255, 204);\" width=\"175\" x=\"180\" y=\"25\"/>\n",
       "   <text dominant-baseline=\" middle \" font-size=\"16\" text-anchor=\" middle \" x=\"267\" y=\"65\">\n",
       "    Equity 100\n",
       "   </text>\n",
       "  </g>\n",
       "</svg>"
      ]
     },
     "metadata": {},
     "output_type": "display_data"
    },
    {
     "name": "stdout",
     "output_type": "stream",
     "text": [
      "Commercial Bank Money: 100\n",
      "Central Bank Money: 0\n",
      "Total (Bank) Money: 100\n"
     ]
    }
   ],
   "source": [
    "bank.book(debit=[('CBDC',100)],credit=[('Deposits',100)])\n",
    "private_agent.book(debit=[('Deposits',100)],credit=[('Equity',100)])\n",
    "central_bank.book(debit=[('Assets',100)],credit=[('CBDC',100)])\n",
    "print_balance_sheets_and_money_stocks()"
   ]
  },
  {
   "cell_type": "markdown",
   "metadata": {},
   "source": [
    "Now the loan granting happens: note that the bank expands its balance sheet by creating new CBDC, just as a commercial bank would do when creating a deposit in the course of granting a loan, and thereby increases the total money stock:"
   ]
  },
  {
   "cell_type": "code",
   "execution_count": 8,
   "metadata": {},
   "outputs": [
    {
     "data": {
      "image/svg+xml": [
       "<svg height=\"110\" width=\"360\">\n",
       "  <g style=\"fill-opacity:1.0; stroke:black;    stroke-width:1;\">\n",
       "   <text dominant-baseline=\" hanging \" font-size=\"19\" text-anchor=\" middle \" x=\"175\" y=\"0\">\n",
       "    Bank Balance Sheet\n",
       "   </text>\n",
       "   <rect height=\"80\" style=\"fill:rgb(153, 204, 255);\" width=\"175\" x=\"5\" y=\"25\"/>\n",
       "   <text dominant-baseline=\" middle \" font-size=\"16\" text-anchor=\" middle \" x=\"92\" y=\"65\">\n",
       "    CBDC 100\n",
       "   </text>\n",
       "   <rect height=\"80\" style=\"fill:rgb(255, 204, 204);\" width=\"175\" x=\"180\" y=\"25\"/>\n",
       "   <text dominant-baseline=\" middle \" font-size=\"16\" text-anchor=\" middle \" x=\"267\" y=\"65\">\n",
       "    Deposits 100\n",
       "   </text>\n",
       "  </g>\n",
       "</svg>"
      ]
     },
     "metadata": {},
     "output_type": "display_data"
    },
    {
     "data": {
      "image/svg+xml": [
       "<svg height=\"150\" width=\"360\">\n",
       "  <g style=\"fill-opacity:1.0; stroke:black;    stroke-width:1;\">\n",
       "   <text dominant-baseline=\" hanging \" font-size=\"19\" text-anchor=\" middle \" x=\"175\" y=\"0\">\n",
       "    Central Bank Balance Sheet\n",
       "   </text>\n",
       "   <rect height=\"80\" style=\"fill:rgb(153, 204, 255);\" width=\"175\" x=\"5\" y=\"25\"/>\n",
       "   <text dominant-baseline=\" middle \" font-size=\"16\" text-anchor=\" middle \" x=\"92\" y=\"65\">\n",
       "    Assets 100\n",
       "   </text>\n",
       "   <rect height=\"40\" style=\"fill:rgb(153, 204, 255);\" width=\"175\" x=\"5\" y=\"105\"/>\n",
       "   <text dominant-baseline=\" middle \" font-size=\"16\" text-anchor=\" middle \" x=\"92\" y=\"125\">\n",
       "    Loans 50\n",
       "   </text>\n",
       "   <rect height=\"120\" style=\"fill:rgb(255, 204, 204);\" width=\"175\" x=\"180\" y=\"25\"/>\n",
       "   <text dominant-baseline=\" middle \" font-size=\"16\" text-anchor=\" middle \" x=\"267\" y=\"85\">\n",
       "    CBDC 150\n",
       "   </text>\n",
       "  </g>\n",
       "</svg>"
      ]
     },
     "metadata": {},
     "output_type": "display_data"
    },
    {
     "data": {
      "image/svg+xml": [
       "<svg height=\"150\" width=\"360\">\n",
       "  <g style=\"fill-opacity:1.0; stroke:black;    stroke-width:1;\">\n",
       "   <text dominant-baseline=\" hanging \" font-size=\"19\" text-anchor=\" middle \" x=\"175\" y=\"0\">\n",
       "    Private Agent Balance Sheet\n",
       "   </text>\n",
       "   <rect height=\"40\" style=\"fill:rgb(153, 204, 255);\" width=\"175\" x=\"5\" y=\"25\"/>\n",
       "   <text dominant-baseline=\" middle \" font-size=\"16\" text-anchor=\" middle \" x=\"92\" y=\"45\">\n",
       "    CBDC 50\n",
       "   </text>\n",
       "   <rect height=\"80\" style=\"fill:rgb(153, 204, 255);\" width=\"175\" x=\"5\" y=\"65\"/>\n",
       "   <text dominant-baseline=\" middle \" font-size=\"16\" text-anchor=\" middle \" x=\"92\" y=\"105\">\n",
       "    Deposits 100\n",
       "   </text>\n",
       "   <rect height=\"80\" style=\"fill:rgb(204, 255, 204);\" width=\"175\" x=\"180\" y=\"25\"/>\n",
       "   <text dominant-baseline=\" middle \" font-size=\"16\" text-anchor=\" middle \" x=\"267\" y=\"65\">\n",
       "    Equity 100\n",
       "   </text>\n",
       "   <rect height=\"40\" style=\"fill:rgb(255, 204, 204);\" width=\"175\" x=\"180\" y=\"105\"/>\n",
       "   <text dominant-baseline=\" middle \" font-size=\"16\" text-anchor=\" middle \" x=\"267\" y=\"125\">\n",
       "    Loans 50\n",
       "   </text>\n",
       "  </g>\n",
       "</svg>"
      ]
     },
     "metadata": {},
     "output_type": "display_data"
    },
    {
     "name": "stdout",
     "output_type": "stream",
     "text": [
      "Commercial Bank Money: 100\n",
      "Central Bank Money: 50\n",
      "Total (Bank) Money: 150\n"
     ]
    }
   ],
   "source": [
    "central_bank.book(debit=[('Loans',50)],credit=[('CBDC',50)])\n",
    "private_agent.book(debit=[('CBDC',50)],credit=[('Loans',50)])\n",
    "print_balance_sheets_and_money_stocks()"
   ]
  },
  {
   "cell_type": "markdown",
   "metadata": {},
   "source": [
    "The commercial bank now uses some of its stock of CBDC to purchase the loan from the central bank. This process destroys CBDC, it does not impact total money stocks, however, as the CBDC held by the bank was excluded from the total money stock by definition. This transaction thus has no more impact on money stocks, and the resulting balance sheets look the same as in the first version of CBDC lending, where the bank directly transferred its pre-existing CBDC stock to the borrower."
   ]
  },
  {
   "cell_type": "code",
   "execution_count": 9,
   "metadata": {},
   "outputs": [
    {
     "data": {
      "image/svg+xml": [
       "<svg height=\"110\" width=\"360\">\n",
       "  <g style=\"fill-opacity:1.0; stroke:black;    stroke-width:1;\">\n",
       "   <text dominant-baseline=\" hanging \" font-size=\"19\" text-anchor=\" middle \" x=\"175\" y=\"0\">\n",
       "    Bank Balance Sheet\n",
       "   </text>\n",
       "   <rect height=\"40\" style=\"fill:rgb(153, 204, 255);\" width=\"175\" x=\"5\" y=\"25\"/>\n",
       "   <text dominant-baseline=\" middle \" font-size=\"16\" text-anchor=\" middle \" x=\"92\" y=\"45\">\n",
       "    CBDC 50\n",
       "   </text>\n",
       "   <rect height=\"40\" style=\"fill:rgb(153, 204, 255);\" width=\"175\" x=\"5\" y=\"65\"/>\n",
       "   <text dominant-baseline=\" middle \" font-size=\"16\" text-anchor=\" middle \" x=\"92\" y=\"85\">\n",
       "    Loans 50\n",
       "   </text>\n",
       "   <rect height=\"80\" style=\"fill:rgb(255, 204, 204);\" width=\"175\" x=\"180\" y=\"25\"/>\n",
       "   <text dominant-baseline=\" middle \" font-size=\"16\" text-anchor=\" middle \" x=\"267\" y=\"65\">\n",
       "    Deposits 100\n",
       "   </text>\n",
       "  </g>\n",
       "</svg>"
      ]
     },
     "metadata": {},
     "output_type": "display_data"
    },
    {
     "data": {
      "image/svg+xml": [
       "<svg height=\"110\" width=\"360\">\n",
       "  <g style=\"fill-opacity:1.0; stroke:black;    stroke-width:1;\">\n",
       "   <text dominant-baseline=\" hanging \" font-size=\"19\" text-anchor=\" middle \" x=\"175\" y=\"0\">\n",
       "    Central Bank Balance Sheet\n",
       "   </text>\n",
       "   <rect height=\"80\" style=\"fill:rgb(153, 204, 255);\" width=\"175\" x=\"5\" y=\"25\"/>\n",
       "   <text dominant-baseline=\" middle \" font-size=\"16\" text-anchor=\" middle \" x=\"92\" y=\"65\">\n",
       "    Assets 100\n",
       "   </text>\n",
       "   <rect height=\"80\" style=\"fill:rgb(255, 204, 204);\" width=\"175\" x=\"180\" y=\"25\"/>\n",
       "   <text dominant-baseline=\" middle \" font-size=\"16\" text-anchor=\" middle \" x=\"267\" y=\"65\">\n",
       "    CBDC 100\n",
       "   </text>\n",
       "  </g>\n",
       "</svg>"
      ]
     },
     "metadata": {},
     "output_type": "display_data"
    },
    {
     "data": {
      "image/svg+xml": [
       "<svg height=\"150\" width=\"360\">\n",
       "  <g style=\"fill-opacity:1.0; stroke:black;    stroke-width:1;\">\n",
       "   <text dominant-baseline=\" hanging \" font-size=\"19\" text-anchor=\" middle \" x=\"175\" y=\"0\">\n",
       "    Private Agent Balance Sheet\n",
       "   </text>\n",
       "   <rect height=\"40\" style=\"fill:rgb(153, 204, 255);\" width=\"175\" x=\"5\" y=\"25\"/>\n",
       "   <text dominant-baseline=\" middle \" font-size=\"16\" text-anchor=\" middle \" x=\"92\" y=\"45\">\n",
       "    CBDC 50\n",
       "   </text>\n",
       "   <rect height=\"80\" style=\"fill:rgb(153, 204, 255);\" width=\"175\" x=\"5\" y=\"65\"/>\n",
       "   <text dominant-baseline=\" middle \" font-size=\"16\" text-anchor=\" middle \" x=\"92\" y=\"105\">\n",
       "    Deposits 100\n",
       "   </text>\n",
       "   <rect height=\"80\" style=\"fill:rgb(204, 255, 204);\" width=\"175\" x=\"180\" y=\"25\"/>\n",
       "   <text dominant-baseline=\" middle \" font-size=\"16\" text-anchor=\" middle \" x=\"267\" y=\"65\">\n",
       "    Equity 100\n",
       "   </text>\n",
       "   <rect height=\"40\" style=\"fill:rgb(255, 204, 204);\" width=\"175\" x=\"180\" y=\"105\"/>\n",
       "   <text dominant-baseline=\" middle \" font-size=\"16\" text-anchor=\" middle \" x=\"267\" y=\"125\">\n",
       "    Loans 50\n",
       "   </text>\n",
       "  </g>\n",
       "</svg>"
      ]
     },
     "metadata": {},
     "output_type": "display_data"
    },
    {
     "name": "stdout",
     "output_type": "stream",
     "text": [
      "Commercial Bank Money: 100\n",
      "Central Bank Money: 50\n",
      "Total (Bank) Money: 150\n"
     ]
    }
   ],
   "source": [
    "bank.book(debit=[('Loans',50)],credit=[('CBDC',50)])\n",
    "central_bank.book(debit=[('CBDC',50)],credit=[('Loans',50)])\n",
    "print_balance_sheets_and_money_stocks()"
   ]
  },
  {
   "cell_type": "markdown",
   "metadata": {},
   "source": [
    "### Case 2b: Unfavourable case (Herstatt-type risk materialization)\n",
    "In order to demonstrate the economic difference between the two versions of CBDC lending, we now assume that the central bank creates another loan for the same private agent. The intial loan creation booking statement and the effect on the money stock is identical."
   ]
  },
  {
   "cell_type": "code",
   "execution_count": 10,
   "metadata": {},
   "outputs": [
    {
     "data": {
      "image/svg+xml": [
       "<svg height=\"110\" width=\"360\">\n",
       "  <g style=\"fill-opacity:1.0; stroke:black;    stroke-width:1;\">\n",
       "   <text dominant-baseline=\" hanging \" font-size=\"19\" text-anchor=\" middle \" x=\"175\" y=\"0\">\n",
       "    Bank Balance Sheet\n",
       "   </text>\n",
       "   <rect height=\"40\" style=\"fill:rgb(153, 204, 255);\" width=\"175\" x=\"5\" y=\"25\"/>\n",
       "   <text dominant-baseline=\" middle \" font-size=\"16\" text-anchor=\" middle \" x=\"92\" y=\"45\">\n",
       "    CBDC 50\n",
       "   </text>\n",
       "   <rect height=\"40\" style=\"fill:rgb(153, 204, 255);\" width=\"175\" x=\"5\" y=\"65\"/>\n",
       "   <text dominant-baseline=\" middle \" font-size=\"16\" text-anchor=\" middle \" x=\"92\" y=\"85\">\n",
       "    Loans 50\n",
       "   </text>\n",
       "   <rect height=\"80\" style=\"fill:rgb(255, 204, 204);\" width=\"175\" x=\"180\" y=\"25\"/>\n",
       "   <text dominant-baseline=\" middle \" font-size=\"16\" text-anchor=\" middle \" x=\"267\" y=\"65\">\n",
       "    Deposits 100\n",
       "   </text>\n",
       "  </g>\n",
       "</svg>"
      ]
     },
     "metadata": {},
     "output_type": "display_data"
    },
    {
     "data": {
      "image/svg+xml": [
       "<svg height=\"150\" width=\"360\">\n",
       "  <g style=\"fill-opacity:1.0; stroke:black;    stroke-width:1;\">\n",
       "   <text dominant-baseline=\" hanging \" font-size=\"19\" text-anchor=\" middle \" x=\"175\" y=\"0\">\n",
       "    Central Bank Balance Sheet\n",
       "   </text>\n",
       "   <rect height=\"80\" style=\"fill:rgb(153, 204, 255);\" width=\"175\" x=\"5\" y=\"25\"/>\n",
       "   <text dominant-baseline=\" middle \" font-size=\"16\" text-anchor=\" middle \" x=\"92\" y=\"65\">\n",
       "    Assets 100\n",
       "   </text>\n",
       "   <rect height=\"40\" style=\"fill:rgb(153, 204, 255);\" width=\"175\" x=\"5\" y=\"105\"/>\n",
       "   <text dominant-baseline=\" middle \" font-size=\"16\" text-anchor=\" middle \" x=\"92\" y=\"125\">\n",
       "    Loans 50\n",
       "   </text>\n",
       "   <rect height=\"120\" style=\"fill:rgb(255, 204, 204);\" width=\"175\" x=\"180\" y=\"25\"/>\n",
       "   <text dominant-baseline=\" middle \" font-size=\"16\" text-anchor=\" middle \" x=\"267\" y=\"85\">\n",
       "    CBDC 150\n",
       "   </text>\n",
       "  </g>\n",
       "</svg>"
      ]
     },
     "metadata": {},
     "output_type": "display_data"
    },
    {
     "data": {
      "image/svg+xml": [
       "<svg height=\"190\" width=\"360\">\n",
       "  <g style=\"fill-opacity:1.0; stroke:black;    stroke-width:1;\">\n",
       "   <text dominant-baseline=\" hanging \" font-size=\"19\" text-anchor=\" middle \" x=\"175\" y=\"0\">\n",
       "    Private Agent Balance Sheet\n",
       "   </text>\n",
       "   <rect height=\"80\" style=\"fill:rgb(153, 204, 255);\" width=\"175\" x=\"5\" y=\"25\"/>\n",
       "   <text dominant-baseline=\" middle \" font-size=\"16\" text-anchor=\" middle \" x=\"92\" y=\"65\">\n",
       "    CBDC 100\n",
       "   </text>\n",
       "   <rect height=\"80\" style=\"fill:rgb(153, 204, 255);\" width=\"175\" x=\"5\" y=\"105\"/>\n",
       "   <text dominant-baseline=\" middle \" font-size=\"16\" text-anchor=\" middle \" x=\"92\" y=\"145\">\n",
       "    Deposits 100\n",
       "   </text>\n",
       "   <rect height=\"80\" style=\"fill:rgb(204, 255, 204);\" width=\"175\" x=\"180\" y=\"25\"/>\n",
       "   <text dominant-baseline=\" middle \" font-size=\"16\" text-anchor=\" middle \" x=\"267\" y=\"65\">\n",
       "    Equity 100\n",
       "   </text>\n",
       "   <rect height=\"80\" style=\"fill:rgb(255, 204, 204);\" width=\"175\" x=\"180\" y=\"105\"/>\n",
       "   <text dominant-baseline=\" middle \" font-size=\"16\" text-anchor=\" middle \" x=\"267\" y=\"145\">\n",
       "    Loans 100\n",
       "   </text>\n",
       "  </g>\n",
       "</svg>"
      ]
     },
     "metadata": {},
     "output_type": "display_data"
    },
    {
     "name": "stdout",
     "output_type": "stream",
     "text": [
      "Commercial Bank Money: 100\n",
      "Central Bank Money: 100\n",
      "Total (Bank) Money: 200\n"
     ]
    }
   ],
   "source": [
    "central_bank.book(debit=[('Loans',50)],credit=[('CBDC',50)])\n",
    "private_agent.book(debit=[('CBDC',50)],credit=[('Loans',50)])\n",
    "print_balance_sheets_and_money_stocks()"
   ]
  },
  {
   "cell_type": "markdown",
   "metadata": {},
   "source": [
    "However, before the bank can purchase the loan from the central bank, it is met with an unexpected shock in the form having to make a payment to another agent, depleting its stock of CBDC:"
   ]
  },
  {
   "cell_type": "code",
   "execution_count": 11,
   "metadata": {},
   "outputs": [
    {
     "data": {
      "image/svg+xml": [
       "<svg height=\"70\" width=\"360\">\n",
       "  <g style=\"fill-opacity:1.0; stroke:black;    stroke-width:1;\">\n",
       "   <text dominant-baseline=\" hanging \" font-size=\"19\" text-anchor=\" middle \" x=\"175\" y=\"0\">\n",
       "    Private Agent 2 Balance Sheet\n",
       "   </text>\n",
       "   <rect height=\"40\" style=\"fill:rgb(153, 204, 255);\" width=\"175\" x=\"5\" y=\"25\"/>\n",
       "   <text dominant-baseline=\" middle \" font-size=\"16\" text-anchor=\" middle \" x=\"92\" y=\"45\">\n",
       "    CBDC 50\n",
       "   </text>\n",
       "   <rect height=\"40\" style=\"fill:rgb(204, 255, 204);\" width=\"175\" x=\"180\" y=\"25\"/>\n",
       "   <text dominant-baseline=\" middle \" font-size=\"16\" text-anchor=\" middle \" x=\"267\" y=\"45\">\n",
       "    Equity 50\n",
       "   </text>\n",
       "  </g>\n",
       "</svg>"
      ]
     },
     "metadata": {},
     "output_type": "display_data"
    },
    {
     "data": {
      "image/svg+xml": [
       "<svg height=\"110\" width=\"360\">\n",
       "  <g style=\"fill-opacity:1.0; stroke:black;    stroke-width:1;\">\n",
       "   <text dominant-baseline=\" hanging \" font-size=\"19\" text-anchor=\" middle \" x=\"175\" y=\"0\">\n",
       "    Bank Balance Sheet\n",
       "   </text>\n",
       "   <rect height=\"40\" style=\"fill:rgb(255, 102, 102);\" width=\"175\" x=\"5\" y=\"25\"/>\n",
       "   <text dominant-baseline=\" middle \" font-size=\"16\" text-anchor=\" middle \" x=\"92\" y=\"45\">\n",
       "    Neg. Equity 50\n",
       "   </text>\n",
       "   <rect height=\"40\" style=\"fill:rgb(153, 204, 255);\" width=\"175\" x=\"5\" y=\"65\"/>\n",
       "   <text dominant-baseline=\" middle \" font-size=\"16\" text-anchor=\" middle \" x=\"92\" y=\"85\">\n",
       "    Loans 50\n",
       "   </text>\n",
       "   <rect height=\"80\" style=\"fill:rgb(255, 204, 204);\" width=\"175\" x=\"180\" y=\"25\"/>\n",
       "   <text dominant-baseline=\" middle \" font-size=\"16\" text-anchor=\" middle \" x=\"267\" y=\"65\">\n",
       "    Deposits 100\n",
       "   </text>\n",
       "  </g>\n",
       "</svg>"
      ]
     },
     "metadata": {},
     "output_type": "display_data"
    },
    {
     "data": {
      "image/svg+xml": [
       "<svg height=\"150\" width=\"360\">\n",
       "  <g style=\"fill-opacity:1.0; stroke:black;    stroke-width:1;\">\n",
       "   <text dominant-baseline=\" hanging \" font-size=\"19\" text-anchor=\" middle \" x=\"175\" y=\"0\">\n",
       "    Central Bank Balance Sheet\n",
       "   </text>\n",
       "   <rect height=\"80\" style=\"fill:rgb(153, 204, 255);\" width=\"175\" x=\"5\" y=\"25\"/>\n",
       "   <text dominant-baseline=\" middle \" font-size=\"16\" text-anchor=\" middle \" x=\"92\" y=\"65\">\n",
       "    Assets 100\n",
       "   </text>\n",
       "   <rect height=\"40\" style=\"fill:rgb(153, 204, 255);\" width=\"175\" x=\"5\" y=\"105\"/>\n",
       "   <text dominant-baseline=\" middle \" font-size=\"16\" text-anchor=\" middle \" x=\"92\" y=\"125\">\n",
       "    Loans 50\n",
       "   </text>\n",
       "   <rect height=\"120\" style=\"fill:rgb(255, 204, 204);\" width=\"175\" x=\"180\" y=\"25\"/>\n",
       "   <text dominant-baseline=\" middle \" font-size=\"16\" text-anchor=\" middle \" x=\"267\" y=\"85\">\n",
       "    CBDC 150\n",
       "   </text>\n",
       "  </g>\n",
       "</svg>"
      ]
     },
     "metadata": {},
     "output_type": "display_data"
    },
    {
     "data": {
      "image/svg+xml": [
       "<svg height=\"190\" width=\"360\">\n",
       "  <g style=\"fill-opacity:1.0; stroke:black;    stroke-width:1;\">\n",
       "   <text dominant-baseline=\" hanging \" font-size=\"19\" text-anchor=\" middle \" x=\"175\" y=\"0\">\n",
       "    Private Agent Balance Sheet\n",
       "   </text>\n",
       "   <rect height=\"80\" style=\"fill:rgb(153, 204, 255);\" width=\"175\" x=\"5\" y=\"25\"/>\n",
       "   <text dominant-baseline=\" middle \" font-size=\"16\" text-anchor=\" middle \" x=\"92\" y=\"65\">\n",
       "    CBDC 100\n",
       "   </text>\n",
       "   <rect height=\"80\" style=\"fill:rgb(153, 204, 255);\" width=\"175\" x=\"5\" y=\"105\"/>\n",
       "   <text dominant-baseline=\" middle \" font-size=\"16\" text-anchor=\" middle \" x=\"92\" y=\"145\">\n",
       "    Deposits 100\n",
       "   </text>\n",
       "   <rect height=\"80\" style=\"fill:rgb(204, 255, 204);\" width=\"175\" x=\"180\" y=\"25\"/>\n",
       "   <text dominant-baseline=\" middle \" font-size=\"16\" text-anchor=\" middle \" x=\"267\" y=\"65\">\n",
       "    Equity 100\n",
       "   </text>\n",
       "   <rect height=\"80\" style=\"fill:rgb(255, 204, 204);\" width=\"175\" x=\"180\" y=\"105\"/>\n",
       "   <text dominant-baseline=\" middle \" font-size=\"16\" text-anchor=\" middle \" x=\"267\" y=\"145\">\n",
       "    Loans 100\n",
       "   </text>\n",
       "  </g>\n",
       "</svg>"
      ]
     },
     "metadata": {},
     "output_type": "display_data"
    },
    {
     "name": "stdout",
     "output_type": "stream",
     "text": [
      "Commercial Bank Money: 100\n",
      "Central Bank Money: 150\n",
      "Total (Bank) Money: 250\n"
     ]
    }
   ],
   "source": [
    "bank.book(debit=[('Expenses',50)],credit=[('CBDC',50)])\n",
    "private_agent2.book(debit=[('CBDC',50)],credit=[('Revenues',50)])\n",
    "bank.book_end_of_period()\n",
    "private_agent2.book_end_of_period()\n",
    "display_svg(SVG(private_agent2.draw_balance_sheet(\"Private Agent 2 Balance Sheet\")))\n",
    "print_balance_sheets_and_money_stocks()"
   ]
  },
  {
   "cell_type": "markdown",
   "metadata": {},
   "source": [
    "With the realization of this shock, the balance sheet of the central bank now looks different from the first version and also from the previous case. However, this event alone does not mean that the central bank is facing losses. It is now only faced with a credit risk which it was expecting to be able to transfer to the commercial bank. We now assume that this credit risk materializes as the first private agent, who was taken out two loans worth 100 in total so far, is also met with an unexpected shock and has to make a payment to another private agent."
   ]
  },
  {
   "cell_type": "code",
   "execution_count": 12,
   "metadata": {},
   "outputs": [
    {
     "data": {
      "image/svg+xml": [
       "<svg height=\"110\" width=\"360\">\n",
       "  <g style=\"fill-opacity:1.0; stroke:black;    stroke-width:1;\">\n",
       "   <text dominant-baseline=\" hanging \" font-size=\"19\" text-anchor=\" middle \" x=\"175\" y=\"0\">\n",
       "    Private Agent Balance Sheet\n",
       "   </text>\n",
       "   <rect height=\"80\" style=\"fill:rgb(255, 102, 102);\" width=\"175\" x=\"5\" y=\"25\"/>\n",
       "   <text dominant-baseline=\" middle \" font-size=\"16\" text-anchor=\" middle \" x=\"92\" y=\"65\">\n",
       "    Neg. Equity 100\n",
       "   </text>\n",
       "   <rect height=\"80\" style=\"fill:rgb(255, 204, 204);\" width=\"175\" x=\"180\" y=\"25\"/>\n",
       "   <text dominant-baseline=\" middle \" font-size=\"16\" text-anchor=\" middle \" x=\"267\" y=\"65\">\n",
       "    Loans 100\n",
       "   </text>\n",
       "  </g>\n",
       "</svg>"
      ]
     },
     "metadata": {},
     "output_type": "display_data"
    },
    {
     "data": {
      "image/svg+xml": [
       "<svg height=\"230\" width=\"360\">\n",
       "  <g style=\"fill-opacity:1.0; stroke:black;    stroke-width:1;\">\n",
       "   <text dominant-baseline=\" hanging \" font-size=\"19\" text-anchor=\" middle \" x=\"175\" y=\"0\">\n",
       "    Private Agent 2 Balance Sheet\n",
       "   </text>\n",
       "   <rect height=\"120\" style=\"fill:rgb(153, 204, 255);\" width=\"175\" x=\"5\" y=\"25\"/>\n",
       "   <text dominant-baseline=\" middle \" font-size=\"16\" text-anchor=\" middle \" x=\"92\" y=\"85\">\n",
       "    CBDC 150\n",
       "   </text>\n",
       "   <rect height=\"80\" style=\"fill:rgb(153, 204, 255);\" width=\"175\" x=\"5\" y=\"145\"/>\n",
       "   <text dominant-baseline=\" middle \" font-size=\"16\" text-anchor=\" middle \" x=\"92\" y=\"185\">\n",
       "    Deposits 100\n",
       "   </text>\n",
       "   <rect height=\"200\" style=\"fill:rgb(204, 255, 204);\" width=\"175\" x=\"180\" y=\"25\"/>\n",
       "   <text dominant-baseline=\" middle \" font-size=\"16\" text-anchor=\" middle \" x=\"267\" y=\"125\">\n",
       "    Equity 250\n",
       "   </text>\n",
       "  </g>\n",
       "</svg>"
      ]
     },
     "metadata": {},
     "output_type": "display_data"
    }
   ],
   "source": [
    "private_agent.book(debit=[('Expenses',200)],credit=[('CBDC',100),('Deposits',100)])\n",
    "private_agent2.book(debit=[('CBDC',100),('Deposits',100)],credit=[('Revenues',200)])\n",
    "private_agent.book_end_of_period()\n",
    "private_agent2.book_end_of_period()\n",
    "display_svg(SVG(private_agent.draw_balance_sheet(\"Private Agent Balance Sheet\")))\n",
    "display_svg(SVG(private_agent2.draw_balance_sheet(\"Private Agent 2 Balance Sheet\")))"
   ]
  },
  {
   "cell_type": "markdown",
   "metadata": {},
   "source": [
    "Since the debtor is now insolvent and has no more assets, both its creditors (the central bank and the commercial bank) now have to write down their exposures. Note that this impairment means that the commercial bank is now insolvent. Hence, all creditors of the commercial bank now have to write down their exposures towards the commercial bank, and we observe the start of a small default cascade. Note that in practice, under current regulations, the default of the commercial bank might trigger a number of bail-in or bail-out mechanisms in the form of e.g. a deposit insurance fund bailing or the government bailing out depositors or all creditors."
   ]
  },
  {
   "cell_type": "code",
   "execution_count": 13,
   "metadata": {},
   "outputs": [
    {
     "data": {
      "image/svg+xml": [
       "<svg height=\"150\" width=\"360\">\n",
       "  <g style=\"fill-opacity:1.0; stroke:black;    stroke-width:1;\">\n",
       "   <text dominant-baseline=\" hanging \" font-size=\"19\" text-anchor=\" middle \" x=\"175\" y=\"0\">\n",
       "    Private Agent 2 Balance Sheet\n",
       "   </text>\n",
       "   <rect height=\"120\" style=\"fill:rgb(153, 204, 255);\" width=\"175\" x=\"5\" y=\"25\"/>\n",
       "   <text dominant-baseline=\" middle \" font-size=\"16\" text-anchor=\" middle \" x=\"92\" y=\"85\">\n",
       "    CBDC 150\n",
       "   </text>\n",
       "   <rect height=\"120\" style=\"fill:rgb(204, 255, 204);\" width=\"175\" x=\"180\" y=\"25\"/>\n",
       "   <text dominant-baseline=\" middle \" font-size=\"16\" text-anchor=\" middle \" x=\"267\" y=\"85\">\n",
       "    Equity 150\n",
       "   </text>\n",
       "  </g>\n",
       "</svg>"
      ]
     },
     "metadata": {},
     "output_type": "display_data"
    },
    {
     "data": {
      "image/svg+xml": [
       "<svg height=\"110\" width=\"360\">\n",
       "  <g style=\"fill-opacity:1.0; stroke:black;    stroke-width:1;\">\n",
       "   <text dominant-baseline=\" hanging \" font-size=\"19\" text-anchor=\" middle \" x=\"175\" y=\"0\">\n",
       "    Bank Balance Sheet\n",
       "   </text>\n",
       "   <rect height=\"80\" style=\"fill:rgb(255, 102, 102);\" width=\"175\" x=\"5\" y=\"25\"/>\n",
       "   <text dominant-baseline=\" middle \" font-size=\"16\" text-anchor=\" middle \" x=\"92\" y=\"65\">\n",
       "    Neg. Equity 100\n",
       "   </text>\n",
       "   <rect height=\"80\" style=\"fill:rgb(255, 204, 204);\" width=\"175\" x=\"180\" y=\"25\"/>\n",
       "   <text dominant-baseline=\" middle \" font-size=\"16\" text-anchor=\" middle \" x=\"267\" y=\"65\">\n",
       "    Deposits 100\n",
       "   </text>\n",
       "  </g>\n",
       "</svg>"
      ]
     },
     "metadata": {},
     "output_type": "display_data"
    },
    {
     "data": {
      "image/svg+xml": [
       "<svg height=\"150\" width=\"360\">\n",
       "  <g style=\"fill-opacity:1.0; stroke:black;    stroke-width:1;\">\n",
       "   <text dominant-baseline=\" hanging \" font-size=\"19\" text-anchor=\" middle \" x=\"175\" y=\"0\">\n",
       "    Central Bank Balance Sheet\n",
       "   </text>\n",
       "   <rect height=\"40\" style=\"fill:rgb(255, 102, 102);\" width=\"175\" x=\"5\" y=\"25\"/>\n",
       "   <text dominant-baseline=\" middle \" font-size=\"16\" text-anchor=\" middle \" x=\"92\" y=\"45\">\n",
       "    Neg. Equity 50\n",
       "   </text>\n",
       "   <rect height=\"80\" style=\"fill:rgb(153, 204, 255);\" width=\"175\" x=\"5\" y=\"65\"/>\n",
       "   <text dominant-baseline=\" middle \" font-size=\"16\" text-anchor=\" middle \" x=\"92\" y=\"105\">\n",
       "    Assets 100\n",
       "   </text>\n",
       "   <rect height=\"120\" style=\"fill:rgb(255, 204, 204);\" width=\"175\" x=\"180\" y=\"25\"/>\n",
       "   <text dominant-baseline=\" middle \" font-size=\"16\" text-anchor=\" middle \" x=\"267\" y=\"85\">\n",
       "    CBDC 150\n",
       "   </text>\n",
       "  </g>\n",
       "</svg>"
      ]
     },
     "metadata": {},
     "output_type": "display_data"
    },
    {
     "data": {
      "image/svg+xml": [
       "<svg height=\"110\" width=\"360\">\n",
       "  <g style=\"fill-opacity:1.0; stroke:black;    stroke-width:1;\">\n",
       "   <text dominant-baseline=\" hanging \" font-size=\"19\" text-anchor=\" middle \" x=\"175\" y=\"0\">\n",
       "    Private Agent Balance Sheet\n",
       "   </text>\n",
       "   <rect height=\"80\" style=\"fill:rgb(255, 102, 102);\" width=\"175\" x=\"5\" y=\"25\"/>\n",
       "   <text dominant-baseline=\" middle \" font-size=\"16\" text-anchor=\" middle \" x=\"92\" y=\"65\">\n",
       "    Neg. Equity 100\n",
       "   </text>\n",
       "   <rect height=\"80\" style=\"fill:rgb(255, 204, 204);\" width=\"175\" x=\"180\" y=\"25\"/>\n",
       "   <text dominant-baseline=\" middle \" font-size=\"16\" text-anchor=\" middle \" x=\"267\" y=\"65\">\n",
       "    Loans 100\n",
       "   </text>\n",
       "  </g>\n",
       "</svg>"
      ]
     },
     "metadata": {},
     "output_type": "display_data"
    },
    {
     "name": "stdout",
     "output_type": "stream",
     "text": [
      "Commercial Bank Money: 0\n",
      "Central Bank Money: 150\n",
      "Total (Bank) Money: 150\n"
     ]
    }
   ],
   "source": [
    "bank.book(debit=[('Impairments',50)],credit=[('Loans',50)])\n",
    "private_agent2.book(debit=[('Impairments',100)],credit=[('Deposits',100)])\n",
    "central_bank.book(debit=[('Impairments',50)],credit=[('Loans',50)])\n",
    "bank.book_end_of_period()\n",
    "private_agent2.book_end_of_period()\n",
    "central_bank.book_end_of_period()\n",
    "display_svg(SVG(private_agent2.draw_balance_sheet(\"Private Agent 2 Balance Sheet\")))\n",
    "print_balance_sheets_and_money_stocks()"
   ]
  }
 ],
 "metadata": {
  "kernelspec": {
   "display_name": "Python 3",
   "language": "python",
   "name": "python3"
  },
  "language_info": {
   "codemirror_mode": {
    "name": "ipython",
    "version": 3
   },
   "file_extension": ".py",
   "mimetype": "text/x-python",
   "name": "python",
   "nbconvert_exporter": "python",
   "pygments_lexer": "ipython3",
   "version": "3.7.4"
  }
 },
 "nbformat": 4,
 "nbformat_minor": 2
}
