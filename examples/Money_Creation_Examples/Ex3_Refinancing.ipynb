{
 "cells": [
  {
   "cell_type": "markdown",
   "metadata": {},
   "source": [
    "[Money Creation Examples](http://www.siebenbrunner.com/moneycreation/) > **Example 3**:\n",
    "# Payments and bank refinancing\n",
    "This notebook presents several standard transactions for banks, how they are represented as booking statements, and their implications for the money supply. In particular we consider:\n",
    "\n",
    "- Deposit transfers (within a bank and between customers of different banks)\n",
    "- Cash withdrawals\n",
    "- Interbank lending\n",
    "- Wholesale Funding\n",
    "- Central Bank Funding\n",
    "\n",
    "We start by importing required utilities:"
   ]
  },
  {
   "cell_type": "code",
   "execution_count": 1,
   "metadata": {},
   "outputs": [],
   "source": [
    "import os\n",
    "import sys\n",
    "\n",
    "base_path = os.path.realpath(os.getcwd()+\"/../..\")\n",
    "sys.path.append(base_path)\n",
    "\n",
    "from abcFinance import Ledger, Account, AccountSide"
   ]
  },
  {
   "cell_type": "markdown",
   "metadata": {},
   "source": [
    "We further define a function that computes the money stocks according to our defined taxonomy:"
   ]
  },
  {
   "cell_type": "code",
   "execution_count": 2,
   "metadata": {},
   "outputs": [],
   "source": [
    "from IPython.core.display import SVG\n",
    "from IPython.display import display_svg\n",
    "\n",
    "def print_money_stocks():\n",
    "    # Bank money: bank liabilities that are money\n",
    "    bank_money = bank1.get_balance('Deposits Customer A')[1]\n",
    "    bank_money += bank1.get_balance('Deposits Customer B')[1]\n",
    "    bank_money += bank2.get_balance('Deposits Customer C')[1]\n",
    "    \n",
    "    central_bank_money = private_agentA.get_balance('Cash')[1]\n",
    "    central_bank_money += private_agentB.get_balance('Cash')[1]\n",
    "    central_bank_money += private_agentC.get_balance('Cash')[1]\n",
    "    \n",
    "    print(\"Commercial Bank Money:\",bank_money)\n",
    "    if central_bank_money>0:\n",
    "        print(\"Central Bank Money:\",central_bank_money)\n",
    "    print(\"Total (Bank) Money:\",bank_money+central_bank_money)\n",
    "\n",
    "def print_balance_sheets_and_money_stocks(*args):\n",
    "    private_agentA.book_end_of_period()\n",
    "    private_agentB.book_end_of_period()\n",
    "    private_agentC.book_end_of_period()\n",
    "    \n",
    "    if len(args)==0:\n",
    "        args = (\"b1\",\"b2\",\"pA\",\"pB\",\"pC\",\"cb\")\n",
    "    if \"b1\" in args and bank1.get_total_assets() > 0: display_svg(SVG(bank1.draw_balance_sheet(\"Bank 1 Balance Sheet\", width=400)))\n",
    "    if \"b2\" in args and bank2.get_total_assets() > 0: display_svg(SVG(bank2.draw_balance_sheet(\"Bank 2 Balance Sheet\", width=400)))\n",
    "    if \"pA\" in args and private_agentA.get_total_assets() > 0: display_svg(SVG(private_agentA.draw_balance_sheet(\"Private Agent A Balance Sheet\", width=400)))\n",
    "    if \"pB\" in args and private_agentB.get_total_assets() > 0: display_svg(SVG(private_agentB.draw_balance_sheet(\"Private Agent B Balance Sheet\", width=400)))\n",
    "    if \"pC\" in args and private_agentC.get_total_assets() > 0: display_svg(SVG(private_agentC.draw_balance_sheet(\"Private Agent C Balance Sheet\", width=400)))\n",
    "    if \"cb\" in args and central_bank.get_total_assets() > 0: display_svg(SVG(central_bank.draw_balance_sheet(\"Central Bank Balance Sheet\", width=400)))\n",
    "        \n",
    "    print_money_stocks()"
   ]
  },
  {
   "cell_type": "markdown",
   "metadata": {},
   "source": [
    "## Declaration of agents\n",
    "We define a system with one central bank, two commercial banks and three private sector agents."
   ]
  },
  {
   "cell_type": "code",
   "execution_count": 3,
   "metadata": {},
   "outputs": [],
   "source": [
    "bank1 = Ledger(residual_account_name=\"Equity\")\n",
    "bank2 = Ledger(residual_account_name=\"Equity\")\n",
    "private_agentA = Ledger(residual_account_name=\"Equity\")\n",
    "private_agentB = Ledger(residual_account_name=\"Equity\")\n",
    "private_agentC = Ledger(residual_account_name=\"Equity\")\n",
    "central_bank = Ledger(residual_account_name=\"Equity\")\n",
    "\n",
    "bank1.make_asset_accounts(['Cash','Loans','Reserves'])\n",
    "bank1.make_liability_accounts(['Deposits Customer A','Deposits Customer B','Interbank Deposits', 'Issued Bonds', 'Central Bank Funding'])\n",
    "bank2.make_asset_accounts(['Cash','Loans','Reserves','Interbank Loans'])\n",
    "bank2.make_liability_accounts(['Deposits Customer C'])\n",
    "\n",
    "private_agentA.make_asset_accounts(['Cash','Deposits'])\n",
    "private_agentA.make_liability_accounts(['Loans'])\n",
    "private_agentA.make_flow_accounts(['Income','Expenses'])\n",
    "private_agentB.make_asset_accounts(['Cash','Deposits'])\n",
    "private_agentB.make_liability_accounts(['Loans'])\n",
    "private_agentB.make_flow_accounts(['Income','Expenses'])\n",
    "private_agentC.make_asset_accounts(['Cash','Deposits','Bond Holdings'])\n",
    "private_agentC.make_liability_accounts(['Loans'])\n",
    "private_agentC.make_flow_accounts(['Income','Expenses'])\n",
    "\n",
    "central_bank.make_asset_accounts(['Assets','Loans to Banks'])\n",
    "central_bank.make_liability_accounts(['Cash','Reserves'])"
   ]
  },
  {
   "cell_type": "markdown",
   "metadata": {},
   "source": [
    "## Initialization\n",
    "We start by endowing each of the agents with some money holdings. The balance sheets of the agents will evolve over the course of the different examples."
   ]
  },
  {
   "cell_type": "code",
   "execution_count": 4,
   "metadata": {},
   "outputs": [
    {
     "data": {
      "image/svg+xml": [
       "<svg height=\"190\" width=\"410\">\n",
       "  <g style=\"fill-opacity:1.0; stroke:black;    stroke-width:1;\">\n",
       "   <text dominant-baseline=\" hanging \" font-size=\"19\" text-anchor=\" middle \" x=\"200\" y=\"0\">\n",
       "    Bank 1 Balance Sheet\n",
       "   </text>\n",
       "   <rect height=\"160\" style=\"fill:rgb(153, 204, 255);\" width=\"200\" x=\"5\" y=\"25\"/>\n",
       "   <text dominant-baseline=\" middle \" font-size=\"16\" text-anchor=\" middle \" x=\"105\" y=\"105\">\n",
       "    Reserves 200\n",
       "   </text>\n",
       "   <rect height=\"40\" style=\"fill:rgb(204, 255, 204);\" width=\"200\" x=\"205\" y=\"25\"/>\n",
       "   <text dominant-baseline=\" middle \" font-size=\"16\" text-anchor=\" middle \" x=\"305\" y=\"45\">\n",
       "    Equity 50\n",
       "   </text>\n",
       "   <rect height=\"80\" style=\"fill:rgb(255, 204, 204);\" width=\"200\" x=\"205\" y=\"65\"/>\n",
       "   <text dominant-baseline=\" middle \" font-size=\"16\" text-anchor=\" middle \" x=\"305\" y=\"105\">\n",
       "    Deposits Customer A 100\n",
       "   </text>\n",
       "   <rect height=\"40\" style=\"fill:rgb(255, 204, 204);\" width=\"200\" x=\"205\" y=\"145\"/>\n",
       "   <text dominant-baseline=\" middle \" font-size=\"16\" text-anchor=\" middle \" x=\"305\" y=\"165\">\n",
       "    Deposits Customer B 50\n",
       "   </text>\n",
       "  </g>\n",
       "</svg>"
      ]
     },
     "metadata": {},
     "output_type": "display_data"
    },
    {
     "data": {
      "image/svg+xml": [
       "<svg height=\"110\" width=\"410\">\n",
       "  <g style=\"fill-opacity:1.0; stroke:black;    stroke-width:1;\">\n",
       "   <text dominant-baseline=\" hanging \" font-size=\"19\" text-anchor=\" middle \" x=\"200\" y=\"0\">\n",
       "    Bank 2 Balance Sheet\n",
       "   </text>\n",
       "   <rect height=\"80\" style=\"fill:rgb(153, 204, 255);\" width=\"200\" x=\"5\" y=\"25\"/>\n",
       "   <text dominant-baseline=\" middle \" font-size=\"16\" text-anchor=\" middle \" x=\"105\" y=\"65\">\n",
       "    Reserves 100\n",
       "   </text>\n",
       "   <rect height=\"40\" style=\"fill:rgb(204, 255, 204);\" width=\"200\" x=\"205\" y=\"25\"/>\n",
       "   <text dominant-baseline=\" middle \" font-size=\"16\" text-anchor=\" middle \" x=\"305\" y=\"45\">\n",
       "    Equity 50\n",
       "   </text>\n",
       "   <rect height=\"40\" style=\"fill:rgb(255, 204, 204);\" width=\"200\" x=\"205\" y=\"65\"/>\n",
       "   <text dominant-baseline=\" middle \" font-size=\"16\" text-anchor=\" middle \" x=\"305\" y=\"85\">\n",
       "    Deposits Customer C 50\n",
       "   </text>\n",
       "  </g>\n",
       "</svg>"
      ]
     },
     "metadata": {},
     "output_type": "display_data"
    },
    {
     "data": {
      "image/svg+xml": [
       "<svg height=\"110\" width=\"410\">\n",
       "  <g style=\"fill-opacity:1.0; stroke:black;    stroke-width:1;\">\n",
       "   <text dominant-baseline=\" hanging \" font-size=\"19\" text-anchor=\" middle \" x=\"200\" y=\"0\">\n",
       "    Private Agent A Balance Sheet\n",
       "   </text>\n",
       "   <rect height=\"80\" style=\"fill:rgb(153, 204, 255);\" width=\"200\" x=\"5\" y=\"25\"/>\n",
       "   <text dominant-baseline=\" middle \" font-size=\"16\" text-anchor=\" middle \" x=\"105\" y=\"65\">\n",
       "    Deposits 100\n",
       "   </text>\n",
       "   <rect height=\"80\" style=\"fill:rgb(204, 255, 204);\" width=\"200\" x=\"205\" y=\"25\"/>\n",
       "   <text dominant-baseline=\" middle \" font-size=\"16\" text-anchor=\" middle \" x=\"305\" y=\"65\">\n",
       "    Equity 100\n",
       "   </text>\n",
       "  </g>\n",
       "</svg>"
      ]
     },
     "metadata": {},
     "output_type": "display_data"
    },
    {
     "data": {
      "image/svg+xml": [
       "<svg height=\"70\" width=\"410\">\n",
       "  <g style=\"fill-opacity:1.0; stroke:black;    stroke-width:1;\">\n",
       "   <text dominant-baseline=\" hanging \" font-size=\"19\" text-anchor=\" middle \" x=\"200\" y=\"0\">\n",
       "    Private Agent B Balance Sheet\n",
       "   </text>\n",
       "   <rect height=\"40\" style=\"fill:rgb(153, 204, 255);\" width=\"200\" x=\"5\" y=\"25\"/>\n",
       "   <text dominant-baseline=\" middle \" font-size=\"16\" text-anchor=\" middle \" x=\"105\" y=\"45\">\n",
       "    Deposits 50\n",
       "   </text>\n",
       "   <rect height=\"40\" style=\"fill:rgb(204, 255, 204);\" width=\"200\" x=\"205\" y=\"25\"/>\n",
       "   <text dominant-baseline=\" middle \" font-size=\"16\" text-anchor=\" middle \" x=\"305\" y=\"45\">\n",
       "    Equity 50\n",
       "   </text>\n",
       "  </g>\n",
       "</svg>"
      ]
     },
     "metadata": {},
     "output_type": "display_data"
    },
    {
     "data": {
      "image/svg+xml": [
       "<svg height=\"70\" width=\"410\">\n",
       "  <g style=\"fill-opacity:1.0; stroke:black;    stroke-width:1;\">\n",
       "   <text dominant-baseline=\" hanging \" font-size=\"19\" text-anchor=\" middle \" x=\"200\" y=\"0\">\n",
       "    Private Agent C Balance Sheet\n",
       "   </text>\n",
       "   <rect height=\"40\" style=\"fill:rgb(153, 204, 255);\" width=\"200\" x=\"5\" y=\"25\"/>\n",
       "   <text dominant-baseline=\" middle \" font-size=\"16\" text-anchor=\" middle \" x=\"105\" y=\"45\">\n",
       "    Deposits 50\n",
       "   </text>\n",
       "   <rect height=\"40\" style=\"fill:rgb(204, 255, 204);\" width=\"200\" x=\"205\" y=\"25\"/>\n",
       "   <text dominant-baseline=\" middle \" font-size=\"16\" text-anchor=\" middle \" x=\"305\" y=\"45\">\n",
       "    Equity 50\n",
       "   </text>\n",
       "  </g>\n",
       "</svg>"
      ]
     },
     "metadata": {},
     "output_type": "display_data"
    },
    {
     "data": {
      "image/svg+xml": [
       "<svg height=\"270\" width=\"410\">\n",
       "  <g style=\"fill-opacity:1.0; stroke:black;    stroke-width:1;\">\n",
       "   <text dominant-baseline=\" hanging \" font-size=\"19\" text-anchor=\" middle \" x=\"200\" y=\"0\">\n",
       "    Central Bank Balance Sheet\n",
       "   </text>\n",
       "   <rect height=\"240\" style=\"fill:rgb(153, 204, 255);\" width=\"200\" x=\"5\" y=\"25\"/>\n",
       "   <text dominant-baseline=\" middle \" font-size=\"16\" text-anchor=\" middle \" x=\"105\" y=\"145\">\n",
       "    Assets 300\n",
       "   </text>\n",
       "   <rect height=\"240\" style=\"fill:rgb(255, 204, 204);\" width=\"200\" x=\"205\" y=\"25\"/>\n",
       "   <text dominant-baseline=\" middle \" font-size=\"16\" text-anchor=\" middle \" x=\"305\" y=\"145\">\n",
       "    Reserves 300\n",
       "   </text>\n",
       "  </g>\n",
       "</svg>"
      ]
     },
     "metadata": {},
     "output_type": "display_data"
    },
    {
     "name": "stdout",
     "output_type": "stream",
     "text": [
      "Commercial Bank Money: 200\n",
      "Total (Bank) Money: 200\n"
     ]
    }
   ],
   "source": [
    "bank1.book(debit=[('Reserves',200)],credit=[('Equity',50),('Deposits Customer A',100),('Deposits Customer B',50)])\n",
    "private_agentA.book(debit=[('Deposits',100)],credit=[('Equity',100)])\n",
    "private_agentB.book(debit=[('Deposits',50)],credit=[('Equity',50)])\n",
    "bank2.book(debit=[('Reserves',100)],credit=[('Equity',50),('Deposits Customer C',50)])\n",
    "private_agentC.book(debit=[('Deposits',50)],credit=[('Equity',50)])\n",
    "central_bank.book(debit=[('Assets',300)],credit=[('Reserves',300)])\n",
    "print_balance_sheets_and_money_stocks()"
   ]
  },
  {
   "cell_type": "markdown",
   "metadata": {},
   "source": [
    "## Deposit transfer within a bank\n",
    "We start with what can arguable be considered the most simple transaction: a transfer of money between two private sector agents who are customers of the same bank. This amounts only to a change in the owners of the liabilities of that bank, with no effects on money stocks or other agents."
   ]
  },
  {
   "cell_type": "code",
   "execution_count": 5,
   "metadata": {},
   "outputs": [
    {
     "data": {
      "image/svg+xml": [
       "<svg height=\"190\" width=\"410\">\n",
       "  <g style=\"fill-opacity:1.0; stroke:black;    stroke-width:1;\">\n",
       "   <text dominant-baseline=\" hanging \" font-size=\"19\" text-anchor=\" middle \" x=\"200\" y=\"0\">\n",
       "    Bank 1 Balance Sheet\n",
       "   </text>\n",
       "   <rect height=\"160\" style=\"fill:rgb(153, 204, 255);\" width=\"200\" x=\"5\" y=\"25\"/>\n",
       "   <text dominant-baseline=\" middle \" font-size=\"16\" text-anchor=\" middle \" x=\"105\" y=\"105\">\n",
       "    Reserves 200\n",
       "   </text>\n",
       "   <rect height=\"40\" style=\"fill:rgb(204, 255, 204);\" width=\"200\" x=\"205\" y=\"25\"/>\n",
       "   <text dominant-baseline=\" middle \" font-size=\"16\" text-anchor=\" middle \" x=\"305\" y=\"45\">\n",
       "    Equity 50\n",
       "   </text>\n",
       "   <rect height=\"40\" style=\"fill:rgb(255, 204, 204);\" width=\"200\" x=\"205\" y=\"65\"/>\n",
       "   <text dominant-baseline=\" middle \" font-size=\"16\" text-anchor=\" middle \" x=\"305\" y=\"85\">\n",
       "    Deposits Customer A 50\n",
       "   </text>\n",
       "   <rect height=\"80\" style=\"fill:rgb(255, 204, 204);\" width=\"200\" x=\"205\" y=\"105\"/>\n",
       "   <text dominant-baseline=\" middle \" font-size=\"16\" text-anchor=\" middle \" x=\"305\" y=\"145\">\n",
       "    Deposits Customer B 100\n",
       "   </text>\n",
       "  </g>\n",
       "</svg>"
      ]
     },
     "metadata": {},
     "output_type": "display_data"
    },
    {
     "data": {
      "image/svg+xml": [
       "<svg height=\"70\" width=\"410\">\n",
       "  <g style=\"fill-opacity:1.0; stroke:black;    stroke-width:1;\">\n",
       "   <text dominant-baseline=\" hanging \" font-size=\"19\" text-anchor=\" middle \" x=\"200\" y=\"0\">\n",
       "    Private Agent A Balance Sheet\n",
       "   </text>\n",
       "   <rect height=\"40\" style=\"fill:rgb(153, 204, 255);\" width=\"200\" x=\"5\" y=\"25\"/>\n",
       "   <text dominant-baseline=\" middle \" font-size=\"16\" text-anchor=\" middle \" x=\"105\" y=\"45\">\n",
       "    Deposits 50\n",
       "   </text>\n",
       "   <rect height=\"40\" style=\"fill:rgb(204, 255, 204);\" width=\"200\" x=\"205\" y=\"25\"/>\n",
       "   <text dominant-baseline=\" middle \" font-size=\"16\" text-anchor=\" middle \" x=\"305\" y=\"45\">\n",
       "    Equity 50\n",
       "   </text>\n",
       "  </g>\n",
       "</svg>"
      ]
     },
     "metadata": {},
     "output_type": "display_data"
    },
    {
     "data": {
      "image/svg+xml": [
       "<svg height=\"110\" width=\"410\">\n",
       "  <g style=\"fill-opacity:1.0; stroke:black;    stroke-width:1;\">\n",
       "   <text dominant-baseline=\" hanging \" font-size=\"19\" text-anchor=\" middle \" x=\"200\" y=\"0\">\n",
       "    Private Agent B Balance Sheet\n",
       "   </text>\n",
       "   <rect height=\"80\" style=\"fill:rgb(153, 204, 255);\" width=\"200\" x=\"5\" y=\"25\"/>\n",
       "   <text dominant-baseline=\" middle \" font-size=\"16\" text-anchor=\" middle \" x=\"105\" y=\"65\">\n",
       "    Deposits 100\n",
       "   </text>\n",
       "   <rect height=\"80\" style=\"fill:rgb(204, 255, 204);\" width=\"200\" x=\"205\" y=\"25\"/>\n",
       "   <text dominant-baseline=\" middle \" font-size=\"16\" text-anchor=\" middle \" x=\"305\" y=\"65\">\n",
       "    Equity 100\n",
       "   </text>\n",
       "  </g>\n",
       "</svg>"
      ]
     },
     "metadata": {},
     "output_type": "display_data"
    },
    {
     "name": "stdout",
     "output_type": "stream",
     "text": [
      "Commercial Bank Money: 200\n",
      "Total (Bank) Money: 200\n"
     ]
    }
   ],
   "source": [
    "private_agentA.book(debit=[('Expenses',50)],credit=[('Deposits',50)])\n",
    "private_agentB.book(debit=[('Deposits',50)],credit=[('Income',50)])\n",
    "bank1.book(debit=[('Deposits Customer A',50)],credit=[('Deposits Customer B',50)])\n",
    "print_balance_sheets_and_money_stocks(\"b1\", \"pA\", \"pB\")"
   ]
  },
  {
   "cell_type": "markdown",
   "metadata": {},
   "source": [
    "## Deposit transfer to another bank\n",
    "We now consider the case where a depositor of Bank 1 wants to make a payment to a depositor of Bank 2. In practice, private sector agents are rarely concerned with whether their payee's account is at the same or at a different bank. For the banks involved, it makes a big difference, however. As we see, the transfer amounts to a transfer of central bank reserves between banks. These act as a form of payment for banks, the transfer has no impact on money stocks, though."
   ]
  },
  {
   "cell_type": "code",
   "execution_count": 6,
   "metadata": {},
   "outputs": [
    {
     "data": {
      "image/svg+xml": [
       "<svg height=\"150\" width=\"410\">\n",
       "  <g style=\"fill-opacity:1.0; stroke:black;    stroke-width:1;\">\n",
       "   <text dominant-baseline=\" hanging \" font-size=\"19\" text-anchor=\" middle \" x=\"200\" y=\"0\">\n",
       "    Bank 1 Balance Sheet\n",
       "   </text>\n",
       "   <rect height=\"120\" style=\"fill:rgb(153, 204, 255);\" width=\"200\" x=\"5\" y=\"25\"/>\n",
       "   <text dominant-baseline=\" middle \" font-size=\"16\" text-anchor=\" middle \" x=\"105\" y=\"85\">\n",
       "    Reserves 150\n",
       "   </text>\n",
       "   <rect height=\"40\" style=\"fill:rgb(204, 255, 204);\" width=\"200\" x=\"205\" y=\"25\"/>\n",
       "   <text dominant-baseline=\" middle \" font-size=\"16\" text-anchor=\" middle \" x=\"305\" y=\"45\">\n",
       "    Equity 50\n",
       "   </text>\n",
       "   <rect height=\"80\" style=\"fill:rgb(255, 204, 204);\" width=\"200\" x=\"205\" y=\"65\"/>\n",
       "   <text dominant-baseline=\" middle \" font-size=\"16\" text-anchor=\" middle \" x=\"305\" y=\"105\">\n",
       "    Deposits Customer B 100\n",
       "   </text>\n",
       "  </g>\n",
       "</svg>"
      ]
     },
     "metadata": {},
     "output_type": "display_data"
    },
    {
     "data": {
      "image/svg+xml": [
       "<svg height=\"150\" width=\"410\">\n",
       "  <g style=\"fill-opacity:1.0; stroke:black;    stroke-width:1;\">\n",
       "   <text dominant-baseline=\" hanging \" font-size=\"19\" text-anchor=\" middle \" x=\"200\" y=\"0\">\n",
       "    Bank 2 Balance Sheet\n",
       "   </text>\n",
       "   <rect height=\"120\" style=\"fill:rgb(153, 204, 255);\" width=\"200\" x=\"5\" y=\"25\"/>\n",
       "   <text dominant-baseline=\" middle \" font-size=\"16\" text-anchor=\" middle \" x=\"105\" y=\"85\">\n",
       "    Reserves 150\n",
       "   </text>\n",
       "   <rect height=\"40\" style=\"fill:rgb(204, 255, 204);\" width=\"200\" x=\"205\" y=\"25\"/>\n",
       "   <text dominant-baseline=\" middle \" font-size=\"16\" text-anchor=\" middle \" x=\"305\" y=\"45\">\n",
       "    Equity 50\n",
       "   </text>\n",
       "   <rect height=\"80\" style=\"fill:rgb(255, 204, 204);\" width=\"200\" x=\"205\" y=\"65\"/>\n",
       "   <text dominant-baseline=\" middle \" font-size=\"16\" text-anchor=\" middle \" x=\"305\" y=\"105\">\n",
       "    Deposits Customer C 100\n",
       "   </text>\n",
       "  </g>\n",
       "</svg>"
      ]
     },
     "metadata": {},
     "output_type": "display_data"
    },
    {
     "data": {
      "image/svg+xml": [
       "<svg height=\"110\" width=\"410\">\n",
       "  <g style=\"fill-opacity:1.0; stroke:black;    stroke-width:1;\">\n",
       "   <text dominant-baseline=\" hanging \" font-size=\"19\" text-anchor=\" middle \" x=\"200\" y=\"0\">\n",
       "    Private Agent B Balance Sheet\n",
       "   </text>\n",
       "   <rect height=\"80\" style=\"fill:rgb(153, 204, 255);\" width=\"200\" x=\"5\" y=\"25\"/>\n",
       "   <text dominant-baseline=\" middle \" font-size=\"16\" text-anchor=\" middle \" x=\"105\" y=\"65\">\n",
       "    Deposits 100\n",
       "   </text>\n",
       "   <rect height=\"80\" style=\"fill:rgb(204, 255, 204);\" width=\"200\" x=\"205\" y=\"25\"/>\n",
       "   <text dominant-baseline=\" middle \" font-size=\"16\" text-anchor=\" middle \" x=\"305\" y=\"65\">\n",
       "    Equity 100\n",
       "   </text>\n",
       "  </g>\n",
       "</svg>"
      ]
     },
     "metadata": {},
     "output_type": "display_data"
    },
    {
     "data": {
      "image/svg+xml": [
       "<svg height=\"110\" width=\"410\">\n",
       "  <g style=\"fill-opacity:1.0; stroke:black;    stroke-width:1;\">\n",
       "   <text dominant-baseline=\" hanging \" font-size=\"19\" text-anchor=\" middle \" x=\"200\" y=\"0\">\n",
       "    Private Agent C Balance Sheet\n",
       "   </text>\n",
       "   <rect height=\"80\" style=\"fill:rgb(153, 204, 255);\" width=\"200\" x=\"5\" y=\"25\"/>\n",
       "   <text dominant-baseline=\" middle \" font-size=\"16\" text-anchor=\" middle \" x=\"105\" y=\"65\">\n",
       "    Deposits 100\n",
       "   </text>\n",
       "   <rect height=\"80\" style=\"fill:rgb(204, 255, 204);\" width=\"200\" x=\"205\" y=\"25\"/>\n",
       "   <text dominant-baseline=\" middle \" font-size=\"16\" text-anchor=\" middle \" x=\"305\" y=\"65\">\n",
       "    Equity 100\n",
       "   </text>\n",
       "  </g>\n",
       "</svg>"
      ]
     },
     "metadata": {},
     "output_type": "display_data"
    },
    {
     "name": "stdout",
     "output_type": "stream",
     "text": [
      "Commercial Bank Money: 200\n",
      "Total (Bank) Money: 200\n"
     ]
    }
   ],
   "source": [
    "private_agentA.book(debit=[('Expenses',50)],credit=[('Deposits',50)])\n",
    "private_agentC.book(debit=[('Deposits',50)],credit=[('Income',50)])\n",
    "bank1.book(debit=[('Deposits Customer A',50)],credit=[('Reserves',50)])\n",
    "bank2.book(debit=[('Reserves',50)],credit=[('Deposits Customer C',50)])\n",
    "print_balance_sheets_and_money_stocks(\"pB\", \"pC\", \"b1\", \"b2\")"
   ]
  },
  {
   "cell_type": "markdown",
   "metadata": {},
   "source": [
    "## Cash withdrawal\n",
    "If a customer wishes to withdraw cash, this amounts to a reduction of commercial bank money and a corresponding increase in central bank money. In this example, Bank 1 has no cash holdings yet, hence it has to convert some of its central bank reserves to cash. In practice, banks do hold some quantities of physical cash to meet such redemption demands. Since neither reserves nor cash holdings by banks are counted towards the money stock, the implications for total money stocks are the same."
   ]
  },
  {
   "cell_type": "code",
   "execution_count": 7,
   "metadata": {},
   "outputs": [
    {
     "data": {
      "image/svg+xml": [
       "<svg height=\"70\" width=\"410\">\n",
       "  <g style=\"fill-opacity:1.0; stroke:black;    stroke-width:1;\">\n",
       "   <text dominant-baseline=\" hanging \" font-size=\"19\" text-anchor=\" middle \" x=\"200\" y=\"0\">\n",
       "    Bank 1 Balance Sheet\n",
       "   </text>\n",
       "   <rect height=\"40\" style=\"fill:rgb(153, 204, 255);\" width=\"200\" x=\"5\" y=\"25\"/>\n",
       "   <text dominant-baseline=\" middle \" font-size=\"16\" text-anchor=\" middle \" x=\"105\" y=\"45\">\n",
       "    Reserves 50\n",
       "   </text>\n",
       "   <rect height=\"40\" style=\"fill:rgb(204, 255, 204);\" width=\"200\" x=\"205\" y=\"25\"/>\n",
       "   <text dominant-baseline=\" middle \" font-size=\"16\" text-anchor=\" middle \" x=\"305\" y=\"45\">\n",
       "    Equity 50\n",
       "   </text>\n",
       "  </g>\n",
       "</svg>"
      ]
     },
     "metadata": {},
     "output_type": "display_data"
    },
    {
     "data": {
      "image/svg+xml": [
       "<svg height=\"110\" width=\"410\">\n",
       "  <g style=\"fill-opacity:1.0; stroke:black;    stroke-width:1;\">\n",
       "   <text dominant-baseline=\" hanging \" font-size=\"19\" text-anchor=\" middle \" x=\"200\" y=\"0\">\n",
       "    Private Agent B Balance Sheet\n",
       "   </text>\n",
       "   <rect height=\"80\" style=\"fill:rgb(153, 204, 255);\" width=\"200\" x=\"5\" y=\"25\"/>\n",
       "   <text dominant-baseline=\" middle \" font-size=\"16\" text-anchor=\" middle \" x=\"105\" y=\"65\">\n",
       "    Cash 100\n",
       "   </text>\n",
       "   <rect height=\"80\" style=\"fill:rgb(204, 255, 204);\" width=\"200\" x=\"205\" y=\"25\"/>\n",
       "   <text dominant-baseline=\" middle \" font-size=\"16\" text-anchor=\" middle \" x=\"305\" y=\"65\">\n",
       "    Equity 100\n",
       "   </text>\n",
       "  </g>\n",
       "</svg>"
      ]
     },
     "metadata": {},
     "output_type": "display_data"
    },
    {
     "data": {
      "image/svg+xml": [
       "<svg height=\"270\" width=\"410\">\n",
       "  <g style=\"fill-opacity:1.0; stroke:black;    stroke-width:1;\">\n",
       "   <text dominant-baseline=\" hanging \" font-size=\"19\" text-anchor=\" middle \" x=\"200\" y=\"0\">\n",
       "    Central Bank Balance Sheet\n",
       "   </text>\n",
       "   <rect height=\"240\" style=\"fill:rgb(153, 204, 255);\" width=\"200\" x=\"5\" y=\"25\"/>\n",
       "   <text dominant-baseline=\" middle \" font-size=\"16\" text-anchor=\" middle \" x=\"105\" y=\"145\">\n",
       "    Assets 300\n",
       "   </text>\n",
       "   <rect height=\"80\" style=\"fill:rgb(255, 204, 204);\" width=\"200\" x=\"205\" y=\"25\"/>\n",
       "   <text dominant-baseline=\" middle \" font-size=\"16\" text-anchor=\" middle \" x=\"305\" y=\"65\">\n",
       "    Cash 100\n",
       "   </text>\n",
       "   <rect height=\"160\" style=\"fill:rgb(255, 204, 204);\" width=\"200\" x=\"205\" y=\"105\"/>\n",
       "   <text dominant-baseline=\" middle \" font-size=\"16\" text-anchor=\" middle \" x=\"305\" y=\"185\">\n",
       "    Reserves 200\n",
       "   </text>\n",
       "  </g>\n",
       "</svg>"
      ]
     },
     "metadata": {},
     "output_type": "display_data"
    },
    {
     "name": "stdout",
     "output_type": "stream",
     "text": [
      "Commercial Bank Money: 100\n",
      "Central Bank Money: 100\n",
      "Total (Bank) Money: 200\n"
     ]
    }
   ],
   "source": [
    "private_agentB.book(debit=[('Cash',100)],credit=[('Deposits',100)])\n",
    "bank1.book(debit=[('Cash',100)],credit=[('Reserves',100)])\n",
    "bank1.book(debit=[('Deposits Customer B',100)],credit=[('Cash',100)])\n",
    "central_bank.book(debit=[('Reserves',100)],credit=[('Cash',100)])\n",
    "print_balance_sheets_and_money_stocks(\"pB\", \"b1\", \"cb\")"
   ]
  },
  {
   "cell_type": "markdown",
   "metadata": {},
   "source": [
    "## Refinancing of deposit outflows on the interbank market\n",
    "As we have seen before, a payment between two customers of different banks amounts to a deposit outflow for one bank. If the bank does not have sufficient reserves to make this transaction, it needs to raise additional financing, as we will demonstrate here. We start by creating a deposit at Bank 1 through the granting of a loan."
   ]
  },
  {
   "cell_type": "code",
   "execution_count": 8,
   "metadata": {},
   "outputs": [
    {
     "data": {
      "image/svg+xml": [
       "<svg height=\"150\" width=\"410\">\n",
       "  <g style=\"fill-opacity:1.0; stroke:black;    stroke-width:1;\">\n",
       "   <text dominant-baseline=\" hanging \" font-size=\"19\" text-anchor=\" middle \" x=\"200\" y=\"0\">\n",
       "    Bank 1 Balance Sheet\n",
       "   </text>\n",
       "   <rect height=\"80\" style=\"fill:rgb(153, 204, 255);\" width=\"200\" x=\"5\" y=\"25\"/>\n",
       "   <text dominant-baseline=\" middle \" font-size=\"16\" text-anchor=\" middle \" x=\"105\" y=\"65\">\n",
       "    Loans 100\n",
       "   </text>\n",
       "   <rect height=\"40\" style=\"fill:rgb(153, 204, 255);\" width=\"200\" x=\"5\" y=\"105\"/>\n",
       "   <text dominant-baseline=\" middle \" font-size=\"16\" text-anchor=\" middle \" x=\"105\" y=\"125\">\n",
       "    Reserves 50\n",
       "   </text>\n",
       "   <rect height=\"40\" style=\"fill:rgb(204, 255, 204);\" width=\"200\" x=\"205\" y=\"25\"/>\n",
       "   <text dominant-baseline=\" middle \" font-size=\"16\" text-anchor=\" middle \" x=\"305\" y=\"45\">\n",
       "    Equity 50\n",
       "   </text>\n",
       "   <rect height=\"80\" style=\"fill:rgb(255, 204, 204);\" width=\"200\" x=\"205\" y=\"65\"/>\n",
       "   <text dominant-baseline=\" middle \" font-size=\"16\" text-anchor=\" middle \" x=\"305\" y=\"105\">\n",
       "    Deposits Customer A 100\n",
       "   </text>\n",
       "  </g>\n",
       "</svg>"
      ]
     },
     "metadata": {},
     "output_type": "display_data"
    },
    {
     "data": {
      "image/svg+xml": [
       "<svg height=\"110\" width=\"410\">\n",
       "  <g style=\"fill-opacity:1.0; stroke:black;    stroke-width:1;\">\n",
       "   <text dominant-baseline=\" hanging \" font-size=\"19\" text-anchor=\" middle \" x=\"200\" y=\"0\">\n",
       "    Private Agent A Balance Sheet\n",
       "   </text>\n",
       "   <rect height=\"80\" style=\"fill:rgb(153, 204, 255);\" width=\"200\" x=\"5\" y=\"25\"/>\n",
       "   <text dominant-baseline=\" middle \" font-size=\"16\" text-anchor=\" middle \" x=\"105\" y=\"65\">\n",
       "    Deposits 100\n",
       "   </text>\n",
       "   <rect height=\"80\" style=\"fill:rgb(255, 204, 204);\" width=\"200\" x=\"205\" y=\"25\"/>\n",
       "   <text dominant-baseline=\" middle \" font-size=\"16\" text-anchor=\" middle \" x=\"305\" y=\"65\">\n",
       "    Loans 100\n",
       "   </text>\n",
       "  </g>\n",
       "</svg>"
      ]
     },
     "metadata": {},
     "output_type": "display_data"
    },
    {
     "name": "stdout",
     "output_type": "stream",
     "text": [
      "Commercial Bank Money: 200\n",
      "Central Bank Money: 100\n",
      "Total (Bank) Money: 300\n"
     ]
    }
   ],
   "source": [
    "bank1.book(debit=[('Loans',100)],credit=[('Deposits Customer A',100)])\n",
    "private_agentA.book(debit=[('Deposits',100)],credit=[('Loans',100)])\n",
    "print_balance_sheets_and_money_stocks(\"pA\", \"b1\")"
   ]
  },
  {
   "cell_type": "markdown",
   "metadata": {},
   "source": [
    "Private sector agent A now informs its bank (Bank 1) that it wishes to transfer its deposits to agent C, a client of Bank 2. Since Bank 1 does not have sufficient reserves to meet this deposit outflow, it first asks Bank 2 for an interbank loan, increasing its stock of reserves:"
   ]
  },
  {
   "cell_type": "code",
   "execution_count": 9,
   "metadata": {},
   "outputs": [
    {
     "data": {
      "image/svg+xml": [
       "<svg height=\"190\" width=\"410\">\n",
       "  <g style=\"fill-opacity:1.0; stroke:black;    stroke-width:1;\">\n",
       "   <text dominant-baseline=\" hanging \" font-size=\"19\" text-anchor=\" middle \" x=\"200\" y=\"0\">\n",
       "    Bank 1 Balance Sheet\n",
       "   </text>\n",
       "   <rect height=\"80\" style=\"fill:rgb(153, 204, 255);\" width=\"200\" x=\"5\" y=\"25\"/>\n",
       "   <text dominant-baseline=\" middle \" font-size=\"16\" text-anchor=\" middle \" x=\"105\" y=\"65\">\n",
       "    Loans 100\n",
       "   </text>\n",
       "   <rect height=\"80\" style=\"fill:rgb(153, 204, 255);\" width=\"200\" x=\"5\" y=\"105\"/>\n",
       "   <text dominant-baseline=\" middle \" font-size=\"16\" text-anchor=\" middle \" x=\"105\" y=\"145\">\n",
       "    Reserves 100\n",
       "   </text>\n",
       "   <rect height=\"40\" style=\"fill:rgb(204, 255, 204);\" width=\"200\" x=\"205\" y=\"25\"/>\n",
       "   <text dominant-baseline=\" middle \" font-size=\"16\" text-anchor=\" middle \" x=\"305\" y=\"45\">\n",
       "    Equity 50\n",
       "   </text>\n",
       "   <rect height=\"80\" style=\"fill:rgb(255, 204, 204);\" width=\"200\" x=\"205\" y=\"65\"/>\n",
       "   <text dominant-baseline=\" middle \" font-size=\"16\" text-anchor=\" middle \" x=\"305\" y=\"105\">\n",
       "    Deposits Customer A 100\n",
       "   </text>\n",
       "   <rect height=\"40\" style=\"fill:rgb(255, 204, 204);\" width=\"200\" x=\"205\" y=\"145\"/>\n",
       "   <text dominant-baseline=\" middle \" font-size=\"16\" text-anchor=\" middle \" x=\"305\" y=\"165\">\n",
       "    Interbank Deposits 50\n",
       "   </text>\n",
       "  </g>\n",
       "</svg>"
      ]
     },
     "metadata": {},
     "output_type": "display_data"
    },
    {
     "data": {
      "image/svg+xml": [
       "<svg height=\"150\" width=\"410\">\n",
       "  <g style=\"fill-opacity:1.0; stroke:black;    stroke-width:1;\">\n",
       "   <text dominant-baseline=\" hanging \" font-size=\"19\" text-anchor=\" middle \" x=\"200\" y=\"0\">\n",
       "    Bank 2 Balance Sheet\n",
       "   </text>\n",
       "   <rect height=\"80\" style=\"fill:rgb(153, 204, 255);\" width=\"200\" x=\"5\" y=\"25\"/>\n",
       "   <text dominant-baseline=\" middle \" font-size=\"16\" text-anchor=\" middle \" x=\"105\" y=\"65\">\n",
       "    Reserves 100\n",
       "   </text>\n",
       "   <rect height=\"40\" style=\"fill:rgb(153, 204, 255);\" width=\"200\" x=\"5\" y=\"105\"/>\n",
       "   <text dominant-baseline=\" middle \" font-size=\"16\" text-anchor=\" middle \" x=\"105\" y=\"125\">\n",
       "    Interbank Loans 50\n",
       "   </text>\n",
       "   <rect height=\"40\" style=\"fill:rgb(204, 255, 204);\" width=\"200\" x=\"205\" y=\"25\"/>\n",
       "   <text dominant-baseline=\" middle \" font-size=\"16\" text-anchor=\" middle \" x=\"305\" y=\"45\">\n",
       "    Equity 50\n",
       "   </text>\n",
       "   <rect height=\"80\" style=\"fill:rgb(255, 204, 204);\" width=\"200\" x=\"205\" y=\"65\"/>\n",
       "   <text dominant-baseline=\" middle \" font-size=\"16\" text-anchor=\" middle \" x=\"305\" y=\"105\">\n",
       "    Deposits Customer C 100\n",
       "   </text>\n",
       "  </g>\n",
       "</svg>"
      ]
     },
     "metadata": {},
     "output_type": "display_data"
    },
    {
     "data": {
      "image/svg+xml": [
       "<svg height=\"110\" width=\"410\">\n",
       "  <g style=\"fill-opacity:1.0; stroke:black;    stroke-width:1;\">\n",
       "   <text dominant-baseline=\" hanging \" font-size=\"19\" text-anchor=\" middle \" x=\"200\" y=\"0\">\n",
       "    Private Agent A Balance Sheet\n",
       "   </text>\n",
       "   <rect height=\"80\" style=\"fill:rgb(255, 102, 102);\" width=\"200\" x=\"5\" y=\"25\"/>\n",
       "   <text dominant-baseline=\" middle \" font-size=\"16\" text-anchor=\" middle \" x=\"105\" y=\"65\">\n",
       "    Neg. Equity 100\n",
       "   </text>\n",
       "   <rect height=\"80\" style=\"fill:rgb(255, 204, 204);\" width=\"200\" x=\"205\" y=\"25\"/>\n",
       "   <text dominant-baseline=\" middle \" font-size=\"16\" text-anchor=\" middle \" x=\"305\" y=\"65\">\n",
       "    Loans 100\n",
       "   </text>\n",
       "  </g>\n",
       "</svg>"
      ]
     },
     "metadata": {},
     "output_type": "display_data"
    },
    {
     "name": "stdout",
     "output_type": "stream",
     "text": [
      "Commercial Bank Money: 200\n",
      "Central Bank Money: 100\n",
      "Total (Bank) Money: 300\n"
     ]
    }
   ],
   "source": [
    "private_agentA.book(debit=[('Expenses',100)],credit=[('Deposits',100)])\n",
    "bank1.book(debit=[('Reserves',50)],credit=[('Interbank Deposits',50)])\n",
    "bank2.book(debit=[('Interbank Loans',50)],credit=[('Reserves',50)])\n",
    "print_balance_sheets_and_money_stocks(\"pA\", \"b1\", \"b2\")"
   ]
  },
  {
   "cell_type": "markdown",
   "metadata": {},
   "source": [
    "Using the additional reserves, Bank 1 can now make the transfer. We note that the transaction leaves agent A with negative equity. We will consider the implications of this further in [Example 4](http://www.siebenbrunner.com/moneycreation/Ex4_Crises.html), where we discuss banking crises. For here we only note that as long as Bank 1 does not make an impairment on its loan to private sector agent A, it is still considered as solvent."
   ]
  },
  {
   "cell_type": "code",
   "execution_count": 10,
   "metadata": {},
   "outputs": [
    {
     "data": {
      "image/svg+xml": [
       "<svg height=\"110\" width=\"410\">\n",
       "  <g style=\"fill-opacity:1.0; stroke:black;    stroke-width:1;\">\n",
       "   <text dominant-baseline=\" hanging \" font-size=\"19\" text-anchor=\" middle \" x=\"200\" y=\"0\">\n",
       "    Bank 1 Balance Sheet\n",
       "   </text>\n",
       "   <rect height=\"80\" style=\"fill:rgb(153, 204, 255);\" width=\"200\" x=\"5\" y=\"25\"/>\n",
       "   <text dominant-baseline=\" middle \" font-size=\"16\" text-anchor=\" middle \" x=\"105\" y=\"65\">\n",
       "    Loans 100\n",
       "   </text>\n",
       "   <rect height=\"40\" style=\"fill:rgb(204, 255, 204);\" width=\"200\" x=\"205\" y=\"25\"/>\n",
       "   <text dominant-baseline=\" middle \" font-size=\"16\" text-anchor=\" middle \" x=\"305\" y=\"45\">\n",
       "    Equity 50\n",
       "   </text>\n",
       "   <rect height=\"40\" style=\"fill:rgb(255, 204, 204);\" width=\"200\" x=\"205\" y=\"65\"/>\n",
       "   <text dominant-baseline=\" middle \" font-size=\"16\" text-anchor=\" middle \" x=\"305\" y=\"85\">\n",
       "    Interbank Deposits 50\n",
       "   </text>\n",
       "  </g>\n",
       "</svg>"
      ]
     },
     "metadata": {},
     "output_type": "display_data"
    },
    {
     "data": {
      "image/svg+xml": [
       "<svg height=\"230\" width=\"410\">\n",
       "  <g style=\"fill-opacity:1.0; stroke:black;    stroke-width:1;\">\n",
       "   <text dominant-baseline=\" hanging \" font-size=\"19\" text-anchor=\" middle \" x=\"200\" y=\"0\">\n",
       "    Bank 2 Balance Sheet\n",
       "   </text>\n",
       "   <rect height=\"160\" style=\"fill:rgb(153, 204, 255);\" width=\"200\" x=\"5\" y=\"25\"/>\n",
       "   <text dominant-baseline=\" middle \" font-size=\"16\" text-anchor=\" middle \" x=\"105\" y=\"105\">\n",
       "    Reserves 200\n",
       "   </text>\n",
       "   <rect height=\"40\" style=\"fill:rgb(153, 204, 255);\" width=\"200\" x=\"5\" y=\"185\"/>\n",
       "   <text dominant-baseline=\" middle \" font-size=\"16\" text-anchor=\" middle \" x=\"105\" y=\"205\">\n",
       "    Interbank Loans 50\n",
       "   </text>\n",
       "   <rect height=\"40\" style=\"fill:rgb(204, 255, 204);\" width=\"200\" x=\"205\" y=\"25\"/>\n",
       "   <text dominant-baseline=\" middle \" font-size=\"16\" text-anchor=\" middle \" x=\"305\" y=\"45\">\n",
       "    Equity 50\n",
       "   </text>\n",
       "   <rect height=\"160\" style=\"fill:rgb(255, 204, 204);\" width=\"200\" x=\"205\" y=\"65\"/>\n",
       "   <text dominant-baseline=\" middle \" font-size=\"16\" text-anchor=\" middle \" x=\"305\" y=\"145\">\n",
       "    Deposits Customer C 200\n",
       "   </text>\n",
       "  </g>\n",
       "</svg>"
      ]
     },
     "metadata": {},
     "output_type": "display_data"
    },
    {
     "data": {
      "image/svg+xml": [
       "<svg height=\"190\" width=\"410\">\n",
       "  <g style=\"fill-opacity:1.0; stroke:black;    stroke-width:1;\">\n",
       "   <text dominant-baseline=\" hanging \" font-size=\"19\" text-anchor=\" middle \" x=\"200\" y=\"0\">\n",
       "    Private Agent C Balance Sheet\n",
       "   </text>\n",
       "   <rect height=\"160\" style=\"fill:rgb(153, 204, 255);\" width=\"200\" x=\"5\" y=\"25\"/>\n",
       "   <text dominant-baseline=\" middle \" font-size=\"16\" text-anchor=\" middle \" x=\"105\" y=\"105\">\n",
       "    Deposits 200\n",
       "   </text>\n",
       "   <rect height=\"160\" style=\"fill:rgb(204, 255, 204);\" width=\"200\" x=\"205\" y=\"25\"/>\n",
       "   <text dominant-baseline=\" middle \" font-size=\"16\" text-anchor=\" middle \" x=\"305\" y=\"105\">\n",
       "    Equity 200\n",
       "   </text>\n",
       "  </g>\n",
       "</svg>"
      ]
     },
     "metadata": {},
     "output_type": "display_data"
    },
    {
     "name": "stdout",
     "output_type": "stream",
     "text": [
      "Commercial Bank Money: 200\n",
      "Central Bank Money: 100\n",
      "Total (Bank) Money: 300\n"
     ]
    }
   ],
   "source": [
    "bank1.book(debit=[('Deposits Customer A',100)],credit=[('Reserves',100)])\n",
    "bank2.book(debit=[('Reserves',100)],credit=[('Deposits Customer C',100)])\n",
    "private_agentC.book(debit=[('Deposits',100)],credit=[('Income',100)])\n",
    "print_balance_sheets_and_money_stocks(\"pC\", \"b1\", \"b2\")"
   ]
  },
  {
   "cell_type": "markdown",
   "metadata": {},
   "source": [
    "Note that the entire transfer of deposits leaves all money stocks unchanged (the increase in commercial bank money at the beginning of the example was due to the granting of the loan, something we have already observed in [Example 2](http://www.siebenbrunner.com/moneycreation/Ex2_Lending.html))."
   ]
  },
  {
   "cell_type": "markdown",
   "metadata": {},
   "source": [
    "### Refinancing on wholesale markets (bank bonds purchased by private sector agents)\n",
    "Suppose that Bank 1 now needs to repay the interbank loan that it has received from Bank 2 (we assume that the interest rate on the loan was 0 for simplicity - see [Example 2](http://www.siebenbrunner.com/moneycreation/Ex2_Lending.html) for an example of how interest payments are booked). In order to refinance this repayment, it first issues a bond that is purchased by private sector agent C."
   ]
  },
  {
   "cell_type": "code",
   "execution_count": 11,
   "metadata": {},
   "outputs": [
    {
     "data": {
      "image/svg+xml": [
       "<svg height=\"150\" width=\"410\">\n",
       "  <g style=\"fill-opacity:1.0; stroke:black;    stroke-width:1;\">\n",
       "   <text dominant-baseline=\" hanging \" font-size=\"19\" text-anchor=\" middle \" x=\"200\" y=\"0\">\n",
       "    Bank 1 Balance Sheet\n",
       "   </text>\n",
       "   <rect height=\"80\" style=\"fill:rgb(153, 204, 255);\" width=\"200\" x=\"5\" y=\"25\"/>\n",
       "   <text dominant-baseline=\" middle \" font-size=\"16\" text-anchor=\" middle \" x=\"105\" y=\"65\">\n",
       "    Loans 100\n",
       "   </text>\n",
       "   <rect height=\"40\" style=\"fill:rgb(153, 204, 255);\" width=\"200\" x=\"5\" y=\"105\"/>\n",
       "   <text dominant-baseline=\" middle \" font-size=\"16\" text-anchor=\" middle \" x=\"105\" y=\"125\">\n",
       "    Reserves 50\n",
       "   </text>\n",
       "   <rect height=\"40\" style=\"fill:rgb(204, 255, 204);\" width=\"200\" x=\"205\" y=\"25\"/>\n",
       "   <text dominant-baseline=\" middle \" font-size=\"16\" text-anchor=\" middle \" x=\"305\" y=\"45\">\n",
       "    Equity 50\n",
       "   </text>\n",
       "   <rect height=\"40\" style=\"fill:rgb(255, 204, 204);\" width=\"200\" x=\"205\" y=\"65\"/>\n",
       "   <text dominant-baseline=\" middle \" font-size=\"16\" text-anchor=\" middle \" x=\"305\" y=\"85\">\n",
       "    Interbank Deposits 50\n",
       "   </text>\n",
       "   <rect height=\"40\" style=\"fill:rgb(255, 204, 204);\" width=\"200\" x=\"205\" y=\"105\"/>\n",
       "   <text dominant-baseline=\" middle \" font-size=\"16\" text-anchor=\" middle \" x=\"305\" y=\"125\">\n",
       "    Issued Bonds 50\n",
       "   </text>\n",
       "  </g>\n",
       "</svg>"
      ]
     },
     "metadata": {},
     "output_type": "display_data"
    },
    {
     "data": {
      "image/svg+xml": [
       "<svg height=\"190\" width=\"410\">\n",
       "  <g style=\"fill-opacity:1.0; stroke:black;    stroke-width:1;\">\n",
       "   <text dominant-baseline=\" hanging \" font-size=\"19\" text-anchor=\" middle \" x=\"200\" y=\"0\">\n",
       "    Bank 2 Balance Sheet\n",
       "   </text>\n",
       "   <rect height=\"120\" style=\"fill:rgb(153, 204, 255);\" width=\"200\" x=\"5\" y=\"25\"/>\n",
       "   <text dominant-baseline=\" middle \" font-size=\"16\" text-anchor=\" middle \" x=\"105\" y=\"85\">\n",
       "    Reserves 150\n",
       "   </text>\n",
       "   <rect height=\"40\" style=\"fill:rgb(153, 204, 255);\" width=\"200\" x=\"5\" y=\"145\"/>\n",
       "   <text dominant-baseline=\" middle \" font-size=\"16\" text-anchor=\" middle \" x=\"105\" y=\"165\">\n",
       "    Interbank Loans 50\n",
       "   </text>\n",
       "   <rect height=\"40\" style=\"fill:rgb(204, 255, 204);\" width=\"200\" x=\"205\" y=\"25\"/>\n",
       "   <text dominant-baseline=\" middle \" font-size=\"16\" text-anchor=\" middle \" x=\"305\" y=\"45\">\n",
       "    Equity 50\n",
       "   </text>\n",
       "   <rect height=\"120\" style=\"fill:rgb(255, 204, 204);\" width=\"200\" x=\"205\" y=\"65\"/>\n",
       "   <text dominant-baseline=\" middle \" font-size=\"16\" text-anchor=\" middle \" x=\"305\" y=\"125\">\n",
       "    Deposits Customer C 150\n",
       "   </text>\n",
       "  </g>\n",
       "</svg>"
      ]
     },
     "metadata": {},
     "output_type": "display_data"
    },
    {
     "data": {
      "image/svg+xml": [
       "<svg height=\"190\" width=\"410\">\n",
       "  <g style=\"fill-opacity:1.0; stroke:black;    stroke-width:1;\">\n",
       "   <text dominant-baseline=\" hanging \" font-size=\"19\" text-anchor=\" middle \" x=\"200\" y=\"0\">\n",
       "    Private Agent C Balance Sheet\n",
       "   </text>\n",
       "   <rect height=\"120\" style=\"fill:rgb(153, 204, 255);\" width=\"200\" x=\"5\" y=\"25\"/>\n",
       "   <text dominant-baseline=\" middle \" font-size=\"16\" text-anchor=\" middle \" x=\"105\" y=\"85\">\n",
       "    Deposits 150\n",
       "   </text>\n",
       "   <rect height=\"40\" style=\"fill:rgb(153, 204, 255);\" width=\"200\" x=\"5\" y=\"145\"/>\n",
       "   <text dominant-baseline=\" middle \" font-size=\"16\" text-anchor=\" middle \" x=\"105\" y=\"165\">\n",
       "    Bond Holdings 50\n",
       "   </text>\n",
       "   <rect height=\"160\" style=\"fill:rgb(204, 255, 204);\" width=\"200\" x=\"205\" y=\"25\"/>\n",
       "   <text dominant-baseline=\" middle \" font-size=\"16\" text-anchor=\" middle \" x=\"305\" y=\"105\">\n",
       "    Equity 200\n",
       "   </text>\n",
       "  </g>\n",
       "</svg>"
      ]
     },
     "metadata": {},
     "output_type": "display_data"
    },
    {
     "name": "stdout",
     "output_type": "stream",
     "text": [
      "Commercial Bank Money: 150\n",
      "Central Bank Money: 100\n",
      "Total (Bank) Money: 250\n"
     ]
    }
   ],
   "source": [
    "private_agentC.book(debit=[('Bond Holdings',50)],credit=[('Deposits',50)])\n",
    "bank2.book(debit=[('Deposits Customer C',50)],credit=[('Reserves',50)])\n",
    "bank1.book(debit=[('Reserves',50)],credit=[('Issued Bonds',50)])\n",
    "print_balance_sheets_and_money_stocks(\"pC\", \"b1\", \"b2\")"
   ]
  },
  {
   "cell_type": "markdown",
   "metadata": {},
   "source": [
    "Notice how the purchase of the bond reduces the stock of commercial bank money. The newly issued bond now allows Bank 1 to repay Bank 2:"
   ]
  },
  {
   "cell_type": "code",
   "execution_count": 12,
   "metadata": {},
   "outputs": [
    {
     "data": {
      "image/svg+xml": [
       "<svg height=\"110\" width=\"410\">\n",
       "  <g style=\"fill-opacity:1.0; stroke:black;    stroke-width:1;\">\n",
       "   <text dominant-baseline=\" hanging \" font-size=\"19\" text-anchor=\" middle \" x=\"200\" y=\"0\">\n",
       "    Bank 1 Balance Sheet\n",
       "   </text>\n",
       "   <rect height=\"80\" style=\"fill:rgb(153, 204, 255);\" width=\"200\" x=\"5\" y=\"25\"/>\n",
       "   <text dominant-baseline=\" middle \" font-size=\"16\" text-anchor=\" middle \" x=\"105\" y=\"65\">\n",
       "    Loans 100\n",
       "   </text>\n",
       "   <rect height=\"40\" style=\"fill:rgb(204, 255, 204);\" width=\"200\" x=\"205\" y=\"25\"/>\n",
       "   <text dominant-baseline=\" middle \" font-size=\"16\" text-anchor=\" middle \" x=\"305\" y=\"45\">\n",
       "    Equity 50\n",
       "   </text>\n",
       "   <rect height=\"40\" style=\"fill:rgb(255, 204, 204);\" width=\"200\" x=\"205\" y=\"65\"/>\n",
       "   <text dominant-baseline=\" middle \" font-size=\"16\" text-anchor=\" middle \" x=\"305\" y=\"85\">\n",
       "    Issued Bonds 50\n",
       "   </text>\n",
       "  </g>\n",
       "</svg>"
      ]
     },
     "metadata": {},
     "output_type": "display_data"
    },
    {
     "data": {
      "image/svg+xml": [
       "<svg height=\"190\" width=\"410\">\n",
       "  <g style=\"fill-opacity:1.0; stroke:black;    stroke-width:1;\">\n",
       "   <text dominant-baseline=\" hanging \" font-size=\"19\" text-anchor=\" middle \" x=\"200\" y=\"0\">\n",
       "    Bank 2 Balance Sheet\n",
       "   </text>\n",
       "   <rect height=\"160\" style=\"fill:rgb(153, 204, 255);\" width=\"200\" x=\"5\" y=\"25\"/>\n",
       "   <text dominant-baseline=\" middle \" font-size=\"16\" text-anchor=\" middle \" x=\"105\" y=\"105\">\n",
       "    Reserves 200\n",
       "   </text>\n",
       "   <rect height=\"40\" style=\"fill:rgb(204, 255, 204);\" width=\"200\" x=\"205\" y=\"25\"/>\n",
       "   <text dominant-baseline=\" middle \" font-size=\"16\" text-anchor=\" middle \" x=\"305\" y=\"45\">\n",
       "    Equity 50\n",
       "   </text>\n",
       "   <rect height=\"120\" style=\"fill:rgb(255, 204, 204);\" width=\"200\" x=\"205\" y=\"65\"/>\n",
       "   <text dominant-baseline=\" middle \" font-size=\"16\" text-anchor=\" middle \" x=\"305\" y=\"125\">\n",
       "    Deposits Customer C 150\n",
       "   </text>\n",
       "  </g>\n",
       "</svg>"
      ]
     },
     "metadata": {},
     "output_type": "display_data"
    },
    {
     "name": "stdout",
     "output_type": "stream",
     "text": [
      "Commercial Bank Money: 150\n",
      "Central Bank Money: 100\n",
      "Total (Bank) Money: 250\n"
     ]
    }
   ],
   "source": [
    "bank1.book(debit=[('Interbank Deposits',50)],credit=[('Reserves',50)])\n",
    "bank2.book(debit=[('Reserves',50)],credit=[('Interbank Loans',50)])\n",
    "print_balance_sheets_and_money_stocks(\"b1\", \"b2\")"
   ]
  },
  {
   "cell_type": "markdown",
   "metadata": {},
   "source": [
    "### Refinancing via the Central Bank\n",
    "Now we assume that Bank A needs to repay its bond (for simplicity, we again assume that the interest rate was zero). If neither Bank 2 nor any private sector agents are able or willing to finance Bank 1 either through interbank loans or bond purchases, then Bank 1 has only one recourse left: going to the central bank."
   ]
  },
  {
   "cell_type": "code",
   "execution_count": 13,
   "metadata": {},
   "outputs": [
    {
     "data": {
      "image/svg+xml": [
       "<svg height=\"150\" width=\"410\">\n",
       "  <g style=\"fill-opacity:1.0; stroke:black;    stroke-width:1;\">\n",
       "   <text dominant-baseline=\" hanging \" font-size=\"19\" text-anchor=\" middle \" x=\"200\" y=\"0\">\n",
       "    Bank 1 Balance Sheet\n",
       "   </text>\n",
       "   <rect height=\"80\" style=\"fill:rgb(153, 204, 255);\" width=\"200\" x=\"5\" y=\"25\"/>\n",
       "   <text dominant-baseline=\" middle \" font-size=\"16\" text-anchor=\" middle \" x=\"105\" y=\"65\">\n",
       "    Loans 100\n",
       "   </text>\n",
       "   <rect height=\"40\" style=\"fill:rgb(153, 204, 255);\" width=\"200\" x=\"5\" y=\"105\"/>\n",
       "   <text dominant-baseline=\" middle \" font-size=\"16\" text-anchor=\" middle \" x=\"105\" y=\"125\">\n",
       "    Reserves 50\n",
       "   </text>\n",
       "   <rect height=\"40\" style=\"fill:rgb(204, 255, 204);\" width=\"200\" x=\"205\" y=\"25\"/>\n",
       "   <text dominant-baseline=\" middle \" font-size=\"16\" text-anchor=\" middle \" x=\"305\" y=\"45\">\n",
       "    Equity 50\n",
       "   </text>\n",
       "   <rect height=\"40\" style=\"fill:rgb(255, 204, 204);\" width=\"200\" x=\"205\" y=\"65\"/>\n",
       "   <text dominant-baseline=\" middle \" font-size=\"16\" text-anchor=\" middle \" x=\"305\" y=\"85\">\n",
       "    Issued Bonds 50\n",
       "   </text>\n",
       "   <rect height=\"40\" style=\"fill:rgb(255, 204, 204);\" width=\"200\" x=\"205\" y=\"105\"/>\n",
       "   <text dominant-baseline=\" middle \" font-size=\"16\" text-anchor=\" middle \" x=\"305\" y=\"125\">\n",
       "    Central Bank Funding 50\n",
       "   </text>\n",
       "  </g>\n",
       "</svg>"
      ]
     },
     "metadata": {},
     "output_type": "display_data"
    },
    {
     "data": {
      "image/svg+xml": [
       "<svg height=\"310\" width=\"410\">\n",
       "  <g style=\"fill-opacity:1.0; stroke:black;    stroke-width:1;\">\n",
       "   <text dominant-baseline=\" hanging \" font-size=\"19\" text-anchor=\" middle \" x=\"200\" y=\"0\">\n",
       "    Central Bank Balance Sheet\n",
       "   </text>\n",
       "   <rect height=\"240\" style=\"fill:rgb(153, 204, 255);\" width=\"200\" x=\"5\" y=\"25\"/>\n",
       "   <text dominant-baseline=\" middle \" font-size=\"16\" text-anchor=\" middle \" x=\"105\" y=\"145\">\n",
       "    Assets 300\n",
       "   </text>\n",
       "   <rect height=\"40\" style=\"fill:rgb(153, 204, 255);\" width=\"200\" x=\"5\" y=\"265\"/>\n",
       "   <text dominant-baseline=\" middle \" font-size=\"16\" text-anchor=\" middle \" x=\"105\" y=\"285\">\n",
       "    Loans to Banks 50\n",
       "   </text>\n",
       "   <rect height=\"80\" style=\"fill:rgb(255, 204, 204);\" width=\"200\" x=\"205\" y=\"25\"/>\n",
       "   <text dominant-baseline=\" middle \" font-size=\"16\" text-anchor=\" middle \" x=\"305\" y=\"65\">\n",
       "    Cash 100\n",
       "   </text>\n",
       "   <rect height=\"200\" style=\"fill:rgb(255, 204, 204);\" width=\"200\" x=\"205\" y=\"105\"/>\n",
       "   <text dominant-baseline=\" middle \" font-size=\"16\" text-anchor=\" middle \" x=\"305\" y=\"205\">\n",
       "    Reserves 250\n",
       "   </text>\n",
       "  </g>\n",
       "</svg>"
      ]
     },
     "metadata": {},
     "output_type": "display_data"
    },
    {
     "name": "stdout",
     "output_type": "stream",
     "text": [
      "Commercial Bank Money: 150\n",
      "Central Bank Money: 100\n",
      "Total (Bank) Money: 250\n"
     ]
    }
   ],
   "source": [
    "bank1.book(debit=[('Reserves',50)],credit=[('Central Bank Funding',50)])\n",
    "central_bank.book(debit=[('Loans to Banks',50)],credit=[('Reserves',50)])\n",
    "print_balance_sheets_and_money_stocks(\"b1\", \"cb\")"
   ]
  },
  {
   "cell_type": "markdown",
   "metadata": {},
   "source": [
    "The new funding from the central bank now allows Bank 1 to pay back its bond liabilities. Note how the repayment increases the money stock again that was first decreased through the sale of the bond."
   ]
  },
  {
   "cell_type": "code",
   "execution_count": 14,
   "metadata": {},
   "outputs": [
    {
     "data": {
      "image/svg+xml": [
       "<svg height=\"110\" width=\"410\">\n",
       "  <g style=\"fill-opacity:1.0; stroke:black;    stroke-width:1;\">\n",
       "   <text dominant-baseline=\" hanging \" font-size=\"19\" text-anchor=\" middle \" x=\"200\" y=\"0\">\n",
       "    Bank 1 Balance Sheet\n",
       "   </text>\n",
       "   <rect height=\"80\" style=\"fill:rgb(153, 204, 255);\" width=\"200\" x=\"5\" y=\"25\"/>\n",
       "   <text dominant-baseline=\" middle \" font-size=\"16\" text-anchor=\" middle \" x=\"105\" y=\"65\">\n",
       "    Loans 100\n",
       "   </text>\n",
       "   <rect height=\"40\" style=\"fill:rgb(204, 255, 204);\" width=\"200\" x=\"205\" y=\"25\"/>\n",
       "   <text dominant-baseline=\" middle \" font-size=\"16\" text-anchor=\" middle \" x=\"305\" y=\"45\">\n",
       "    Equity 50\n",
       "   </text>\n",
       "   <rect height=\"40\" style=\"fill:rgb(255, 204, 204);\" width=\"200\" x=\"205\" y=\"65\"/>\n",
       "   <text dominant-baseline=\" middle \" font-size=\"16\" text-anchor=\" middle \" x=\"305\" y=\"85\">\n",
       "    Central Bank Funding 50\n",
       "   </text>\n",
       "  </g>\n",
       "</svg>"
      ]
     },
     "metadata": {},
     "output_type": "display_data"
    },
    {
     "data": {
      "image/svg+xml": [
       "<svg height=\"230\" width=\"410\">\n",
       "  <g style=\"fill-opacity:1.0; stroke:black;    stroke-width:1;\">\n",
       "   <text dominant-baseline=\" hanging \" font-size=\"19\" text-anchor=\" middle \" x=\"200\" y=\"0\">\n",
       "    Bank 2 Balance Sheet\n",
       "   </text>\n",
       "   <rect height=\"200\" style=\"fill:rgb(153, 204, 255);\" width=\"200\" x=\"5\" y=\"25\"/>\n",
       "   <text dominant-baseline=\" middle \" font-size=\"16\" text-anchor=\" middle \" x=\"105\" y=\"125\">\n",
       "    Reserves 250\n",
       "   </text>\n",
       "   <rect height=\"40\" style=\"fill:rgb(204, 255, 204);\" width=\"200\" x=\"205\" y=\"25\"/>\n",
       "   <text dominant-baseline=\" middle \" font-size=\"16\" text-anchor=\" middle \" x=\"305\" y=\"45\">\n",
       "    Equity 50\n",
       "   </text>\n",
       "   <rect height=\"160\" style=\"fill:rgb(255, 204, 204);\" width=\"200\" x=\"205\" y=\"65\"/>\n",
       "   <text dominant-baseline=\" middle \" font-size=\"16\" text-anchor=\" middle \" x=\"305\" y=\"145\">\n",
       "    Deposits Customer C 200\n",
       "   </text>\n",
       "  </g>\n",
       "</svg>"
      ]
     },
     "metadata": {},
     "output_type": "display_data"
    },
    {
     "data": {
      "image/svg+xml": [
       "<svg height=\"190\" width=\"410\">\n",
       "  <g style=\"fill-opacity:1.0; stroke:black;    stroke-width:1;\">\n",
       "   <text dominant-baseline=\" hanging \" font-size=\"19\" text-anchor=\" middle \" x=\"200\" y=\"0\">\n",
       "    Private Agent C Balance Sheet\n",
       "   </text>\n",
       "   <rect height=\"160\" style=\"fill:rgb(153, 204, 255);\" width=\"200\" x=\"5\" y=\"25\"/>\n",
       "   <text dominant-baseline=\" middle \" font-size=\"16\" text-anchor=\" middle \" x=\"105\" y=\"105\">\n",
       "    Deposits 200\n",
       "   </text>\n",
       "   <rect height=\"160\" style=\"fill:rgb(204, 255, 204);\" width=\"200\" x=\"205\" y=\"25\"/>\n",
       "   <text dominant-baseline=\" middle \" font-size=\"16\" text-anchor=\" middle \" x=\"305\" y=\"105\">\n",
       "    Equity 200\n",
       "   </text>\n",
       "  </g>\n",
       "</svg>"
      ]
     },
     "metadata": {},
     "output_type": "display_data"
    },
    {
     "name": "stdout",
     "output_type": "stream",
     "text": [
      "Commercial Bank Money: 200\n",
      "Central Bank Money: 100\n",
      "Total (Bank) Money: 300\n"
     ]
    }
   ],
   "source": [
    "bank1.book(debit=[('Issued Bonds',50)],credit=[('Reserves',50)])\n",
    "bank2.book(debit=[('Reserves',50)],credit=[('Deposits Customer C',50)])\n",
    "private_agentC.book(debit=[('Deposits',50)],credit=[('Bond Holdings',50)])\n",
    "print_balance_sheets_and_money_stocks(\"b1\", \"b2\", \"pC\")"
   ]
  },
  {
   "cell_type": "markdown",
   "metadata": {},
   "source": [
    "Note that Bank 1 was dependent on the central bank for funding to refinance its bond repayment. If the central bank had refused this transaction Bank 1 would have failed due to illiquidity, even though it is still solvent (considering that it has not yet made an impairment on its loan to private agent A), a topic that we will discuss further in [Example 4](http://www.siebenbrunner.com/moneycreation/Ex4_Crises.html)"
   ]
  }
 ],
 "metadata": {
  "kernelspec": {
   "display_name": "Python 3",
   "language": "python",
   "name": "python3"
  },
  "language_info": {
   "codemirror_mode": {
    "name": "ipython",
    "version": 3
   },
   "file_extension": ".py",
   "mimetype": "text/x-python",
   "name": "python",
   "nbconvert_exporter": "python",
   "pygments_lexer": "ipython3",
   "version": "3.7.4"
  }
 },
 "nbformat": 4,
 "nbformat_minor": 2
}
