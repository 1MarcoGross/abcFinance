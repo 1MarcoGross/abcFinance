{
 "cells": [
  {
   "cell_type": "markdown",
   "metadata": {},
   "source": [
    "## Money creation example 2: Money creation and destruction through lending\n",
    "We demonstrate how money is created through bank lending and destroyed through repayment, and the effects of interest payments.\n",
    "\n",
    "We start by importing required utilities. Technical notes: the code assumes that the notebook is saved in the money creation examples folder, if you wish to save it in a different folder modify the path below accordingly (if you wish to execute or modify the code herein, it can be viewed without that). Furthermore, the cells containing booking statements should only be executed once, because the booking statements will be recorded on each execution, which may result in assertion errors, e.g. when more cash is deducted than the agent possesses. If you wish to execute the booking statements again, then all cells starting from the declaration of the agents should be executed again, in order to reset the system and repeat the sequence of booking statements."
   ]
  },
  {
   "cell_type": "code",
   "execution_count": 1,
   "metadata": {},
   "outputs": [],
   "source": [
    "import os\n",
    "import sys\n",
    "\n",
    "base_path = os.path.realpath(os.getcwd()+\"/../..\")\n",
    "sys.path.append(base_path)\n",
    "\n",
    "from abcFinance import Ledger, Account, AccountSide"
   ]
  },
  {
   "cell_type": "markdown",
   "metadata": {},
   "source": [
    "## Declaration of agents\n",
    "We start by defining their agents and the accounts on their balance sheets:"
   ]
  },
  {
   "cell_type": "code",
   "execution_count": 2,
   "metadata": {},
   "outputs": [],
   "source": [
    "bank = Ledger(residual_account_name=\"Equity\")\n",
    "private_agent = Ledger(residual_account_name=\"Equity\")\n",
    "\n",
    "bank.make_asset_accounts(['Cash','Loans','Reserves'])\n",
    "bank.make_liability_accounts(['Deposits'])\n",
    "bank.make_flow_accounts(['Interest income'])\n",
    "\n",
    "private_agent.make_asset_accounts(['Cash','Deposits'])\n",
    "private_agent.make_liability_accounts(['Loans'])\n",
    "private_agent.make_flow_accounts(['Dividend income','Interest expenses'])"
   ]
  },
  {
   "cell_type": "markdown",
   "metadata": {},
   "source": [
    "We further define a function that computes the money stocks according to our defined taxonomy:"
   ]
  },
  {
   "cell_type": "code",
   "execution_count": 3,
   "metadata": {},
   "outputs": [],
   "source": [
    "def print_money_stocks():\n",
    "    # Bank money: bank liabilities that are money\n",
    "    bank_money = bank.get_balance('Deposits')[1]\n",
    "        \n",
    "    print(\"Total (Bank) Money:\",bank_money)\n",
    "\n",
    "def print_balance_sheets_and_money_stocks():\n",
    "    print(\"Bank balance sheet:\")\n",
    "    bank.print_balance_sheet()\n",
    "    print(\"Private agent balance sheet:\")\n",
    "    private_agent.print_balance_sheet()\n",
    "    print_money_stocks()"
   ]
  },
  {
   "cell_type": "markdown",
   "metadata": {},
   "source": [
    "## Start of the example\n",
    "We start by endowing the bank and the private agent with money (note that for the sake of this example it does not matter whether the bank is a commercial or central bank)."
   ]
  },
  {
   "cell_type": "code",
   "execution_count": 4,
   "metadata": {},
   "outputs": [
    {
     "name": "stdout",
     "output_type": "stream",
     "text": [
      "Bank balance sheet:\n",
      "Asset accounts:\n",
      "   Reserves : 100\n",
      "Liability accounts:\n",
      "   Deposits : 90\n",
      "Equity:  10\n",
      "Total Assets:  100\n",
      "--\n",
      "Private agent balance sheet:\n",
      "Asset accounts:\n",
      "   Deposits : 90\n",
      "Liability accounts:\n",
      "Equity:  90\n",
      "Total Assets:  90\n",
      "--\n",
      "Total (Bank) Money: 90\n"
     ]
    }
   ],
   "source": [
    "bank.book(debit=[('Reserves',100)],credit=[('Equity',10),('Deposits',90)])\n",
    "private_agent.book(debit=[('Deposits',90)],credit=[('Equity',90)])\n",
    "bank.book_end_of_period()\n",
    "private_agent.book_end_of_period()\n",
    "print_balance_sheets_and_money_stocks()"
   ]
  },
  {
   "cell_type": "markdown",
   "metadata": {},
   "source": [
    "The bank now grants a loan to the private agent, thereby increasing the stock of total money:"
   ]
  },
  {
   "cell_type": "code",
   "execution_count": 5,
   "metadata": {},
   "outputs": [
    {
     "name": "stdout",
     "output_type": "stream",
     "text": [
      "Bank balance sheet:\n",
      "Asset accounts:\n",
      "   Loans : 100\n",
      "   Reserves : 100\n",
      "Liability accounts:\n",
      "   Deposits : 190\n",
      "Equity:  10\n",
      "Total Assets:  200\n",
      "--\n",
      "Private agent balance sheet:\n",
      "Asset accounts:\n",
      "   Deposits : 190\n",
      "Liability accounts:\n",
      "   Loans : 100\n",
      "Equity:  90\n",
      "Total Assets:  190\n",
      "--\n",
      "Total (Bank) Money: 190\n"
     ]
    }
   ],
   "source": [
    "bank.book(debit=[('Loans',100)],credit=[('Deposits',100)])\n",
    "private_agent.book(debit=[('Deposits',100)],credit=[('Loans',100)])\n",
    "print_balance_sheets_and_money_stocks()"
   ]
  },
  {
   "cell_type": "markdown",
   "metadata": {},
   "source": [
    "The private agent now pays some interest on its loan to the bank. Note that the money stock (temporarily) decreases, since the private agent uses its deposits to pay interest, thereby contributing to the bank's profit (and in this case, since there are no other expenses, equity)."
   ]
  },
  {
   "cell_type": "code",
   "execution_count": 6,
   "metadata": {},
   "outputs": [
    {
     "name": "stdout",
     "output_type": "stream",
     "text": [
      "Bank P&L and change in capital:\n",
      "Flow accounts:\n",
      "   Interest income : 5\n",
      "Profit for period:  5\n",
      "--\n",
      "Private agent P&L and change in capital:\n",
      "Flow accounts:\n",
      "   Interest expenses : -5\n",
      "Profit for period:  -5\n",
      "--\n",
      "Bank balance sheet:\n",
      "Asset accounts:\n",
      "   Loans : 100\n",
      "   Reserves : 100\n",
      "Liability accounts:\n",
      "   Deposits : 185\n",
      "Equity:  15\n",
      "Total Assets:  200\n",
      "--\n",
      "Private agent balance sheet:\n",
      "Asset accounts:\n",
      "   Deposits : 185\n",
      "Liability accounts:\n",
      "   Loans : 100\n",
      "Equity:  85\n",
      "Total Assets:  185\n",
      "--\n",
      "Total (Bank) Money: 185\n"
     ]
    }
   ],
   "source": [
    "private_agent.book(debit=[('Interest expenses',5)],credit=[('Deposits',5)])\n",
    "bank.book(debit=[('Deposits',5)],credit=[('Interest income',5)])\n",
    "print(\"Bank P&L and change in capital:\")\n",
    "bank.print_profit_and_loss()\n",
    "print(\"Private agent P&L and change in capital:\")\n",
    "private_agent.print_profit_and_loss()\n",
    "bank.book_end_of_period()\n",
    "private_agent.book_end_of_period()\n",
    "print_balance_sheets_and_money_stocks()"
   ]
  },
  {
   "cell_type": "markdown",
   "metadata": {},
   "source": [
    "The private agent now repays the loan principal, thereby (permanently) destroying the money that was created through the loan granting:"
   ]
  },
  {
   "cell_type": "code",
   "execution_count": 7,
   "metadata": {},
   "outputs": [
    {
     "name": "stdout",
     "output_type": "stream",
     "text": [
      "Bank balance sheet:\n",
      "Asset accounts:\n",
      "   Reserves : 100\n",
      "Liability accounts:\n",
      "   Deposits : 85\n",
      "Equity:  15\n",
      "Total Assets:  100\n",
      "--\n",
      "Private agent balance sheet:\n",
      "Asset accounts:\n",
      "   Deposits : 85\n",
      "Liability accounts:\n",
      "Equity:  85\n",
      "Total Assets:  85\n",
      "--\n",
      "Total (Bank) Money: 85\n"
     ]
    }
   ],
   "source": [
    "private_agent.book(debit=[('Loans',100)],credit=[('Deposits',100)])\n",
    "bank.book(debit=[('Deposits',100)],credit=[('Loans',100)])\n",
    "print_balance_sheets_and_money_stocks()"
   ]
  },
  {
   "cell_type": "markdown",
   "metadata": {},
   "source": [
    "The bank now transfers its profit from the period to the bank owners in the form of dividends, thereby increasing the money stock again. In this example the transfer goes back to the same private agent, but in practice the borrowers and owners of the bank would typically be different sets of agents. Note that in practice the bank's profit is also moved to other agents in a variety of other (expense) forms, e.g. as payment for purchases the bank makes and as salary to its employees."
   ]
  },
  {
   "cell_type": "code",
   "execution_count": 8,
   "metadata": {},
   "outputs": [
    {
     "name": "stdout",
     "output_type": "stream",
     "text": [
      "Bank P&L and change in capital:\n",
      "Flow accounts:\n",
      "Profit for period:  0\n",
      "Profit distribution and capital actions\n",
      "   Dividend payout : -5\n",
      "--\n",
      "Private agent P&L and change in capital:\n",
      "Flow accounts:\n",
      "   Dividend income : 5\n",
      "Profit for period:  5\n",
      "--\n",
      "Bank balance sheet:\n",
      "Asset accounts:\n",
      "   Reserves : 100\n",
      "Liability accounts:\n",
      "   Deposits : 90\n",
      "Equity:  10\n",
      "Total Assets:  100\n",
      "--\n",
      "Private agent balance sheet:\n",
      "Asset accounts:\n",
      "   Deposits : 90\n",
      "Liability accounts:\n",
      "Equity:  90\n",
      "Total Assets:  90\n",
      "--\n",
      "Total (Bank) Money: 90\n"
     ]
    }
   ],
   "source": [
    "bank.book(debit=[('Equity',5)],credit=[('Deposits',5)],text='Dividend payout')\n",
    "private_agent.book(debit=[('Deposits',5)],credit=[('Dividend income',5)])\n",
    "print(\"Bank P&L and change in capital:\")\n",
    "bank.print_profit_and_loss()\n",
    "print(\"Private agent P&L and change in capital:\")\n",
    "private_agent.print_profit_and_loss()\n",
    "bank.book_end_of_period()\n",
    "private_agent.book_end_of_period()\n",
    "print_balance_sheets_and_money_stocks()"
   ]
  }
 ],
 "metadata": {
  "kernelspec": {
   "display_name": "Python 3",
   "language": "python",
   "name": "python3"
  },
  "language_info": {
   "codemirror_mode": {
    "name": "ipython",
    "version": 3
   },
   "file_extension": ".py",
   "mimetype": "text/x-python",
   "name": "python",
   "nbconvert_exporter": "python",
   "pygments_lexer": "ipython3",
   "version": "3.7.4"
  }
 },
 "nbformat": 4,
 "nbformat_minor": 2
}
