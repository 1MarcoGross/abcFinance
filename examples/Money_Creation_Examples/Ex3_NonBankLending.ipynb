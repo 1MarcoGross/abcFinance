{
 "cells": [
  {
   "cell_type": "markdown",
   "metadata": {},
   "source": [
    "# Money creation example 3: Non-bank lending\n",
    "This notebook demonstrates how non-bank lending (here in the form of a primary market purchase of a government bond by a private sector agent) leaves total money stocks unaffected.\n",
    "\n",
    "We start by importing required utilities. Technical notes: the code assumes that the notebook is saved in the money creation examples folder, if you wish to save it in a different folder modify the path below accordingly (if you wish to execute or modify the code herein, it can be viewed without that). Furthermore, the cells containing booking statements should only be executed once, because the booking statements will be recorded on each execution, which may result in assertion errors, e.g. when more cash is deducted than the agent possesses. If you wish to execute the booking statements again, then all cells starting from the declaration of the agents should be executed again, in order to reset the system and repeat the sequence of booking statements."
   ]
  },
  {
   "cell_type": "code",
   "execution_count": 1,
   "metadata": {},
   "outputs": [],
   "source": [
    "import os\n",
    "import sys\n",
    "\n",
    "base_path = os.path.realpath(os.getcwd()+\"/../..\")\n",
    "sys.path.append(base_path)\n",
    "\n",
    "from abcFinance import Ledger, Account, AccountSide"
   ]
  },
  {
   "cell_type": "markdown",
   "metadata": {},
   "source": [
    "## Declaration of agents\n",
    "We start by defining their agents and the accounts on their balance sheets:"
   ]
  },
  {
   "cell_type": "code",
   "execution_count": 2,
   "metadata": {},
   "outputs": [],
   "source": [
    "bank = Ledger(residual_account_name=\"Equity\")\n",
    "private_agent = Ledger(residual_account_name=\"Equity\")\n",
    "government = Ledger(residual_account_name=\"Equity\")\n",
    "\n",
    "bank.make_asset_accounts(['Reserves'])\n",
    "bank.make_liability_accounts(['Customer Deposits', 'Government Deposits'])\n",
    "\n",
    "private_agent.make_asset_accounts(['Deposits','Government Bonds'])\n",
    "\n",
    "government.make_asset_accounts(['Deposits'])\n",
    "government.make_liability_accounts(['Bonds'])"
   ]
  },
  {
   "cell_type": "markdown",
   "metadata": {},
   "source": [
    "We further define a function that computes the money stocks according to our defined taxonomy:"
   ]
  },
  {
   "cell_type": "code",
   "execution_count": 3,
   "metadata": {},
   "outputs": [],
   "source": [
    "def print_money_stocks():\n",
    "    # Bank money: bank liabilities that are money\n",
    "    bank_money = bank.get_balance('Customer Deposits')[1]\n",
    "    bank_money += bank.get_balance('Government Deposits')[1]\n",
    "        \n",
    "    print(\"Total (Bank) Money:\",bank_money)\n",
    "\n",
    "def print_balance_sheets_and_money_stocks():\n",
    "    print(\"Bank balance sheet:\")\n",
    "    bank.print_balance_sheet()\n",
    "    print(\"Private agent balance sheet:\")\n",
    "    private_agent.print_balance_sheet()\n",
    "    print(\"Government balance sheet:\")\n",
    "    government.print_balance_sheet()\n",
    "    print_money_stocks()"
   ]
  },
  {
   "cell_type": "markdown",
   "metadata": {},
   "source": [
    "## Start of the example\n",
    "We start by endowing the private sector agent with money holdings. The government starts with an empty balance sheet. The bank's balance sheet only reflects the money holdings by the private sector agent. We omit the central bank balance sheet for brevity."
   ]
  },
  {
   "cell_type": "code",
   "execution_count": 4,
   "metadata": {},
   "outputs": [
    {
     "name": "stdout",
     "output_type": "stream",
     "text": [
      "Bank balance sheet:\n",
      "Asset accounts:\n",
      "   Reserves : 200\n",
      "Liability accounts:\n",
      "   Customer Deposits : 200\n",
      "Equity:  0\n",
      "Total Assets:  200\n",
      "--\n",
      "Private agent balance sheet:\n",
      "Asset accounts:\n",
      "   Deposits : 200\n",
      "Liability accounts:\n",
      "Equity:  200\n",
      "Total Assets:  200\n",
      "--\n",
      "Government balance sheet:\n",
      "Asset accounts:\n",
      "Liability accounts:\n",
      "Equity:  0\n",
      "Total Assets:  0\n",
      "--\n",
      "Total (Bank) Money: 200\n"
     ]
    }
   ],
   "source": [
    "bank.book(debit=[('Reserves',200)],credit=[('Customer Deposits',200)])\n",
    "private_agent.book(debit=[('Deposits',200)],credit=[('Equity',200)])\n",
    "bank.book_end_of_period()\n",
    "private_agent.book_end_of_period()\n",
    "print_balance_sheets_and_money_stocks()"
   ]
  },
  {
   "cell_type": "markdown",
   "metadata": {},
   "source": [
    "The private sector agent now uses some of its money holdings to purchase a newly issued bond directly from the government. The transaction reallocates money holdings from the household to the government, leaving total money stocks unaffected:"
   ]
  },
  {
   "cell_type": "code",
   "execution_count": 5,
   "metadata": {},
   "outputs": [
    {
     "name": "stdout",
     "output_type": "stream",
     "text": [
      "Bank balance sheet:\n",
      "Asset accounts:\n",
      "   Reserves : 200\n",
      "Liability accounts:\n",
      "   Customer Deposits : 100\n",
      "   Government Deposits : 100\n",
      "Equity:  0\n",
      "Total Assets:  200\n",
      "--\n",
      "Private agent balance sheet:\n",
      "Asset accounts:\n",
      "   Deposits : 100\n",
      "   Government Bonds : 100\n",
      "Liability accounts:\n",
      "Equity:  200\n",
      "Total Assets:  200\n",
      "--\n",
      "Government balance sheet:\n",
      "Asset accounts:\n",
      "   Deposits : 100\n",
      "Liability accounts:\n",
      "   Bonds : 100\n",
      "Equity:  0\n",
      "Total Assets:  100\n",
      "--\n",
      "Total (Bank) Money: 200\n"
     ]
    }
   ],
   "source": [
    "private_agent.book(debit=[('Government Bonds',100)],credit=[('Deposits',100)])\n",
    "bank.book(debit=[('Customer Deposits',100)],credit=[('Government Deposits',100)])\n",
    "government.book(debit=[('Deposits',100)],credit=[('Bonds',100)])\n",
    "print_balance_sheets_and_money_stocks()"
   ]
  }
 ],
 "metadata": {
  "kernelspec": {
   "display_name": "Python 3",
   "language": "python",
   "name": "python3"
  },
  "language_info": {
   "codemirror_mode": {
    "name": "ipython",
    "version": 3
   },
   "file_extension": ".py",
   "mimetype": "text/x-python",
   "name": "python",
   "nbconvert_exporter": "python",
   "pygments_lexer": "ipython3",
   "version": "3.7.4"
  }
 },
 "nbformat": 4,
 "nbformat_minor": 2
}
