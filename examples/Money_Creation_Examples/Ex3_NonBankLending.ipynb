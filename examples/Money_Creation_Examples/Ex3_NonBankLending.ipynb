{
 "cells": [
  {
   "cell_type": "markdown",
   "metadata": {},
   "source": [
    "# Money creation example 3: Non-bank lending\n",
    "This notebook demonstrates how non-bank lending (here in the form of a primary market purchase of a government bond by a private sector agent) leaves total money stocks unaffected.\n",
    "\n",
    "We start by importing required utilities."
   ]
  },
  {
   "cell_type": "code",
   "execution_count": 1,
   "metadata": {},
   "outputs": [],
   "source": [
    "import os\n",
    "import sys\n",
    "\n",
    "base_path = os.path.realpath(os.getcwd()+\"/../..\")\n",
    "sys.path.append(base_path)\n",
    "\n",
    "from abcFinance import Ledger, Account, AccountSide"
   ]
  },
  {
   "cell_type": "markdown",
   "metadata": {},
   "source": [
    "## Declaration of agents\n",
    "We start by defining their agents and the accounts on their balance sheets:"
   ]
  },
  {
   "cell_type": "code",
   "execution_count": 2,
   "metadata": {},
   "outputs": [],
   "source": [
    "bank = Ledger(residual_account_name=\"Equity\")\n",
    "private_agent = Ledger(residual_account_name=\"Equity\")\n",
    "government = Ledger(residual_account_name=\"Equity\")\n",
    "\n",
    "bank.make_asset_accounts(['Reserves'])\n",
    "bank.make_liability_accounts(['Customer Deposits', 'Government Deposits'])\n",
    "\n",
    "private_agent.make_asset_accounts(['Deposits','Government Bonds'])\n",
    "\n",
    "government.make_asset_accounts(['Deposits'])\n",
    "government.make_liability_accounts(['Bonds'])"
   ]
  },
  {
   "cell_type": "markdown",
   "metadata": {},
   "source": [
    "We further define a function that computes the money stocks according to our defined taxonomy:"
   ]
  },
  {
   "cell_type": "code",
   "execution_count": 3,
   "metadata": {},
   "outputs": [],
   "source": [
    "from IPython.core.display import SVG\n",
    "from IPython.display import display_svg\n",
    "\n",
    "def print_money_stocks():\n",
    "    # Bank money: bank liabilities that are money\n",
    "    bank_money = bank.get_balance('Customer Deposits')[1]\n",
    "    bank_money += bank.get_balance('Government Deposits')[1]\n",
    "        \n",
    "    print(\"Total (Bank) Money:\",bank_money)\n",
    "\n",
    "def print_balance_sheets_and_money_stocks():\n",
    "    bank_balance_sheet = SVG(bank.draw_balance_sheet(\"Bank Balance Sheet\", width=450))\n",
    "    private_agent_balance_sheet = SVG(private_agent.draw_balance_sheet(\"Private Agent Balance Sheet\", width=450))\n",
    "    \n",
    "    if government.get_total_assets() > 0:\n",
    "        government_balance_sheet = SVG(government.draw_balance_sheet(\"Government Balance Sheet\", width=450))\n",
    "        display_svg(bank_balance_sheet, private_agent_balance_sheet, government_balance_sheet)\n",
    "    else:\n",
    "        display_svg(bank_balance_sheet, private_agent_balance_sheet)\n",
    "        \n",
    "    print_money_stocks()"
   ]
  },
  {
   "cell_type": "markdown",
   "metadata": {},
   "source": [
    "## Start of the example\n",
    "We start by endowing the private sector agent with money holdings. The government starts with an empty balance sheet. The bank's balance sheet only reflects the money holdings by the private sector agent. We omit the central bank balance sheet for brevity."
   ]
  },
  {
   "cell_type": "code",
   "execution_count": 4,
   "metadata": {},
   "outputs": [
    {
     "data": {
      "image/svg+xml": [
       "<svg height=\"240\" width=\"450\">\n",
       "  <g style=\"fill-opacity:1.0; stroke:black;    stroke-width:1;\">\n",
       "   <text dominant-baseline=\" hanging \" font-size=\"24\" text-anchor=\" middle \" x=\"220\" y=\"0\">\n",
       "    Bank Balance Sheet\n",
       "   </text>\n",
       "   <rect height=\"200\" style=\"fill:rgb(153, 204, 255);\" width=\"220\" x=\"5\" y=\"35\"/>\n",
       "   <text dominant-baseline=\" middle \" font-size=\"18\" text-anchor=\" middle \" x=\"115\" y=\"135\">\n",
       "    Reserves 200\n",
       "   </text>\n",
       "   <rect height=\"200\" style=\"fill:rgb(255, 204, 204);\" width=\"220\" x=\"225\" y=\"35\"/>\n",
       "   <text dominant-baseline=\" middle \" font-size=\"18\" text-anchor=\" middle \" x=\"335\" y=\"135\">\n",
       "    Customer Deposits 200\n",
       "   </text>\n",
       "  </g>\n",
       "</svg>"
      ]
     },
     "metadata": {},
     "output_type": "display_data"
    },
    {
     "data": {
      "image/svg+xml": [
       "<svg height=\"240\" width=\"450\">\n",
       "  <g style=\"fill-opacity:1.0; stroke:black;    stroke-width:1;\">\n",
       "   <text dominant-baseline=\" hanging \" font-size=\"24\" text-anchor=\" middle \" x=\"220\" y=\"0\">\n",
       "    Private Agent Balance Sheet\n",
       "   </text>\n",
       "   <rect height=\"200\" style=\"fill:rgb(153, 204, 255);\" width=\"220\" x=\"5\" y=\"35\"/>\n",
       "   <text dominant-baseline=\" middle \" font-size=\"18\" text-anchor=\" middle \" x=\"115\" y=\"135\">\n",
       "    Deposits 200\n",
       "   </text>\n",
       "   <rect height=\"200\" style=\"fill:rgb(204, 255, 204);\" width=\"220\" x=\"225\" y=\"35\"/>\n",
       "   <text dominant-baseline=\" middle \" font-size=\"18\" text-anchor=\" middle \" x=\"335\" y=\"135\">\n",
       "    Equity 200\n",
       "   </text>\n",
       "  </g>\n",
       "</svg>"
      ]
     },
     "metadata": {},
     "output_type": "display_data"
    },
    {
     "name": "stdout",
     "output_type": "stream",
     "text": [
      "Total (Bank) Money: 200\n"
     ]
    }
   ],
   "source": [
    "bank.book(debit=[('Reserves',200)],credit=[('Customer Deposits',200)])\n",
    "private_agent.book(debit=[('Deposits',200)],credit=[('Equity',200)])\n",
    "bank.book_end_of_period()\n",
    "private_agent.book_end_of_period()\n",
    "print_balance_sheets_and_money_stocks()"
   ]
  },
  {
   "cell_type": "markdown",
   "metadata": {},
   "source": [
    "The private sector agent now uses some of its money holdings to purchase a newly issued bond directly from the government. The transaction reallocates money holdings from the household to the government, leaving total money stocks unaffected:"
   ]
  },
  {
   "cell_type": "code",
   "execution_count": 5,
   "metadata": {},
   "outputs": [
    {
     "data": {
      "image/svg+xml": [
       "<svg height=\"240\" width=\"450\">\n",
       "  <g style=\"fill-opacity:1.0; stroke:black;    stroke-width:1;\">\n",
       "   <text dominant-baseline=\" hanging \" font-size=\"24\" text-anchor=\" middle \" x=\"220\" y=\"0\">\n",
       "    Bank Balance Sheet\n",
       "   </text>\n",
       "   <rect height=\"200\" style=\"fill:rgb(153, 204, 255);\" width=\"220\" x=\"5\" y=\"35\"/>\n",
       "   <text dominant-baseline=\" middle \" font-size=\"18\" text-anchor=\" middle \" x=\"115\" y=\"135\">\n",
       "    Reserves 200\n",
       "   </text>\n",
       "   <rect height=\"100\" style=\"fill:rgb(255, 204, 204);\" width=\"220\" x=\"225\" y=\"35\"/>\n",
       "   <text dominant-baseline=\" middle \" font-size=\"18\" text-anchor=\" middle \" x=\"335\" y=\"85\">\n",
       "    Customer Deposits 100\n",
       "   </text>\n",
       "   <rect height=\"100\" style=\"fill:rgb(255, 204, 204);\" width=\"220\" x=\"225\" y=\"135\"/>\n",
       "   <text dominant-baseline=\" middle \" font-size=\"18\" text-anchor=\" middle \" x=\"335\" y=\"185\">\n",
       "    Government Deposits 100\n",
       "   </text>\n",
       "  </g>\n",
       "</svg>"
      ]
     },
     "metadata": {},
     "output_type": "display_data"
    },
    {
     "data": {
      "image/svg+xml": [
       "<svg height=\"240\" width=\"450\">\n",
       "  <g style=\"fill-opacity:1.0; stroke:black;    stroke-width:1;\">\n",
       "   <text dominant-baseline=\" hanging \" font-size=\"24\" text-anchor=\" middle \" x=\"220\" y=\"0\">\n",
       "    Private Agent Balance Sheet\n",
       "   </text>\n",
       "   <rect height=\"100\" style=\"fill:rgb(153, 204, 255);\" width=\"220\" x=\"5\" y=\"35\"/>\n",
       "   <text dominant-baseline=\" middle \" font-size=\"18\" text-anchor=\" middle \" x=\"115\" y=\"85\">\n",
       "    Deposits 100\n",
       "   </text>\n",
       "   <rect height=\"100\" style=\"fill:rgb(153, 204, 255);\" width=\"220\" x=\"5\" y=\"135\"/>\n",
       "   <text dominant-baseline=\" middle \" font-size=\"18\" text-anchor=\" middle \" x=\"115\" y=\"185\">\n",
       "    Government Bonds 100\n",
       "   </text>\n",
       "   <rect height=\"200\" style=\"fill:rgb(204, 255, 204);\" width=\"220\" x=\"225\" y=\"35\"/>\n",
       "   <text dominant-baseline=\" middle \" font-size=\"18\" text-anchor=\" middle \" x=\"335\" y=\"135\">\n",
       "    Equity 200\n",
       "   </text>\n",
       "  </g>\n",
       "</svg>"
      ]
     },
     "metadata": {},
     "output_type": "display_data"
    },
    {
     "data": {
      "image/svg+xml": [
       "<svg height=\"140\" width=\"450\">\n",
       "  <g style=\"fill-opacity:1.0; stroke:black;    stroke-width:1;\">\n",
       "   <text dominant-baseline=\" hanging \" font-size=\"24\" text-anchor=\" middle \" x=\"220\" y=\"0\">\n",
       "    Government Balance Sheet\n",
       "   </text>\n",
       "   <rect height=\"100\" style=\"fill:rgb(153, 204, 255);\" width=\"220\" x=\"5\" y=\"35\"/>\n",
       "   <text dominant-baseline=\" middle \" font-size=\"18\" text-anchor=\" middle \" x=\"115\" y=\"85\">\n",
       "    Deposits 100\n",
       "   </text>\n",
       "   <rect height=\"100\" style=\"fill:rgb(255, 204, 204);\" width=\"220\" x=\"225\" y=\"35\"/>\n",
       "   <text dominant-baseline=\" middle \" font-size=\"18\" text-anchor=\" middle \" x=\"335\" y=\"85\">\n",
       "    Bonds 100\n",
       "   </text>\n",
       "  </g>\n",
       "</svg>"
      ]
     },
     "metadata": {},
     "output_type": "display_data"
    },
    {
     "name": "stdout",
     "output_type": "stream",
     "text": [
      "Total (Bank) Money: 200\n"
     ]
    }
   ],
   "source": [
    "private_agent.book(debit=[('Government Bonds',100)],credit=[('Deposits',100)])\n",
    "bank.book(debit=[('Customer Deposits',100)],credit=[('Government Deposits',100)])\n",
    "government.book(debit=[('Deposits',100)],credit=[('Bonds',100)])\n",
    "print_balance_sheets_and_money_stocks()"
   ]
  }
 ],
 "metadata": {
  "kernelspec": {
   "display_name": "Python 3",
   "language": "python",
   "name": "python3"
  },
  "language_info": {
   "codemirror_mode": {
    "name": "ipython",
    "version": 3
   },
   "file_extension": ".py",
   "mimetype": "text/x-python",
   "name": "python",
   "nbconvert_exporter": "python",
   "pygments_lexer": "ipython3",
   "version": "3.7.4"
  }
 },
 "nbformat": 4,
 "nbformat_minor": 2
}
