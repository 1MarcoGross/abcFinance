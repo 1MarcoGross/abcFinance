{
 "cells": [
  {
   "cell_type": "markdown",
   "metadata": {},
   "source": [
    "# Money creation example: Initialization\n",
    "This notebook demonstrates the introduction of money into an economy.\n",
    "\n",
    "We start by importing required utilities."
   ]
  },
  {
   "cell_type": "code",
   "execution_count": 1,
   "metadata": {},
   "outputs": [],
   "source": [
    "import os\n",
    "import sys\n",
    "\n",
    "base_path = os.path.realpath(os.getcwd()+\"/../..\")\n",
    "sys.path.append(base_path)\n",
    "\n",
    "from abcFinance import Ledger, Account, AccountSide"
   ]
  },
  {
   "cell_type": "markdown",
   "metadata": {},
   "source": [
    "## Declaration of agents\n",
    "We start by defining their agents and the accounts on their balance sheets:"
   ]
  },
  {
   "cell_type": "code",
   "execution_count": 2,
   "metadata": {},
   "outputs": [],
   "source": [
    "bank = Ledger(residual_account_name=\"Equity\")\n",
    "private_agent = Ledger(residual_account_name=\"Equity\")\n",
    "central_bank = Ledger(residual_account_name=\"Equity\")\n",
    "\n",
    "bank.make_asset_accounts(['Cash','Loans','Reserves'])\n",
    "bank.make_liability_accounts(['Deposits'])\n",
    "\n",
    "private_agent.make_asset_accounts(['Cash','Deposits'])\n",
    "private_agent.make_liability_accounts(['Loans'])\n",
    "\n",
    "central_bank.make_asset_accounts(['Assets'])\n",
    "central_bank.make_liability_accounts(['Reserves','Cash'])"
   ]
  },
  {
   "cell_type": "markdown",
   "metadata": {},
   "source": [
    "We further define a function that computes the money stocks according to our defined taxonomy:"
   ]
  },
  {
   "cell_type": "code",
   "execution_count": 3,
   "metadata": {},
   "outputs": [],
   "source": [
    "from IPython.core.display import SVG\n",
    "from IPython.display import display_svg\n",
    "\n",
    "def print_money_stocks():\n",
    "    # Commercial bank money: bank liabilities that are money\n",
    "    commercial_bank_money = bank.get_balance('Deposits')[1]\n",
    "    \n",
    "    # Central bank money: CB liabilities that are money and not held by a bank\n",
    "    central_bank_money = private_agent.get_balance('Cash')[1]\n",
    "    \n",
    "    # no non-bank money in this example\n",
    "    \n",
    "    total_money = commercial_bank_money + central_bank_money\n",
    "    \n",
    "    if (commercial_bank_money > 0):\n",
    "        print(\"Commercial Bank Money:\",commercial_bank_money)\n",
    "    if (central_bank_money > 0):\n",
    "        print(\"Central Bank Money:\",central_bank_money)\n",
    "    print(\"Total Money:\",total_money)\n",
    "\n",
    "def print_balance_sheets_and_money_stocks():\n",
    "    bank_balance_sheet = SVG(bank.draw_balance_sheet(\"Bank Balance Sheet\"))\n",
    "    private_agent_balance_sheet = SVG(private_agent.draw_balance_sheet(\"Private Agent Balance Sheet\"))\n",
    "    central_bank_balance_sheet = SVG(central_bank.draw_balance_sheet(\"Central Bank Balance Sheet\"))\n",
    "    \n",
    "    display_svg(bank_balance_sheet, private_agent_balance_sheet, central_bank_balance_sheet)\n",
    "    print_money_stocks()"
   ]
  },
  {
   "cell_type": "markdown",
   "metadata": {},
   "source": [
    "## Start of the example\n",
    "The bank and the private agent start with some endowments of central bank money, the central bank is assumed to have sufficient assets to start with 0 equity."
   ]
  },
  {
   "cell_type": "code",
   "execution_count": 4,
   "metadata": {},
   "outputs": [],
   "source": [
    "bank.book(debit=[('Cash',50)],credit=[('Equity',50)])\n",
    "private_agent.book(debit=[('Cash',100)],credit=[('Equity',100)])\n",
    "central_bank.book(debit=[('Assets',150)],credit=[('Cash',150)])"
   ]
  },
  {
   "cell_type": "markdown",
   "metadata": {},
   "source": [
    "We can now inspect the balance sheets of the agents and the money stocks. We note that we are using the following color conventions: assets are colored in blue, liabilities in red and equity in green. Negative equity (which will occur in later examples) is coloured in dark red."
   ]
  },
  {
   "cell_type": "code",
   "execution_count": 5,
   "metadata": {},
   "outputs": [
    {
     "data": {
      "image/svg+xml": [
       "<svg height=\"90\" width=\"400\">\n",
       "  <g style=\"fill-opacity:1.0; stroke:black;    stroke-width:1;\">\n",
       "   <text dominant-baseline=\" hanging \" font-size=\"24\" text-anchor=\" middle \" x=\"195\" y=\"0\">\n",
       "    Bank Balance Sheet\n",
       "   </text>\n",
       "   <rect height=\"50\" style=\"fill:rgb(153, 204, 255);\" width=\"195\" x=\"5\" y=\"35\"/>\n",
       "   <text dominant-baseline=\" middle \" font-size=\"18\" text-anchor=\" middle \" x=\"102\" y=\"60\">\n",
       "    Cash 50\n",
       "   </text>\n",
       "   <rect height=\"50\" style=\"fill:rgb(204, 255, 204);\" width=\"195\" x=\"200\" y=\"35\"/>\n",
       "   <text dominant-baseline=\" middle \" font-size=\"18\" text-anchor=\" middle \" x=\"297\" y=\"60\">\n",
       "    Equity 50\n",
       "   </text>\n",
       "  </g>\n",
       "</svg>"
      ]
     },
     "metadata": {},
     "output_type": "display_data"
    },
    {
     "data": {
      "image/svg+xml": [
       "<svg height=\"140\" width=\"400\">\n",
       "  <g style=\"fill-opacity:1.0; stroke:black;    stroke-width:1;\">\n",
       "   <text dominant-baseline=\" hanging \" font-size=\"24\" text-anchor=\" middle \" x=\"195\" y=\"0\">\n",
       "    Private Agent Balance Sheet\n",
       "   </text>\n",
       "   <rect height=\"100\" style=\"fill:rgb(153, 204, 255);\" width=\"195\" x=\"5\" y=\"35\"/>\n",
       "   <text dominant-baseline=\" middle \" font-size=\"18\" text-anchor=\" middle \" x=\"102\" y=\"85\">\n",
       "    Cash 100\n",
       "   </text>\n",
       "   <rect height=\"100\" style=\"fill:rgb(204, 255, 204);\" width=\"195\" x=\"200\" y=\"35\"/>\n",
       "   <text dominant-baseline=\" middle \" font-size=\"18\" text-anchor=\" middle \" x=\"297\" y=\"85\">\n",
       "    Equity 100\n",
       "   </text>\n",
       "  </g>\n",
       "</svg>"
      ]
     },
     "metadata": {},
     "output_type": "display_data"
    },
    {
     "data": {
      "image/svg+xml": [
       "<svg height=\"190\" width=\"400\">\n",
       "  <g style=\"fill-opacity:1.0; stroke:black;    stroke-width:1;\">\n",
       "   <text dominant-baseline=\" hanging \" font-size=\"24\" text-anchor=\" middle \" x=\"195\" y=\"0\">\n",
       "    Central Bank Balance Sheet\n",
       "   </text>\n",
       "   <rect height=\"150\" style=\"fill:rgb(153, 204, 255);\" width=\"195\" x=\"5\" y=\"35\"/>\n",
       "   <text dominant-baseline=\" middle \" font-size=\"18\" text-anchor=\" middle \" x=\"102\" y=\"110\">\n",
       "    Assets 150\n",
       "   </text>\n",
       "   <rect height=\"150\" style=\"fill:rgb(255, 204, 204);\" width=\"195\" x=\"200\" y=\"35\"/>\n",
       "   <text dominant-baseline=\" middle \" font-size=\"18\" text-anchor=\" middle \" x=\"297\" y=\"110\">\n",
       "    Cash 150\n",
       "   </text>\n",
       "  </g>\n",
       "</svg>"
      ]
     },
     "metadata": {},
     "output_type": "display_data"
    },
    {
     "name": "stdout",
     "output_type": "stream",
     "text": [
      "Central Bank Money: 100\n",
      "Total Money: 100\n"
     ]
    }
   ],
   "source": [
    "print_balance_sheets_and_money_stocks()"
   ]
  },
  {
   "cell_type": "markdown",
   "metadata": {},
   "source": [
    "Now the private agent transfers its cash to the bank (we see that the outside money is thereby converted to inside money, while the total money stock stays constant):"
   ]
  },
  {
   "cell_type": "code",
   "execution_count": 6,
   "metadata": {},
   "outputs": [
    {
     "data": {
      "image/svg+xml": [
       "<svg height=\"190\" width=\"400\">\n",
       "  <g style=\"fill-opacity:1.0; stroke:black;    stroke-width:1;\">\n",
       "   <text dominant-baseline=\" hanging \" font-size=\"24\" text-anchor=\" middle \" x=\"195\" y=\"0\">\n",
       "    Bank Balance Sheet\n",
       "   </text>\n",
       "   <rect height=\"150\" style=\"fill:rgb(153, 204, 255);\" width=\"195\" x=\"5\" y=\"35\"/>\n",
       "   <text dominant-baseline=\" middle \" font-size=\"18\" text-anchor=\" middle \" x=\"102\" y=\"110\">\n",
       "    Cash 150\n",
       "   </text>\n",
       "   <rect height=\"50\" style=\"fill:rgb(204, 255, 204);\" width=\"195\" x=\"200\" y=\"35\"/>\n",
       "   <text dominant-baseline=\" middle \" font-size=\"18\" text-anchor=\" middle \" x=\"297\" y=\"60\">\n",
       "    Equity 50\n",
       "   </text>\n",
       "   <rect height=\"100\" style=\"fill:rgb(255, 204, 204);\" width=\"195\" x=\"200\" y=\"85\"/>\n",
       "   <text dominant-baseline=\" middle \" font-size=\"18\" text-anchor=\" middle \" x=\"297\" y=\"135\">\n",
       "    Deposits 100\n",
       "   </text>\n",
       "  </g>\n",
       "</svg>"
      ]
     },
     "metadata": {},
     "output_type": "display_data"
    },
    {
     "data": {
      "image/svg+xml": [
       "<svg height=\"140\" width=\"400\">\n",
       "  <g style=\"fill-opacity:1.0; stroke:black;    stroke-width:1;\">\n",
       "   <text dominant-baseline=\" hanging \" font-size=\"24\" text-anchor=\" middle \" x=\"195\" y=\"0\">\n",
       "    Private Agent Balance Sheet\n",
       "   </text>\n",
       "   <rect height=\"100\" style=\"fill:rgb(153, 204, 255);\" width=\"195\" x=\"5\" y=\"35\"/>\n",
       "   <text dominant-baseline=\" middle \" font-size=\"18\" text-anchor=\" middle \" x=\"102\" y=\"85\">\n",
       "    Deposits 100\n",
       "   </text>\n",
       "   <rect height=\"100\" style=\"fill:rgb(204, 255, 204);\" width=\"195\" x=\"200\" y=\"35\"/>\n",
       "   <text dominant-baseline=\" middle \" font-size=\"18\" text-anchor=\" middle \" x=\"297\" y=\"85\">\n",
       "    Equity 100\n",
       "   </text>\n",
       "  </g>\n",
       "</svg>"
      ]
     },
     "metadata": {},
     "output_type": "display_data"
    },
    {
     "data": {
      "image/svg+xml": [
       "<svg height=\"190\" width=\"400\">\n",
       "  <g style=\"fill-opacity:1.0; stroke:black;    stroke-width:1;\">\n",
       "   <text dominant-baseline=\" hanging \" font-size=\"24\" text-anchor=\" middle \" x=\"195\" y=\"0\">\n",
       "    Central Bank Balance Sheet\n",
       "   </text>\n",
       "   <rect height=\"150\" style=\"fill:rgb(153, 204, 255);\" width=\"195\" x=\"5\" y=\"35\"/>\n",
       "   <text dominant-baseline=\" middle \" font-size=\"18\" text-anchor=\" middle \" x=\"102\" y=\"110\">\n",
       "    Assets 150\n",
       "   </text>\n",
       "   <rect height=\"150\" style=\"fill:rgb(255, 204, 204);\" width=\"195\" x=\"200\" y=\"35\"/>\n",
       "   <text dominant-baseline=\" middle \" font-size=\"18\" text-anchor=\" middle \" x=\"297\" y=\"110\">\n",
       "    Cash 150\n",
       "   </text>\n",
       "  </g>\n",
       "</svg>"
      ]
     },
     "metadata": {},
     "output_type": "display_data"
    },
    {
     "name": "stdout",
     "output_type": "stream",
     "text": [
      "Commercial Bank Money: 100\n",
      "Total Money: 100\n"
     ]
    }
   ],
   "source": [
    "private_agent.book(debit=[('Deposits',100)],credit=[('Cash',100)])\n",
    "bank.book(debit=[('Cash',100)],credit=[('Deposits',100)])\n",
    "print_balance_sheets_and_money_stocks()"
   ]
  },
  {
   "cell_type": "markdown",
   "metadata": {},
   "source": [
    "The bank now converts all its cash into reserves at the central bank (this transaction again keeps the money stock constant):"
   ]
  },
  {
   "cell_type": "code",
   "execution_count": 7,
   "metadata": {},
   "outputs": [
    {
     "data": {
      "image/svg+xml": [
       "<svg height=\"190\" width=\"400\">\n",
       "  <g style=\"fill-opacity:1.0; stroke:black;    stroke-width:1;\">\n",
       "   <text dominant-baseline=\" hanging \" font-size=\"24\" text-anchor=\" middle \" x=\"195\" y=\"0\">\n",
       "    Bank Balance Sheet\n",
       "   </text>\n",
       "   <rect height=\"150\" style=\"fill:rgb(153, 204, 255);\" width=\"195\" x=\"5\" y=\"35\"/>\n",
       "   <text dominant-baseline=\" middle \" font-size=\"18\" text-anchor=\" middle \" x=\"102\" y=\"110\">\n",
       "    Reserves 150\n",
       "   </text>\n",
       "   <rect height=\"50\" style=\"fill:rgb(204, 255, 204);\" width=\"195\" x=\"200\" y=\"35\"/>\n",
       "   <text dominant-baseline=\" middle \" font-size=\"18\" text-anchor=\" middle \" x=\"297\" y=\"60\">\n",
       "    Equity 50\n",
       "   </text>\n",
       "   <rect height=\"100\" style=\"fill:rgb(255, 204, 204);\" width=\"195\" x=\"200\" y=\"85\"/>\n",
       "   <text dominant-baseline=\" middle \" font-size=\"18\" text-anchor=\" middle \" x=\"297\" y=\"135\">\n",
       "    Deposits 100\n",
       "   </text>\n",
       "  </g>\n",
       "</svg>"
      ]
     },
     "metadata": {},
     "output_type": "display_data"
    },
    {
     "data": {
      "image/svg+xml": [
       "<svg height=\"140\" width=\"400\">\n",
       "  <g style=\"fill-opacity:1.0; stroke:black;    stroke-width:1;\">\n",
       "   <text dominant-baseline=\" hanging \" font-size=\"24\" text-anchor=\" middle \" x=\"195\" y=\"0\">\n",
       "    Private Agent Balance Sheet\n",
       "   </text>\n",
       "   <rect height=\"100\" style=\"fill:rgb(153, 204, 255);\" width=\"195\" x=\"5\" y=\"35\"/>\n",
       "   <text dominant-baseline=\" middle \" font-size=\"18\" text-anchor=\" middle \" x=\"102\" y=\"85\">\n",
       "    Deposits 100\n",
       "   </text>\n",
       "   <rect height=\"100\" style=\"fill:rgb(204, 255, 204);\" width=\"195\" x=\"200\" y=\"35\"/>\n",
       "   <text dominant-baseline=\" middle \" font-size=\"18\" text-anchor=\" middle \" x=\"297\" y=\"85\">\n",
       "    Equity 100\n",
       "   </text>\n",
       "  </g>\n",
       "</svg>"
      ]
     },
     "metadata": {},
     "output_type": "display_data"
    },
    {
     "data": {
      "image/svg+xml": [
       "<svg height=\"190\" width=\"400\">\n",
       "  <g style=\"fill-opacity:1.0; stroke:black;    stroke-width:1;\">\n",
       "   <text dominant-baseline=\" hanging \" font-size=\"24\" text-anchor=\" middle \" x=\"195\" y=\"0\">\n",
       "    Central Bank Balance Sheet\n",
       "   </text>\n",
       "   <rect height=\"150\" style=\"fill:rgb(153, 204, 255);\" width=\"195\" x=\"5\" y=\"35\"/>\n",
       "   <text dominant-baseline=\" middle \" font-size=\"18\" text-anchor=\" middle \" x=\"102\" y=\"110\">\n",
       "    Assets 150\n",
       "   </text>\n",
       "   <rect height=\"150\" style=\"fill:rgb(255, 204, 204);\" width=\"195\" x=\"200\" y=\"35\"/>\n",
       "   <text dominant-baseline=\" middle \" font-size=\"18\" text-anchor=\" middle \" x=\"297\" y=\"110\">\n",
       "    Reserves 150\n",
       "   </text>\n",
       "  </g>\n",
       "</svg>"
      ]
     },
     "metadata": {},
     "output_type": "display_data"
    },
    {
     "name": "stdout",
     "output_type": "stream",
     "text": [
      "Commercial Bank Money: 100\n",
      "Total Money: 100\n"
     ]
    }
   ],
   "source": [
    "bank.book(debit=[('Reserves',150)],credit=[('Cash',150)])\n",
    "central_bank.book(debit=[('Cash',150)],credit=[('Reserves',150)])\n",
    "print_balance_sheets_and_money_stocks()"
   ]
  }
 ],
 "metadata": {
  "kernelspec": {
   "display_name": "Python 3",
   "language": "python",
   "name": "python3"
  },
  "language_info": {
   "codemirror_mode": {
    "name": "ipython",
    "version": 3
   },
   "file_extension": ".py",
   "mimetype": "text/x-python",
   "name": "python",
   "nbconvert_exporter": "python",
   "pygments_lexer": "ipython3",
   "version": "3.7.4"
  }
 },
 "nbformat": 4,
 "nbformat_minor": 2
}
