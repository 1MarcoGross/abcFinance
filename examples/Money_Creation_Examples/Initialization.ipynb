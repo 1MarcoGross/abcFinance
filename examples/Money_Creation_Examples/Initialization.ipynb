{
 "cells": [
  {
   "cell_type": "markdown",
   "metadata": {},
   "source": [
    "# Money creation example: Initialization\n",
    "This notebook demonstrates the introduction of money into an economy.\n",
    "\n",
    "We start by importint required utilities. Technical notes: the code assumes that the notebook is saved in the money creation examples folder, if you wish to save it in a different folder modify the path below accordingly (if you wish to execute or modify the code herein, it can be viewed without that). Furthermore, the cells containing booking statements should only be executed once, because the booking statements will be recorded on each execution, which may result in assertion errors, e.g. when more cash is deducted than the agent possesses. If you wish to execute the booking statements again, then all cells starting from the declaration of the agents should be executed again, in order to reset the system and repeat the sequence of booking statements."
   ]
  },
  {
   "cell_type": "code",
   "execution_count": 1,
   "metadata": {},
   "outputs": [],
   "source": [
    "import os\n",
    "import sys\n",
    "\n",
    "base_path = os.path.realpath(os.getcwd()+\"/../..\")\n",
    "sys.path.append(base_path)\n",
    "\n",
    "from abcFinance import Ledger, Account, AccountSide"
   ]
  },
  {
   "cell_type": "markdown",
   "metadata": {},
   "source": [
    "## Declaration of agents\n",
    "We start by defining their agents and the accounts on their balance sheets:"
   ]
  },
  {
   "cell_type": "code",
   "execution_count": 36,
   "metadata": {},
   "outputs": [],
   "source": [
    "bank = Ledger(residual_account_name=\"Equity\")\n",
    "private_agent = Ledger(residual_account_name=\"Equity\")\n",
    "central_bank = Ledger(residual_account_name=\"Equity\")\n",
    "\n",
    "bank.make_asset_accounts(['Cash','Loans','Reserves'])\n",
    "bank.make_liability_accounts(['Deposits'])\n",
    "\n",
    "private_agent.make_asset_accounts(['Cash','Deposits'])\n",
    "private_agent.make_liability_accounts(['Loans'])\n",
    "\n",
    "central_bank.make_asset_accounts(['Assets'])\n",
    "central_bank.make_liability_accounts(['Reserves','Cash'])"
   ]
  },
  {
   "cell_type": "markdown",
   "metadata": {},
   "source": [
    "We further define a function that computes the money stocks according to our defined taxonomy:"
   ]
  },
  {
   "cell_type": "code",
   "execution_count": 37,
   "metadata": {},
   "outputs": [],
   "source": [
    "def print_money_stocks():\n",
    "    # Commercial bank money: bank liabilities that are money\n",
    "    commercial_bank_money = bank.get_balance('Deposits')[1]\n",
    "    \n",
    "    # Central bank money: CB liabilities that are money and not held by a bank\n",
    "    central_bank_money = private_agent.get_balance('Cash')[1]\n",
    "    \n",
    "    # no non-bank money in this example\n",
    "    \n",
    "    total_money = commercial_bank_money + central_bank_money\n",
    "    \n",
    "    if (commercial_bank_money > 0):\n",
    "        print(\"Commercial Bank Money:\",commercial_bank_money)\n",
    "    if (central_bank_money > 0):\n",
    "        print(\"Central Bank Money:\",central_bank_money)\n",
    "    print(\"Total Money:\",total_money)\n",
    "\n",
    "def print_balance_sheets_and_money_stocks():\n",
    "    print(\"Bank balance sheet:\")\n",
    "    bank.print_balance_sheet()\n",
    "    print(\"Private agent balance sheet:\")\n",
    "    private_agent.print_balance_sheet()\n",
    "    print(\"Central bank balance sheet:\")\n",
    "    central_bank.print_balance_sheet()\n",
    "    print_money_stocks()"
   ]
  },
  {
   "cell_type": "markdown",
   "metadata": {},
   "source": [
    "## Start of the example\n",
    "The bank and the private agent start with some endowments of central bank money, the central bank is assumed to have sufficient assets to start with 0 equity."
   ]
  },
  {
   "cell_type": "code",
   "execution_count": 38,
   "metadata": {},
   "outputs": [],
   "source": [
    "bank.book(debit=[('Cash',50)],credit=[('Equity',50)])\n",
    "private_agent.book(debit=[('Cash',500)],credit=[('Equity',500)])\n",
    "central_bank.book(debit=[('Assets',550)],credit=[('Cash',550)])"
   ]
  },
  {
   "cell_type": "markdown",
   "metadata": {},
   "source": [
    "We can now inspect the balance sheets of the agents and the money stocks:"
   ]
  },
  {
   "cell_type": "code",
   "execution_count": 39,
   "metadata": {},
   "outputs": [
    {
     "name": "stdout",
     "output_type": "stream",
     "text": [
      "Bank balance sheet:\n",
      "Asset accounts:\n",
      "   Cash : 50\n",
      "Liability accounts:\n",
      "Equity:  50\n",
      "Total Assets:  50\n",
      "--\n",
      "Private agent balance sheet:\n",
      "Asset accounts:\n",
      "   Cash : 500\n",
      "Liability accounts:\n",
      "Equity:  500\n",
      "Total Assets:  500\n",
      "--\n",
      "Central bank balance sheet:\n",
      "Asset accounts:\n",
      "   Assets : 550\n",
      "Liability accounts:\n",
      "   Cash : 550\n",
      "Equity:  0\n",
      "Total Assets:  550\n",
      "--\n",
      "Central Bank Money: 500\n",
      "Total Money: 500\n"
     ]
    }
   ],
   "source": [
    "print_balance_sheets_and_money_stocks()"
   ]
  },
  {
   "cell_type": "markdown",
   "metadata": {},
   "source": [
    "Now the private agent transfers its cash to the bank (we see that the outside money is thereby converted to inside money, while the total money stock stays constant):"
   ]
  },
  {
   "cell_type": "code",
   "execution_count": 40,
   "metadata": {},
   "outputs": [
    {
     "name": "stdout",
     "output_type": "stream",
     "text": [
      "Bank balance sheet:\n",
      "Asset accounts:\n",
      "   Cash : 550\n",
      "Liability accounts:\n",
      "   Deposits : 500\n",
      "Equity:  50\n",
      "Total Assets:  550\n",
      "--\n",
      "Private agent balance sheet:\n",
      "Asset accounts:\n",
      "   Deposits : 500\n",
      "Liability accounts:\n",
      "Equity:  500\n",
      "Total Assets:  500\n",
      "--\n",
      "Central bank balance sheet:\n",
      "Asset accounts:\n",
      "   Assets : 550\n",
      "Liability accounts:\n",
      "   Cash : 550\n",
      "Equity:  0\n",
      "Total Assets:  550\n",
      "--\n",
      "Commercial Bank Money: 500\n",
      "Total Money: 500\n"
     ]
    }
   ],
   "source": [
    "private_agent.book(debit=[('Deposits',500)],credit=[('Cash',500)])\n",
    "bank.book(debit=[('Cash',500)],credit=[('Deposits',500)])\n",
    "print_balance_sheets_and_money_stocks()"
   ]
  },
  {
   "cell_type": "markdown",
   "metadata": {},
   "source": [
    "The bank now converts all its cash into reserves at the central bank (this transaction again keeps the money stock constant):"
   ]
  },
  {
   "cell_type": "code",
   "execution_count": 41,
   "metadata": {},
   "outputs": [
    {
     "name": "stdout",
     "output_type": "stream",
     "text": [
      "Bank balance sheet:\n",
      "Asset accounts:\n",
      "   Reserves : 550\n",
      "Liability accounts:\n",
      "   Deposits : 500\n",
      "Equity:  50\n",
      "Total Assets:  550\n",
      "--\n",
      "Private agent balance sheet:\n",
      "Asset accounts:\n",
      "   Deposits : 500\n",
      "Liability accounts:\n",
      "Equity:  500\n",
      "Total Assets:  500\n",
      "--\n",
      "Central bank balance sheet:\n",
      "Asset accounts:\n",
      "   Assets : 550\n",
      "Liability accounts:\n",
      "   Reserves : 550\n",
      "Equity:  0\n",
      "Total Assets:  550\n",
      "--\n",
      "Commercial Bank Money: 500\n",
      "Total Money: 500\n"
     ]
    }
   ],
   "source": [
    "bank.book(debit=[('Reserves',550)],credit=[('Cash',550)])\n",
    "central_bank.book(debit=[('Cash',550)],credit=[('Reserves',550)])\n",
    "print_balance_sheets_and_money_stocks()"
   ]
  }
 ],
 "metadata": {
  "kernelspec": {
   "display_name": "Python 3",
   "language": "python",
   "name": "python3"
  },
  "language_info": {
   "codemirror_mode": {
    "name": "ipython",
    "version": 3
   },
   "file_extension": ".py",
   "mimetype": "text/x-python",
   "name": "python",
   "nbconvert_exporter": "python",
   "pygments_lexer": "ipython3",
   "version": "3.6.5"
  }
 },
 "nbformat": 4,
 "nbformat_minor": 2
}
