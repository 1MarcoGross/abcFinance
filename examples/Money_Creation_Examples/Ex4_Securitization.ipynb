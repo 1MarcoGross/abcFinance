{
 "cells": [
  {
   "cell_type": "markdown",
   "metadata": {},
   "source": [
    "# Example 4: Securitization\n",
    "This notebook demonstrates how securitization contributes to the desctruction of total money stocks.\n",
    "\n",
    "We start by importing required utilities."
   ]
  },
  {
   "cell_type": "code",
   "execution_count": 1,
   "metadata": {},
   "outputs": [],
   "source": [
    "import os\n",
    "import sys\n",
    "\n",
    "base_path = os.path.realpath(os.getcwd()+\"/../..\")\n",
    "sys.path.append(base_path)\n",
    "\n",
    "from abcFinance import Ledger, Account, AccountSide"
   ]
  },
  {
   "cell_type": "markdown",
   "metadata": {},
   "source": [
    "## Declaration of agents\n",
    "Our population of agents in this examples exists of one bank and two different types of private sector agent: one household and one investment fund."
   ]
  },
  {
   "cell_type": "code",
   "execution_count": 2,
   "metadata": {},
   "outputs": [],
   "source": [
    "bank = Ledger(residual_account_name=\"Equity\")\n",
    "household = Ledger(residual_account_name=\"Equity\")\n",
    "fund = Ledger(residual_account_name=\"Equity\")\n",
    "\n",
    "bank.make_asset_accounts(['Reserves','Loans','Asset-backed securities'])\n",
    "bank.make_liability_accounts(['Wholesale Deposits','Retail Deposits'])\n",
    "\n",
    "fund.make_asset_accounts(['Deposits','Asset-backed securities'])\n",
    "\n",
    "household.make_asset_accounts(['Deposits'])\n",
    "household.make_liability_accounts(['Loans'])"
   ]
  },
  {
   "cell_type": "markdown",
   "metadata": {},
   "source": [
    "We define a function that computes the money stocks according to our defined taxonomy:"
   ]
  },
  {
   "cell_type": "code",
   "execution_count": 3,
   "metadata": {},
   "outputs": [],
   "source": [
    "from IPython.core.display import SVG\n",
    "from IPython.display import display_svg\n",
    "\n",
    "def print_money_stocks():\n",
    "    # Bank money: bank liabilities that are money\n",
    "    bank_money = bank.get_balance('Wholesale Deposits')[1]\n",
    "    bank_money += bank.get_balance('Retail Deposits')[1]\n",
    "        \n",
    "    print(\"Total (Bank) Money:\",bank_money)\n",
    "\n",
    "def print_balance_sheets_and_money_stocks():\n",
    "    bank_balance_sheet = SVG(bank.draw_balance_sheet(\"Bank Balance Sheet\", width=500))\n",
    "    fund_balance_sheet = SVG(fund.draw_balance_sheet(\"Fund Balance Sheet\", width=500))\n",
    "    household_balance_sheet = SVG(household.draw_balance_sheet(\"Household Balance Sheet\", width=500))\n",
    "\n",
    "    display_svg(bank_balance_sheet, fund_balance_sheet, household_balance_sheet)\n",
    "    print_money_stocks()"
   ]
  },
  {
   "cell_type": "markdown",
   "metadata": {},
   "source": [
    "## Start of the example\n",
    "We initialize the system with a simple set of endowments: the fund owns some money holdings, the household's money holdings come entirely from a bank loan, and the bank's balance sheet only reflects these two contracts."
   ]
  },
  {
   "cell_type": "code",
   "execution_count": 4,
   "metadata": {},
   "outputs": [
    {
     "data": {
      "image/svg+xml": [
       "<svg height=\"240\" width=\"500\">\n",
       "  <g style=\"fill-opacity:1.0; stroke:black;    stroke-width:1;\">\n",
       "   <text dominant-baseline=\" hanging \" font-size=\"24\" text-anchor=\" middle \" x=\"245\" y=\"0\">\n",
       "    Bank Balance Sheet\n",
       "   </text>\n",
       "   <rect height=\"100\" style=\"fill:rgb(153, 204, 255);\" width=\"245\" x=\"5\" y=\"35\"/>\n",
       "   <text dominant-baseline=\" middle \" font-size=\"18\" text-anchor=\" middle \" x=\"127\" y=\"85\">\n",
       "    Reserves 100\n",
       "   </text>\n",
       "   <rect height=\"100\" style=\"fill:rgb(153, 204, 255);\" width=\"245\" x=\"5\" y=\"135\"/>\n",
       "   <text dominant-baseline=\" middle \" font-size=\"18\" text-anchor=\" middle \" x=\"127\" y=\"185\">\n",
       "    Loans 100\n",
       "   </text>\n",
       "   <rect height=\"100\" style=\"fill:rgb(255, 204, 204);\" width=\"245\" x=\"250\" y=\"35\"/>\n",
       "   <text dominant-baseline=\" middle \" font-size=\"18\" text-anchor=\" middle \" x=\"372\" y=\"85\">\n",
       "    Wholesale Deposits 100\n",
       "   </text>\n",
       "   <rect height=\"100\" style=\"fill:rgb(255, 204, 204);\" width=\"245\" x=\"250\" y=\"135\"/>\n",
       "   <text dominant-baseline=\" middle \" font-size=\"18\" text-anchor=\" middle \" x=\"372\" y=\"185\">\n",
       "    Retail Deposits 100\n",
       "   </text>\n",
       "  </g>\n",
       "</svg>"
      ]
     },
     "metadata": {},
     "output_type": "display_data"
    },
    {
     "data": {
      "image/svg+xml": [
       "<svg height=\"140\" width=\"500\">\n",
       "  <g style=\"fill-opacity:1.0; stroke:black;    stroke-width:1;\">\n",
       "   <text dominant-baseline=\" hanging \" font-size=\"24\" text-anchor=\" middle \" x=\"245\" y=\"0\">\n",
       "    Fund Balance Sheet\n",
       "   </text>\n",
       "   <rect height=\"100\" style=\"fill:rgb(153, 204, 255);\" width=\"245\" x=\"5\" y=\"35\"/>\n",
       "   <text dominant-baseline=\" middle \" font-size=\"18\" text-anchor=\" middle \" x=\"127\" y=\"85\">\n",
       "    Deposits 100\n",
       "   </text>\n",
       "   <rect height=\"100\" style=\"fill:rgb(204, 255, 204);\" width=\"245\" x=\"250\" y=\"35\"/>\n",
       "   <text dominant-baseline=\" middle \" font-size=\"18\" text-anchor=\" middle \" x=\"372\" y=\"85\">\n",
       "    Equity 100\n",
       "   </text>\n",
       "  </g>\n",
       "</svg>"
      ]
     },
     "metadata": {},
     "output_type": "display_data"
    },
    {
     "data": {
      "image/svg+xml": [
       "<svg height=\"140\" width=\"500\">\n",
       "  <g style=\"fill-opacity:1.0; stroke:black;    stroke-width:1;\">\n",
       "   <text dominant-baseline=\" hanging \" font-size=\"24\" text-anchor=\" middle \" x=\"245\" y=\"0\">\n",
       "    Household Balance Sheet\n",
       "   </text>\n",
       "   <rect height=\"100\" style=\"fill:rgb(153, 204, 255);\" width=\"245\" x=\"5\" y=\"35\"/>\n",
       "   <text dominant-baseline=\" middle \" font-size=\"18\" text-anchor=\" middle \" x=\"127\" y=\"85\">\n",
       "    Deposits 100\n",
       "   </text>\n",
       "   <rect height=\"100\" style=\"fill:rgb(255, 204, 204);\" width=\"245\" x=\"250\" y=\"35\"/>\n",
       "   <text dominant-baseline=\" middle \" font-size=\"18\" text-anchor=\" middle \" x=\"372\" y=\"85\">\n",
       "    Loans 100\n",
       "   </text>\n",
       "  </g>\n",
       "</svg>"
      ]
     },
     "metadata": {},
     "output_type": "display_data"
    },
    {
     "name": "stdout",
     "output_type": "stream",
     "text": [
      "Total (Bank) Money: 200\n"
     ]
    }
   ],
   "source": [
    "bank.book(debit=[('Reserves',100),('Loans',100)],credit=[('Wholesale Deposits',100),('Retail Deposits',100)])\n",
    "fund.book(debit=[('Deposits',100)],credit=[('Equity',100)])\n",
    "household.book(debit=[('Deposits',100)],credit=[('Loans',100)])\n",
    "print_balance_sheets_and_money_stocks()"
   ]
  },
  {
   "cell_type": "markdown",
   "metadata": {},
   "source": [
    "Now the bank securitizes the household's loan, leaving total money stocks unaffected:"
   ]
  },
  {
   "cell_type": "code",
   "execution_count": 5,
   "metadata": {},
   "outputs": [
    {
     "name": "stdout",
     "output_type": "stream",
     "text": [
      "Asset accounts:\n",
      "   Reserves : 100\n",
      "   Asset-backed securities : 100\n",
      "Liability accounts:\n",
      "   Wholesale Deposits : 100\n",
      "   Retail Deposits : 100\n",
      "Equity:  0\n",
      "Total Assets:  200\n",
      "--\n",
      "Total (Bank) Money: 200\n"
     ]
    }
   ],
   "source": [
    "bank.book(debit=[('Asset-backed securities',100)],credit=[('Loans',100)])\n",
    "bank.print_balance_sheet()\n",
    "print_money_stocks()"
   ]
  },
  {
   "cell_type": "markdown",
   "metadata": {},
   "source": [
    "Now the fund purchases the securitized loans, destroying the money corresponding to the purchase price:"
   ]
  },
  {
   "cell_type": "code",
   "execution_count": 6,
   "metadata": {},
   "outputs": [
    {
     "data": {
      "image/svg+xml": [
       "<svg height=\"140\" width=\"500\">\n",
       "  <g style=\"fill-opacity:1.0; stroke:black;    stroke-width:1;\">\n",
       "   <text dominant-baseline=\" hanging \" font-size=\"24\" text-anchor=\" middle \" x=\"245\" y=\"0\">\n",
       "    Bank Balance Sheet\n",
       "   </text>\n",
       "   <rect height=\"100\" style=\"fill:rgb(153, 204, 255);\" width=\"245\" x=\"5\" y=\"35\"/>\n",
       "   <text dominant-baseline=\" middle \" font-size=\"18\" text-anchor=\" middle \" x=\"127\" y=\"85\">\n",
       "    Reserves 100\n",
       "   </text>\n",
       "   <rect height=\"100\" style=\"fill:rgb(255, 204, 204);\" width=\"245\" x=\"250\" y=\"35\"/>\n",
       "   <text dominant-baseline=\" middle \" font-size=\"18\" text-anchor=\" middle \" x=\"372\" y=\"85\">\n",
       "    Retail Deposits 100\n",
       "   </text>\n",
       "  </g>\n",
       "</svg>"
      ]
     },
     "metadata": {},
     "output_type": "display_data"
    },
    {
     "data": {
      "image/svg+xml": [
       "<svg height=\"140\" width=\"500\">\n",
       "  <g style=\"fill-opacity:1.0; stroke:black;    stroke-width:1;\">\n",
       "   <text dominant-baseline=\" hanging \" font-size=\"24\" text-anchor=\" middle \" x=\"245\" y=\"0\">\n",
       "    Fund Balance Sheet\n",
       "   </text>\n",
       "   <rect height=\"100\" style=\"fill:rgb(153, 204, 255);\" width=\"245\" x=\"5\" y=\"35\"/>\n",
       "   <text dominant-baseline=\" middle \" font-size=\"18\" text-anchor=\" middle \" x=\"127\" y=\"85\">\n",
       "    Asset-backed securities 100\n",
       "   </text>\n",
       "   <rect height=\"100\" style=\"fill:rgb(204, 255, 204);\" width=\"245\" x=\"250\" y=\"35\"/>\n",
       "   <text dominant-baseline=\" middle \" font-size=\"18\" text-anchor=\" middle \" x=\"372\" y=\"85\">\n",
       "    Equity 100\n",
       "   </text>\n",
       "  </g>\n",
       "</svg>"
      ]
     },
     "metadata": {},
     "output_type": "display_data"
    },
    {
     "data": {
      "image/svg+xml": [
       "<svg height=\"140\" width=\"500\">\n",
       "  <g style=\"fill-opacity:1.0; stroke:black;    stroke-width:1;\">\n",
       "   <text dominant-baseline=\" hanging \" font-size=\"24\" text-anchor=\" middle \" x=\"245\" y=\"0\">\n",
       "    Household Balance Sheet\n",
       "   </text>\n",
       "   <rect height=\"100\" style=\"fill:rgb(153, 204, 255);\" width=\"245\" x=\"5\" y=\"35\"/>\n",
       "   <text dominant-baseline=\" middle \" font-size=\"18\" text-anchor=\" middle \" x=\"127\" y=\"85\">\n",
       "    Deposits 100\n",
       "   </text>\n",
       "   <rect height=\"100\" style=\"fill:rgb(255, 204, 204);\" width=\"245\" x=\"250\" y=\"35\"/>\n",
       "   <text dominant-baseline=\" middle \" font-size=\"18\" text-anchor=\" middle \" x=\"372\" y=\"85\">\n",
       "    Loans 100\n",
       "   </text>\n",
       "  </g>\n",
       "</svg>"
      ]
     },
     "metadata": {},
     "output_type": "display_data"
    },
    {
     "name": "stdout",
     "output_type": "stream",
     "text": [
      "Total (Bank) Money: 100\n"
     ]
    }
   ],
   "source": [
    "bank.book(debit=[('Wholesale Deposits',100)],credit=[('Asset-backed securities',100)])\n",
    "fund.book(debit=[('Asset-backed securities',100)],credit=[('Deposits',100)])\n",
    "print_balance_sheets_and_money_stocks()"
   ]
  }
 ],
 "metadata": {
  "kernelspec": {
   "display_name": "Python 3",
   "language": "python",
   "name": "python3"
  },
  "language_info": {
   "codemirror_mode": {
    "name": "ipython",
    "version": 3
   },
   "file_extension": ".py",
   "mimetype": "text/x-python",
   "name": "python",
   "nbconvert_exporter": "python",
   "pygments_lexer": "ipython3",
   "version": "3.7.4"
  }
 },
 "nbformat": 4,
 "nbformat_minor": 2
}
