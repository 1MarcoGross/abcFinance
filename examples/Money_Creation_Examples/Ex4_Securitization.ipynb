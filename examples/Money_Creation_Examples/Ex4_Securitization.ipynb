{
 "cells": [
  {
   "cell_type": "markdown",
   "metadata": {},
   "source": [
    "# Example 4: Securitization\n",
    "This notebook demonstrates how securitization contributes to the desctruction of total money stocks.\n",
    "\n",
    "We start by importing required utilities. Technical notes: the code assumes that the notebook is saved in the money creation examples folder, if you wish to save it in a different folder modify the path below accordingly (if you wish to execute or modify the code herein, it can be viewed without that). Furthermore, the cells containing booking statements should only be executed once, because the booking statements will be recorded on each execution, which may result in assertion errors, e.g. when more cash is deducted than the agent possesses. If you wish to execute the booking statements again, then all cells starting from the declaration of the agents should be executed again, in order to reset the system and repeat the sequence of booking statements."
   ]
  },
  {
   "cell_type": "code",
   "execution_count": 1,
   "metadata": {},
   "outputs": [],
   "source": [
    "import os\n",
    "import sys\n",
    "\n",
    "base_path = os.path.realpath(os.getcwd()+\"/../..\")\n",
    "sys.path.append(base_path)\n",
    "\n",
    "from abcFinance import Ledger, Account, AccountSide"
   ]
  },
  {
   "cell_type": "markdown",
   "metadata": {},
   "source": [
    "## Declaration of agents\n",
    "Our population of agents in this examples exists of one bank and two different types of private sector agent: one household and one investment fund."
   ]
  },
  {
   "cell_type": "code",
   "execution_count": 2,
   "metadata": {},
   "outputs": [],
   "source": [
    "bank = Ledger(residual_account_name=\"Equity\")\n",
    "household = Ledger(residual_account_name=\"Equity\")\n",
    "fund = Ledger(residual_account_name=\"Equity\")\n",
    "\n",
    "bank.make_asset_accounts(['Reserves','Loans','Asset-backed securities'])\n",
    "bank.make_liability_accounts(['Wholesale Deposits','Retail Deposits'])\n",
    "\n",
    "fund.make_asset_accounts(['Deposits','Asset-backed securities'])\n",
    "\n",
    "household.make_asset_accounts(['Deposits'])\n",
    "household.make_liability_accounts(['Loans'])"
   ]
  },
  {
   "cell_type": "markdown",
   "metadata": {},
   "source": [
    "We define a function that computes the money stocks according to our defined taxonomy:"
   ]
  },
  {
   "cell_type": "code",
   "execution_count": 3,
   "metadata": {},
   "outputs": [],
   "source": [
    "def print_money_stocks():\n",
    "    # Bank money: bank liabilities that are money\n",
    "    bank_money = bank.get_balance('Wholesale Deposits')[1]\n",
    "    bank_money += bank.get_balance('Retail Deposits')[1]\n",
    "        \n",
    "    print(\"Total (Bank) Money:\",bank_money)\n",
    "\n",
    "def print_balance_sheets_and_money_stocks():\n",
    "    print(\"Bank balance sheet:\")\n",
    "    bank.print_balance_sheet()\n",
    "    print(\"Household balance sheet:\")\n",
    "    household.print_balance_sheet()\n",
    "    print(\"Fund balance sheet:\")\n",
    "    fund.print_balance_sheet()\n",
    "    print_money_stocks()"
   ]
  },
  {
   "cell_type": "markdown",
   "metadata": {},
   "source": [
    "## Start of the example\n",
    "We initialize the system with a simple set of endowments: the fund owns some money holdings, the household's money holdings come entirely from a bank loan, and the bank's balance sheet only reflects these two contracts."
   ]
  },
  {
   "cell_type": "code",
   "execution_count": 4,
   "metadata": {},
   "outputs": [
    {
     "name": "stdout",
     "output_type": "stream",
     "text": [
      "Bank balance sheet:\n",
      "Asset accounts:\n",
      "   Reserves : 100\n",
      "   Loans : 100\n",
      "Liability accounts:\n",
      "   Wholesale Deposits : 100\n",
      "   Retail Deposits : 100\n",
      "Equity:  0\n",
      "Total Assets:  200\n",
      "--\n",
      "Household balance sheet:\n",
      "Asset accounts:\n",
      "   Deposits : 100\n",
      "Liability accounts:\n",
      "   Loans : 100\n",
      "Equity:  0\n",
      "Total Assets:  100\n",
      "--\n",
      "Fund balance sheet:\n",
      "Asset accounts:\n",
      "   Deposits : 100\n",
      "Liability accounts:\n",
      "Equity:  100\n",
      "Total Assets:  100\n",
      "--\n",
      "Total (Bank) Money: 200\n"
     ]
    }
   ],
   "source": [
    "bank.book(debit=[('Reserves',100),('Loans',100)],credit=[('Wholesale Deposits',100),('Retail Deposits',100)])\n",
    "fund.book(debit=[('Deposits',100)],credit=[('Equity',100)])\n",
    "household.book(debit=[('Deposits',100)],credit=[('Loans',100)])\n",
    "print_balance_sheets_and_money_stocks()"
   ]
  },
  {
   "cell_type": "markdown",
   "metadata": {},
   "source": [
    "Now the bank securitizes the household's loan, leaving total money stocks unaffected:"
   ]
  },
  {
   "cell_type": "code",
   "execution_count": 5,
   "metadata": {},
   "outputs": [
    {
     "name": "stdout",
     "output_type": "stream",
     "text": [
      "Asset accounts:\n",
      "   Reserves : 100\n",
      "   Asset-backed securities : 100\n",
      "Liability accounts:\n",
      "   Wholesale Deposits : 100\n",
      "   Retail Deposits : 100\n",
      "Equity:  0\n",
      "Total Assets:  200\n",
      "--\n",
      "Total (Bank) Money: 200\n"
     ]
    }
   ],
   "source": [
    "bank.book(debit=[('Asset-backed securities',100)],credit=[('Loans',100)])\n",
    "bank.print_balance_sheet()\n",
    "print_money_stocks()"
   ]
  },
  {
   "cell_type": "markdown",
   "metadata": {},
   "source": [
    "Now the fund purchases the securitized loans, destroying the money corresponding to the purchase price:"
   ]
  },
  {
   "cell_type": "code",
   "execution_count": 6,
   "metadata": {},
   "outputs": [
    {
     "name": "stdout",
     "output_type": "stream",
     "text": [
      "Bank balance sheet:\n",
      "Asset accounts:\n",
      "   Reserves : 100\n",
      "Liability accounts:\n",
      "   Retail Deposits : 100\n",
      "Equity:  0\n",
      "Total Assets:  100\n",
      "--\n",
      "Household balance sheet:\n",
      "Asset accounts:\n",
      "   Deposits : 100\n",
      "Liability accounts:\n",
      "   Loans : 100\n",
      "Equity:  0\n",
      "Total Assets:  100\n",
      "--\n",
      "Fund balance sheet:\n",
      "Asset accounts:\n",
      "   Asset-backed securities : 100\n",
      "Liability accounts:\n",
      "Equity:  100\n",
      "Total Assets:  100\n",
      "--\n",
      "Total (Bank) Money: 100\n"
     ]
    }
   ],
   "source": [
    "bank.book(debit=[('Wholesale Deposits',100)],credit=[('Asset-backed securities',100)])\n",
    "fund.book(debit=[('Asset-backed securities',100)],credit=[('Deposits',100)])\n",
    "print_balance_sheets_and_money_stocks()"
   ]
  }
 ],
 "metadata": {
  "kernelspec": {
   "display_name": "Python 3",
   "language": "python",
   "name": "python3"
  },
  "language_info": {
   "codemirror_mode": {
    "name": "ipython",
    "version": 3
   },
   "file_extension": ".py",
   "mimetype": "text/x-python",
   "name": "python",
   "nbconvert_exporter": "python",
   "pygments_lexer": "ipython3",
   "version": "3.7.4"
  }
 },
 "nbformat": 4,
 "nbformat_minor": 2
}
