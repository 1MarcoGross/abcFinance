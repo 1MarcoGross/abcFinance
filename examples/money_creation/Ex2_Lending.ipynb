{
 "cells": [
  {
   "cell_type": "markdown",
   "metadata": {},
   "source": [
    "[Money Creation Examples](http://www.siebenbrunner.com/moneycreation/) > **Example 2**:\n",
    "# Money creation and destruction through lending\n",
    "We demonstrate how money is created through bank lending and destroyed through repayment. We also demonstrate the redistribution effects of interest payments and dividend payments by banks.\n",
    "\n",
    "We start by importing required utilities:"
   ]
  },
  {
   "cell_type": "code",
   "execution_count": 1,
   "metadata": {},
   "outputs": [],
   "source": [
    "import os\n",
    "import sys\n",
    "\n",
    "base_path = os.path.realpath(os.getcwd()+\"/../..\")\n",
    "sys.path.append(base_path)\n",
    "\n",
    "from abcFinance import Ledger, Account, AccountSide"
   ]
  },
  {
   "cell_type": "markdown",
   "metadata": {},
   "source": [
    "## Declaration of agents\n",
    "We start by defining their agents and the accounts on their balance sheets:"
   ]
  },
  {
   "cell_type": "code",
   "execution_count": 2,
   "metadata": {},
   "outputs": [],
   "source": [
    "bank = Ledger(residual_account_name=\"Equity\")\n",
    "private_agent = Ledger(residual_account_name=\"Equity\")\n",
    "\n",
    "bank.make_asset_accounts(['Cash','Loans','Reserves'])\n",
    "bank.make_liability_accounts(['Deposits'])\n",
    "bank.make_flow_accounts(['Interest income'])\n",
    "\n",
    "private_agent.make_asset_accounts(['Cash','Deposits'])\n",
    "private_agent.make_liability_accounts(['Loans'])\n",
    "private_agent.make_flow_accounts(['Dividend income','Interest expenses'])"
   ]
  },
  {
   "cell_type": "markdown",
   "metadata": {},
   "source": [
    "We further define a function that computes the money stocks according to our defined taxonomy:"
   ]
  },
  {
   "cell_type": "code",
   "execution_count": 3,
   "metadata": {},
   "outputs": [],
   "source": [
    "from IPython.core.display import SVG\n",
    "from IPython.display import display_svg\n",
    "\n",
    "def print_money_stocks():\n",
    "    # Bank money: bank liabilities that are money\n",
    "    bank_money = bank.get_balance('Deposits')[1]\n",
    "        \n",
    "    print(\"Total (Bank) Money:\",bank_money)\n",
    "\n",
    "def print_balance_sheets_and_money_stocks():\n",
    "    bank_balance_sheet = SVG(bank.draw_balance_sheet(\"Bank Balance Sheet\"))\n",
    "    private_agent_balance_sheet = SVG(private_agent.draw_balance_sheet(\"Private Agent Balance Sheet\"))\n",
    "    \n",
    "    display_svg(bank_balance_sheet, private_agent_balance_sheet)\n",
    "    print_money_stocks()"
   ]
  },
  {
   "cell_type": "markdown",
   "metadata": {},
   "source": [
    "## Start of the example\n",
    "We start by endowing the bank and the private agent with money (note that for the sake of this example it does not matter whether the bank is a commercial or a central bank)."
   ]
  },
  {
   "cell_type": "code",
   "execution_count": 4,
   "metadata": {},
   "outputs": [
    {
     "data": {
      "image/svg+xml": [
       "<svg height=\"110\" width=\"360\">\n",
       "  <g style=\"fill-opacity:1.0; stroke:black;    stroke-width:1;\">\n",
       "   <text dominant-baseline=\" hanging \" font-size=\"19\" text-anchor=\" middle \" x=\"175\" y=\"0\">\n",
       "    Bank Balance Sheet\n",
       "   </text>\n",
       "   <rect height=\"80\" style=\"fill:rgb(153, 204, 255);\" width=\"175\" x=\"5\" y=\"25\"/>\n",
       "   <text dominant-baseline=\" middle \" font-size=\"16\" text-anchor=\" middle \" x=\"92\" y=\"65\">\n",
       "    Reserves 100\n",
       "   </text>\n",
       "   <rect height=\"40\" style=\"fill:rgb(204, 255, 204);\" width=\"175\" x=\"180\" y=\"25\"/>\n",
       "   <text dominant-baseline=\" middle \" font-size=\"16\" text-anchor=\" middle \" x=\"267\" y=\"45\">\n",
       "    Equity 50\n",
       "   </text>\n",
       "   <rect height=\"40\" style=\"fill:rgb(255, 204, 204);\" width=\"175\" x=\"180\" y=\"65\"/>\n",
       "   <text dominant-baseline=\" middle \" font-size=\"16\" text-anchor=\" middle \" x=\"267\" y=\"85\">\n",
       "    Deposits 50\n",
       "   </text>\n",
       "  </g>\n",
       "</svg>"
      ]
     },
     "metadata": {},
     "output_type": "display_data"
    },
    {
     "data": {
      "image/svg+xml": [
       "<svg height=\"70\" width=\"360\">\n",
       "  <g style=\"fill-opacity:1.0; stroke:black;    stroke-width:1;\">\n",
       "   <text dominant-baseline=\" hanging \" font-size=\"19\" text-anchor=\" middle \" x=\"175\" y=\"0\">\n",
       "    Private Agent Balance Sheet\n",
       "   </text>\n",
       "   <rect height=\"40\" style=\"fill:rgb(153, 204, 255);\" width=\"175\" x=\"5\" y=\"25\"/>\n",
       "   <text dominant-baseline=\" middle \" font-size=\"16\" text-anchor=\" middle \" x=\"92\" y=\"45\">\n",
       "    Deposits 50\n",
       "   </text>\n",
       "   <rect height=\"40\" style=\"fill:rgb(204, 255, 204);\" width=\"175\" x=\"180\" y=\"25\"/>\n",
       "   <text dominant-baseline=\" middle \" font-size=\"16\" text-anchor=\" middle \" x=\"267\" y=\"45\">\n",
       "    Equity 50\n",
       "   </text>\n",
       "  </g>\n",
       "</svg>"
      ]
     },
     "metadata": {},
     "output_type": "display_data"
    },
    {
     "name": "stdout",
     "output_type": "stream",
     "text": [
      "Total (Bank) Money: 50\n"
     ]
    }
   ],
   "source": [
    "bank.book(debit=[('Reserves',100)],credit=[('Equity',50),('Deposits',50)])\n",
    "private_agent.book(debit=[('Deposits',50)],credit=[('Equity',50)])\n",
    "bank.book_end_of_period()\n",
    "private_agent.book_end_of_period()\n",
    "print_balance_sheets_and_money_stocks()"
   ]
  },
  {
   "cell_type": "markdown",
   "metadata": {},
   "source": [
    "The bank now grants a loan to the private agent, thereby increasing the stock of total money:"
   ]
  },
  {
   "cell_type": "code",
   "execution_count": 5,
   "metadata": {},
   "outputs": [
    {
     "data": {
      "image/svg+xml": [
       "<svg height=\"190\" width=\"360\">\n",
       "  <g style=\"fill-opacity:1.0; stroke:black;    stroke-width:1;\">\n",
       "   <text dominant-baseline=\" hanging \" font-size=\"19\" text-anchor=\" middle \" x=\"175\" y=\"0\">\n",
       "    Bank Balance Sheet\n",
       "   </text>\n",
       "   <rect height=\"80\" style=\"fill:rgb(153, 204, 255);\" width=\"175\" x=\"5\" y=\"25\"/>\n",
       "   <text dominant-baseline=\" middle \" font-size=\"16\" text-anchor=\" middle \" x=\"92\" y=\"65\">\n",
       "    Loans 100\n",
       "   </text>\n",
       "   <rect height=\"80\" style=\"fill:rgb(153, 204, 255);\" width=\"175\" x=\"5\" y=\"105\"/>\n",
       "   <text dominant-baseline=\" middle \" font-size=\"16\" text-anchor=\" middle \" x=\"92\" y=\"145\">\n",
       "    Reserves 100\n",
       "   </text>\n",
       "   <rect height=\"40\" style=\"fill:rgb(204, 255, 204);\" width=\"175\" x=\"180\" y=\"25\"/>\n",
       "   <text dominant-baseline=\" middle \" font-size=\"16\" text-anchor=\" middle \" x=\"267\" y=\"45\">\n",
       "    Equity 50\n",
       "   </text>\n",
       "   <rect height=\"120\" style=\"fill:rgb(255, 204, 204);\" width=\"175\" x=\"180\" y=\"65\"/>\n",
       "   <text dominant-baseline=\" middle \" font-size=\"16\" text-anchor=\" middle \" x=\"267\" y=\"125\">\n",
       "    Deposits 150\n",
       "   </text>\n",
       "  </g>\n",
       "</svg>"
      ]
     },
     "metadata": {},
     "output_type": "display_data"
    },
    {
     "data": {
      "image/svg+xml": [
       "<svg height=\"150\" width=\"360\">\n",
       "  <g style=\"fill-opacity:1.0; stroke:black;    stroke-width:1;\">\n",
       "   <text dominant-baseline=\" hanging \" font-size=\"19\" text-anchor=\" middle \" x=\"175\" y=\"0\">\n",
       "    Private Agent Balance Sheet\n",
       "   </text>\n",
       "   <rect height=\"120\" style=\"fill:rgb(153, 204, 255);\" width=\"175\" x=\"5\" y=\"25\"/>\n",
       "   <text dominant-baseline=\" middle \" font-size=\"16\" text-anchor=\" middle \" x=\"92\" y=\"85\">\n",
       "    Deposits 150\n",
       "   </text>\n",
       "   <rect height=\"40\" style=\"fill:rgb(204, 255, 204);\" width=\"175\" x=\"180\" y=\"25\"/>\n",
       "   <text dominant-baseline=\" middle \" font-size=\"16\" text-anchor=\" middle \" x=\"267\" y=\"45\">\n",
       "    Equity 50\n",
       "   </text>\n",
       "   <rect height=\"80\" style=\"fill:rgb(255, 204, 204);\" width=\"175\" x=\"180\" y=\"65\"/>\n",
       "   <text dominant-baseline=\" middle \" font-size=\"16\" text-anchor=\" middle \" x=\"267\" y=\"105\">\n",
       "    Loans 100\n",
       "   </text>\n",
       "  </g>\n",
       "</svg>"
      ]
     },
     "metadata": {},
     "output_type": "display_data"
    },
    {
     "name": "stdout",
     "output_type": "stream",
     "text": [
      "Total (Bank) Money: 150\n"
     ]
    }
   ],
   "source": [
    "bank.book(debit=[('Loans',100)],credit=[('Deposits',100)])\n",
    "private_agent.book(debit=[('Deposits',100)],credit=[('Loans',100)])\n",
    "print_balance_sheets_and_money_stocks()"
   ]
  },
  {
   "cell_type": "markdown",
   "metadata": {},
   "source": [
    "The private agent now pays some interest on its loan to the bank. Note that the money stock (temporarily) decreases, since the private agent uses its deposits to pay interest, thereby contributing to the bank's profit (and in this case, since there are no other expenses, equity)."
   ]
  },
  {
   "cell_type": "code",
   "execution_count": 6,
   "metadata": {},
   "outputs": [
    {
     "name": "stdout",
     "output_type": "stream",
     "text": [
      "Bank P&L and change in capital:\n",
      "Flow accounts:\n",
      "   Interest income : 5\n",
      "Profit for period:  5\n",
      "--\n",
      "Private agent P&L and change in capital:\n",
      "Flow accounts:\n",
      "   Interest expenses : -5\n",
      "Profit for period:  -5\n",
      "--\n"
     ]
    },
    {
     "data": {
      "image/svg+xml": [
       "<svg height=\"190\" width=\"360\">\n",
       "  <g style=\"fill-opacity:1.0; stroke:black;    stroke-width:1;\">\n",
       "   <text dominant-baseline=\" hanging \" font-size=\"19\" text-anchor=\" middle \" x=\"175\" y=\"0\">\n",
       "    Bank Balance Sheet\n",
       "   </text>\n",
       "   <rect height=\"80\" style=\"fill:rgb(153, 204, 255);\" width=\"175\" x=\"5\" y=\"25\"/>\n",
       "   <text dominant-baseline=\" middle \" font-size=\"16\" text-anchor=\" middle \" x=\"92\" y=\"65\">\n",
       "    Loans 100\n",
       "   </text>\n",
       "   <rect height=\"80\" style=\"fill:rgb(153, 204, 255);\" width=\"175\" x=\"5\" y=\"105\"/>\n",
       "   <text dominant-baseline=\" middle \" font-size=\"16\" text-anchor=\" middle \" x=\"92\" y=\"145\">\n",
       "    Reserves 100\n",
       "   </text>\n",
       "   <rect height=\"44\" style=\"fill:rgb(204, 255, 204);\" width=\"175\" x=\"180\" y=\"25\"/>\n",
       "   <text dominant-baseline=\" middle \" font-size=\"16\" text-anchor=\" middle \" x=\"267\" y=\"47\">\n",
       "    Equity 55\n",
       "   </text>\n",
       "   <rect height=\"116\" style=\"fill:rgb(255, 204, 204);\" width=\"175\" x=\"180\" y=\"69\"/>\n",
       "   <text dominant-baseline=\" middle \" font-size=\"16\" text-anchor=\" middle \" x=\"267\" y=\"127\">\n",
       "    Deposits 145\n",
       "   </text>\n",
       "  </g>\n",
       "</svg>"
      ]
     },
     "metadata": {},
     "output_type": "display_data"
    },
    {
     "data": {
      "image/svg+xml": [
       "<svg height=\"146\" width=\"360\">\n",
       "  <g style=\"fill-opacity:1.0; stroke:black;    stroke-width:1;\">\n",
       "   <text dominant-baseline=\" hanging \" font-size=\"19\" text-anchor=\" middle \" x=\"175\" y=\"0\">\n",
       "    Private Agent Balance Sheet\n",
       "   </text>\n",
       "   <rect height=\"116\" style=\"fill:rgb(153, 204, 255);\" width=\"175\" x=\"5\" y=\"25\"/>\n",
       "   <text dominant-baseline=\" middle \" font-size=\"16\" text-anchor=\" middle \" x=\"92\" y=\"83\">\n",
       "    Deposits 145\n",
       "   </text>\n",
       "   <rect height=\"36\" style=\"fill:rgb(204, 255, 204);\" width=\"175\" x=\"180\" y=\"25\"/>\n",
       "   <text dominant-baseline=\" middle \" font-size=\"16\" text-anchor=\" middle \" x=\"267\" y=\"43\">\n",
       "    Equity 45\n",
       "   </text>\n",
       "   <rect height=\"80\" style=\"fill:rgb(255, 204, 204);\" width=\"175\" x=\"180\" y=\"61\"/>\n",
       "   <text dominant-baseline=\" middle \" font-size=\"16\" text-anchor=\" middle \" x=\"267\" y=\"101\">\n",
       "    Loans 100\n",
       "   </text>\n",
       "  </g>\n",
       "</svg>"
      ]
     },
     "metadata": {},
     "output_type": "display_data"
    },
    {
     "name": "stdout",
     "output_type": "stream",
     "text": [
      "Total (Bank) Money: 145\n"
     ]
    }
   ],
   "source": [
    "private_agent.book(debit=[('Interest expenses',5)],credit=[('Deposits',5)])\n",
    "bank.book(debit=[('Deposits',5)],credit=[('Interest income',5)])\n",
    "print(\"Bank P&L and change in capital:\")\n",
    "bank.print_profit_and_loss()\n",
    "print(\"Private agent P&L and change in capital:\")\n",
    "private_agent.print_profit_and_loss()\n",
    "bank.book_end_of_period()\n",
    "private_agent.book_end_of_period()\n",
    "print_balance_sheets_and_money_stocks()"
   ]
  },
  {
   "cell_type": "markdown",
   "metadata": {},
   "source": [
    "The private agent now repays the loan principal, thereby (permanently) destroying the money that was created through the loan granting:"
   ]
  },
  {
   "cell_type": "code",
   "execution_count": 7,
   "metadata": {},
   "outputs": [
    {
     "data": {
      "image/svg+xml": [
       "<svg height=\"110\" width=\"360\">\n",
       "  <g style=\"fill-opacity:1.0; stroke:black;    stroke-width:1;\">\n",
       "   <text dominant-baseline=\" hanging \" font-size=\"19\" text-anchor=\" middle \" x=\"175\" y=\"0\">\n",
       "    Bank Balance Sheet\n",
       "   </text>\n",
       "   <rect height=\"80\" style=\"fill:rgb(153, 204, 255);\" width=\"175\" x=\"5\" y=\"25\"/>\n",
       "   <text dominant-baseline=\" middle \" font-size=\"16\" text-anchor=\" middle \" x=\"92\" y=\"65\">\n",
       "    Reserves 100\n",
       "   </text>\n",
       "   <rect height=\"44\" style=\"fill:rgb(204, 255, 204);\" width=\"175\" x=\"180\" y=\"25\"/>\n",
       "   <text dominant-baseline=\" middle \" font-size=\"16\" text-anchor=\" middle \" x=\"267\" y=\"47\">\n",
       "    Equity 55\n",
       "   </text>\n",
       "   <rect height=\"36\" style=\"fill:rgb(255, 204, 204);\" width=\"175\" x=\"180\" y=\"69\"/>\n",
       "   <text dominant-baseline=\" middle \" font-size=\"16\" text-anchor=\" middle \" x=\"267\" y=\"87\">\n",
       "    Deposits 45\n",
       "   </text>\n",
       "  </g>\n",
       "</svg>"
      ]
     },
     "metadata": {},
     "output_type": "display_data"
    },
    {
     "data": {
      "image/svg+xml": [
       "<svg height=\"66\" width=\"360\">\n",
       "  <g style=\"fill-opacity:1.0; stroke:black;    stroke-width:1;\">\n",
       "   <text dominant-baseline=\" hanging \" font-size=\"19\" text-anchor=\" middle \" x=\"175\" y=\"0\">\n",
       "    Private Agent Balance Sheet\n",
       "   </text>\n",
       "   <rect height=\"36\" style=\"fill:rgb(153, 204, 255);\" width=\"175\" x=\"5\" y=\"25\"/>\n",
       "   <text dominant-baseline=\" middle \" font-size=\"16\" text-anchor=\" middle \" x=\"92\" y=\"43\">\n",
       "    Deposits 45\n",
       "   </text>\n",
       "   <rect height=\"36\" style=\"fill:rgb(204, 255, 204);\" width=\"175\" x=\"180\" y=\"25\"/>\n",
       "   <text dominant-baseline=\" middle \" font-size=\"16\" text-anchor=\" middle \" x=\"267\" y=\"43\">\n",
       "    Equity 45\n",
       "   </text>\n",
       "  </g>\n",
       "</svg>"
      ]
     },
     "metadata": {},
     "output_type": "display_data"
    },
    {
     "name": "stdout",
     "output_type": "stream",
     "text": [
      "Total (Bank) Money: 45\n"
     ]
    }
   ],
   "source": [
    "private_agent.book(debit=[('Loans',100)],credit=[('Deposits',100)])\n",
    "bank.book(debit=[('Deposits',100)],credit=[('Loans',100)])\n",
    "print_balance_sheets_and_money_stocks()"
   ]
  },
  {
   "cell_type": "markdown",
   "metadata": {},
   "source": [
    "The bank now transfers its profit from the period to the bank owners in the form of dividends, thereby increasing the money stock again. In this example the transfer goes back to the same private agent, but in practice the borrowers and owners of the bank would typically be different sets of agents. Note that in practice the bank's profit is also moved to other agents in a variety of other (expense) forms, e.g. as payment for purchases the bank makes and as salary to its employees."
   ]
  },
  {
   "cell_type": "code",
   "execution_count": 8,
   "metadata": {},
   "outputs": [
    {
     "name": "stdout",
     "output_type": "stream",
     "text": [
      "Bank P&L and change in capital:\n",
      "Flow accounts:\n",
      "Profit for period:  0\n",
      "Profit distribution and capital actions\n",
      "   Dividend payout : -5\n",
      "--\n",
      "Private agent P&L and change in capital:\n",
      "Flow accounts:\n",
      "   Dividend income : 5\n",
      "Profit for period:  5\n",
      "--\n"
     ]
    },
    {
     "data": {
      "image/svg+xml": [
       "<svg height=\"110\" width=\"360\">\n",
       "  <g style=\"fill-opacity:1.0; stroke:black;    stroke-width:1;\">\n",
       "   <text dominant-baseline=\" hanging \" font-size=\"19\" text-anchor=\" middle \" x=\"175\" y=\"0\">\n",
       "    Bank Balance Sheet\n",
       "   </text>\n",
       "   <rect height=\"80\" style=\"fill:rgb(153, 204, 255);\" width=\"175\" x=\"5\" y=\"25\"/>\n",
       "   <text dominant-baseline=\" middle \" font-size=\"16\" text-anchor=\" middle \" x=\"92\" y=\"65\">\n",
       "    Reserves 100\n",
       "   </text>\n",
       "   <rect height=\"40\" style=\"fill:rgb(204, 255, 204);\" width=\"175\" x=\"180\" y=\"25\"/>\n",
       "   <text dominant-baseline=\" middle \" font-size=\"16\" text-anchor=\" middle \" x=\"267\" y=\"45\">\n",
       "    Equity 50\n",
       "   </text>\n",
       "   <rect height=\"40\" style=\"fill:rgb(255, 204, 204);\" width=\"175\" x=\"180\" y=\"65\"/>\n",
       "   <text dominant-baseline=\" middle \" font-size=\"16\" text-anchor=\" middle \" x=\"267\" y=\"85\">\n",
       "    Deposits 50\n",
       "   </text>\n",
       "  </g>\n",
       "</svg>"
      ]
     },
     "metadata": {},
     "output_type": "display_data"
    },
    {
     "data": {
      "image/svg+xml": [
       "<svg height=\"70\" width=\"360\">\n",
       "  <g style=\"fill-opacity:1.0; stroke:black;    stroke-width:1;\">\n",
       "   <text dominant-baseline=\" hanging \" font-size=\"19\" text-anchor=\" middle \" x=\"175\" y=\"0\">\n",
       "    Private Agent Balance Sheet\n",
       "   </text>\n",
       "   <rect height=\"40\" style=\"fill:rgb(153, 204, 255);\" width=\"175\" x=\"5\" y=\"25\"/>\n",
       "   <text dominant-baseline=\" middle \" font-size=\"16\" text-anchor=\" middle \" x=\"92\" y=\"45\">\n",
       "    Deposits 50\n",
       "   </text>\n",
       "   <rect height=\"40\" style=\"fill:rgb(204, 255, 204);\" width=\"175\" x=\"180\" y=\"25\"/>\n",
       "   <text dominant-baseline=\" middle \" font-size=\"16\" text-anchor=\" middle \" x=\"267\" y=\"45\">\n",
       "    Equity 50\n",
       "   </text>\n",
       "  </g>\n",
       "</svg>"
      ]
     },
     "metadata": {},
     "output_type": "display_data"
    },
    {
     "name": "stdout",
     "output_type": "stream",
     "text": [
      "Total (Bank) Money: 50\n"
     ]
    }
   ],
   "source": [
    "bank.book(debit=[('Equity',5)],credit=[('Deposits',5)],text='Dividend payout')\n",
    "private_agent.book(debit=[('Deposits',5)],credit=[('Dividend income',5)])\n",
    "print(\"Bank P&L and change in capital:\")\n",
    "bank.print_profit_and_loss()\n",
    "print(\"Private agent P&L and change in capital:\")\n",
    "private_agent.print_profit_and_loss()\n",
    "bank.book_end_of_period()\n",
    "private_agent.book_end_of_period()\n",
    "print_balance_sheets_and_money_stocks()"
   ]
  }
 ],
 "metadata": {
  "kernelspec": {
   "display_name": "Python 3",
   "language": "python",
   "name": "python3"
  },
  "language_info": {
   "codemirror_mode": {
    "name": "ipython",
    "version": 3
   },
   "file_extension": ".py",
   "mimetype": "text/x-python",
   "name": "python",
   "nbconvert_exporter": "python",
   "pygments_lexer": "ipython3",
   "version": "3.7.4"
  }
 },
 "nbformat": 4,
 "nbformat_minor": 2
}
