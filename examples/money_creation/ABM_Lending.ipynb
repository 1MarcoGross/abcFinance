{
 "cells": [
  {
   "cell_type": "markdown",
   "metadata": {},
   "source": [
    "[Money Creation Examples](http://www.siebenbrunner.com/moneycreation/) > **Agent-based Example**:\n",
    "# Lending in an agent-based framework\n",
    "This notebook demonstrates how to implement booking statements in an agent-based framework using the [abcEconomics](https://github.com/AB-CE/abce) library. The booking statements shown here are a slightly extended version of those in [Example 2](http://www.siebenbrunner.com/moneycreation/Ex2_Lending.html), i.e. demonstrating the effects of lending, interest and dividend payments on money stocks.\n",
    "\n",
    "We start by importing required utilities:"
   ]
  },
  {
   "cell_type": "code",
   "execution_count": 1,
   "metadata": {
    "scrolled": true
   },
   "outputs": [],
   "source": [
    "import abcEconomics\n",
    "\n",
    "import os\n",
    "import sys\n",
    "\n",
    "base_path = os.path.realpath(os.getcwd()+\"/../..\")\n",
    "sys.path.append(base_path)\n",
    "\n",
    "from abcFinance import Accountant"
   ]
  },
  {
   "cell_type": "code",
   "execution_count": 2,
   "metadata": {},
   "outputs": [],
   "source": [
    "from IPython.core.display import SVG\n",
    "from IPython.display import display_svg\n",
    "\n",
    "def print_money_stocks():\n",
    "    bank_money = bank.get_balance('Deposits')[0][0][1]\n",
    "        \n",
    "    print(\"Total (Bank) Money:\",bank_money)\n",
    "\n",
    "def print_balance_sheets_and_money_stocks(*args):\n",
    "    bank.book_end_of_period()\n",
    "    household.book_end_of_period()\n",
    "    bank_owner.book_end_of_period()\n",
    "    display_svg(SVG(bank.draw_balance_sheet(\"Bank Balance Sheet\")[0][0]))\n",
    "    display_svg(SVG(household.draw_balance_sheet(\"Household Balance Sheet\")[0][0]))\n",
    "    if \"include_owner\" in args: display_svg(SVG(bank_owner.draw_balance_sheet(\"Bank Owner Balance Sheet\")[0][0]))\n",
    "    \n",
    "    print_money_stocks()"
   ]
  },
  {
   "cell_type": "markdown",
   "metadata": {},
   "source": [
    "## Define agent classes\n",
    "We now create a class for each type of agent. Notice that the overhead compared to the [agent declaration in Example 2](http://www.siebenbrunner.com/moneycreation/Ex2_Lending.html#Declaration-of-agents) is very limited."
   ]
  },
  {
   "cell_type": "code",
   "execution_count": 3,
   "metadata": {},
   "outputs": [],
   "source": [
    "class Bank(Accountant):\n",
    "    def init(self, reserves=0, loans=0, deposits=0):\n",
    "        self.make_asset_accounts(['Reserves', 'Loans'])\n",
    "        self.make_liability_accounts(['Deposits'])\n",
    "        self.make_flow_accounts(['Interest income'])\n",
    "        self.book(debit=[('Reserves', reserves), ('Loans', loans)], \n",
    "                  credit=[('Deposits', deposits), ('Equity', reserves + loans - deposits)], \n",
    "                  text='Capital endowment')\n",
    "        self.book_end_of_period()\n",
    "        \n",
    "class Household(Accountant):\n",
    "    def init(self, money=0, loans=0, participations=0):\n",
    "        self.make_asset_accounts(['Money','Participations'])\n",
    "        self.make_liability_accounts(['Loans'])\n",
    "        self.make_flow_accounts(['Dividend income','Interest expenses'])\n",
    "        self.book(debit=[('Money', money),('Participations', participations)], \n",
    "                  credit=[('Loans', loans), ('Equity', money + participations - loans)], \n",
    "                  text='Initial endowment')\n",
    "        self.book_end_of_period()"
   ]
  },
  {
   "cell_type": "markdown",
   "metadata": {},
   "source": [
    "## Initialize the system with outside money endowments"
   ]
  },
  {
   "cell_type": "code",
   "execution_count": 4,
   "metadata": {},
   "outputs": [
    {
     "data": {
      "image/svg+xml": [
       "<svg height=\"110\" width=\"360\">\n",
       "  <g style=\"fill-opacity:1.0; stroke:black;    stroke-width:1;\">\n",
       "   <text dominant-baseline=\" hanging \" font-size=\"19\" text-anchor=\" middle \" x=\"175\" y=\"0\">\n",
       "    Bank Balance Sheet\n",
       "   </text>\n",
       "   <rect height=\"80\" style=\"fill:rgb(153, 204, 255);\" width=\"175\" x=\"5\" y=\"25\"/>\n",
       "   <text dominant-baseline=\" middle \" font-size=\"16\" text-anchor=\" middle \" x=\"92\" y=\"65\">\n",
       "    Reserves 100\n",
       "   </text>\n",
       "   <rect height=\"80\" style=\"fill:rgb(255, 204, 204);\" width=\"175\" x=\"180\" y=\"25\"/>\n",
       "   <text dominant-baseline=\" middle \" font-size=\"16\" text-anchor=\" middle \" x=\"267\" y=\"65\">\n",
       "    Deposits 100\n",
       "   </text>\n",
       "  </g>\n",
       "</svg>"
      ]
     },
     "metadata": {},
     "output_type": "display_data"
    },
    {
     "data": {
      "image/svg+xml": [
       "<svg height=\"110\" width=\"360\">\n",
       "  <g style=\"fill-opacity:1.0; stroke:black;    stroke-width:1;\">\n",
       "   <text dominant-baseline=\" hanging \" font-size=\"19\" text-anchor=\" middle \" x=\"175\" y=\"0\">\n",
       "    Household Balance Sheet\n",
       "   </text>\n",
       "   <rect height=\"80\" style=\"fill:rgb(153, 204, 255);\" width=\"175\" x=\"5\" y=\"25\"/>\n",
       "   <text dominant-baseline=\" middle \" font-size=\"16\" text-anchor=\" middle \" x=\"92\" y=\"65\">\n",
       "    Money 100\n",
       "   </text>\n",
       "   <rect height=\"80\" style=\"fill:rgb(204, 255, 204);\" width=\"175\" x=\"180\" y=\"25\"/>\n",
       "   <text dominant-baseline=\" middle \" font-size=\"16\" text-anchor=\" middle \" x=\"267\" y=\"65\">\n",
       "    Equity 100\n",
       "   </text>\n",
       "  </g>\n",
       "</svg>"
      ]
     },
     "metadata": {},
     "output_type": "display_data"
    },
    {
     "data": {
      "image/svg+xml": [
       "<svg height=\"110\" width=\"360\">\n",
       "  <g style=\"fill-opacity:1.0; stroke:black;    stroke-width:1;\">\n",
       "   <text dominant-baseline=\" hanging \" font-size=\"19\" text-anchor=\" middle \" x=\"175\" y=\"0\">\n",
       "    Bank Owner Balance Sheet\n",
       "   </text>\n",
       "   <rect height=\"80\" style=\"fill:rgb(153, 204, 255);\" width=\"175\" x=\"5\" y=\"25\"/>\n",
       "   <text dominant-baseline=\" middle \" font-size=\"16\" text-anchor=\" middle \" x=\"92\" y=\"65\">\n",
       "    Participations 100\n",
       "   </text>\n",
       "   <rect height=\"80\" style=\"fill:rgb(204, 255, 204);\" width=\"175\" x=\"180\" y=\"25\"/>\n",
       "   <text dominant-baseline=\" middle \" font-size=\"16\" text-anchor=\" middle \" x=\"267\" y=\"65\">\n",
       "    Equity 100\n",
       "   </text>\n",
       "  </g>\n",
       "</svg>"
      ]
     },
     "metadata": {},
     "output_type": "display_data"
    },
    {
     "name": "stdout",
     "output_type": "stream",
     "text": [
      "Total (Bank) Money: 100\n"
     ]
    }
   ],
   "source": [
    "sim = abcEconomics.Simulation()\n",
    "bank = sim.build_agents(Bank, 'bank', number=1, reserves=100,deposits=100)\n",
    "household = sim.build_agents(Household, 'household', number=1, money=100, loans=0)\n",
    "bank_owner = sim.build_agents(Household, 'bank_owner', number=1, participations=100)\n",
    "print_balance_sheets_and_money_stocks(\"include_owner\")"
   ]
  },
  {
   "cell_type": "markdown",
   "metadata": {},
   "source": [
    "## Granting of a loan"
   ]
  },
  {
   "cell_type": "code",
   "execution_count": 5,
   "metadata": {},
   "outputs": [
    {
     "data": {
      "image/svg+xml": [
       "<svg height=\"190\" width=\"360\">\n",
       "  <g style=\"fill-opacity:1.0; stroke:black;    stroke-width:1;\">\n",
       "   <text dominant-baseline=\" hanging \" font-size=\"19\" text-anchor=\" middle \" x=\"175\" y=\"0\">\n",
       "    Bank Balance Sheet\n",
       "   </text>\n",
       "   <rect height=\"80\" style=\"fill:rgb(153, 204, 255);\" width=\"175\" x=\"5\" y=\"25\"/>\n",
       "   <text dominant-baseline=\" middle \" font-size=\"16\" text-anchor=\" middle \" x=\"92\" y=\"65\">\n",
       "    Reserves 100\n",
       "   </text>\n",
       "   <rect height=\"80\" style=\"fill:rgb(153, 204, 255);\" width=\"175\" x=\"5\" y=\"105\"/>\n",
       "   <text dominant-baseline=\" middle \" font-size=\"16\" text-anchor=\" middle \" x=\"92\" y=\"145\">\n",
       "    Loans 100\n",
       "   </text>\n",
       "   <rect height=\"160\" style=\"fill:rgb(255, 204, 204);\" width=\"175\" x=\"180\" y=\"25\"/>\n",
       "   <text dominant-baseline=\" middle \" font-size=\"16\" text-anchor=\" middle \" x=\"267\" y=\"105\">\n",
       "    Deposits 200\n",
       "   </text>\n",
       "  </g>\n",
       "</svg>"
      ]
     },
     "metadata": {},
     "output_type": "display_data"
    },
    {
     "data": {
      "image/svg+xml": [
       "<svg height=\"190\" width=\"360\">\n",
       "  <g style=\"fill-opacity:1.0; stroke:black;    stroke-width:1;\">\n",
       "   <text dominant-baseline=\" hanging \" font-size=\"19\" text-anchor=\" middle \" x=\"175\" y=\"0\">\n",
       "    Household Balance Sheet\n",
       "   </text>\n",
       "   <rect height=\"160\" style=\"fill:rgb(153, 204, 255);\" width=\"175\" x=\"5\" y=\"25\"/>\n",
       "   <text dominant-baseline=\" middle \" font-size=\"16\" text-anchor=\" middle \" x=\"92\" y=\"105\">\n",
       "    Money 200\n",
       "   </text>\n",
       "   <rect height=\"80\" style=\"fill:rgb(204, 255, 204);\" width=\"175\" x=\"180\" y=\"25\"/>\n",
       "   <text dominant-baseline=\" middle \" font-size=\"16\" text-anchor=\" middle \" x=\"267\" y=\"65\">\n",
       "    Equity 100\n",
       "   </text>\n",
       "   <rect height=\"80\" style=\"fill:rgb(255, 204, 204);\" width=\"175\" x=\"180\" y=\"105\"/>\n",
       "   <text dominant-baseline=\" middle \" font-size=\"16\" text-anchor=\" middle \" x=\"267\" y=\"145\">\n",
       "    Loans 100\n",
       "   </text>\n",
       "  </g>\n",
       "</svg>"
      ]
     },
     "metadata": {},
     "output_type": "display_data"
    },
    {
     "name": "stdout",
     "output_type": "stream",
     "text": [
      "Total (Bank) Money: 200\n"
     ]
    }
   ],
   "source": [
    "bank.book(debit=[('Loans', 100)], credit=[('Deposits', 100)], text='Loan granting')\n",
    "household.book(debit=[('Money', 100)], credit=[('Loans', 100)], text='Take out loan')\n",
    "print_balance_sheets_and_money_stocks()"
   ]
  },
  {
   "cell_type": "markdown",
   "metadata": {},
   "source": [
    "## Interest payment"
   ]
  },
  {
   "cell_type": "code",
   "execution_count": 6,
   "metadata": {},
   "outputs": [
    {
     "name": "stdout",
     "output_type": "stream",
     "text": [
      "Bank\n",
      "Flow accounts:\n",
      "   Interest income : 25\n",
      "Profit for period:  25\n",
      "--\n",
      "Household\n",
      "Flow accounts:\n",
      "   Interest expenses : -25\n",
      "Profit for period:  -25\n",
      "--\n"
     ]
    },
    {
     "data": {
      "image/svg+xml": [
       "<svg height=\"190\" width=\"360\">\n",
       "  <g style=\"fill-opacity:1.0; stroke:black;    stroke-width:1;\">\n",
       "   <text dominant-baseline=\" hanging \" font-size=\"19\" text-anchor=\" middle \" x=\"175\" y=\"0\">\n",
       "    Bank Balance Sheet\n",
       "   </text>\n",
       "   <rect height=\"80\" style=\"fill:rgb(153, 204, 255);\" width=\"175\" x=\"5\" y=\"25\"/>\n",
       "   <text dominant-baseline=\" middle \" font-size=\"16\" text-anchor=\" middle \" x=\"92\" y=\"65\">\n",
       "    Reserves 100\n",
       "   </text>\n",
       "   <rect height=\"80\" style=\"fill:rgb(153, 204, 255);\" width=\"175\" x=\"5\" y=\"105\"/>\n",
       "   <text dominant-baseline=\" middle \" font-size=\"16\" text-anchor=\" middle \" x=\"92\" y=\"145\">\n",
       "    Loans 100\n",
       "   </text>\n",
       "   <rect height=\"20\" style=\"fill:rgb(204, 255, 204);\" width=\"175\" x=\"180\" y=\"25\"/>\n",
       "   <text dominant-baseline=\" middle \" font-size=\"16\" text-anchor=\" middle \" x=\"267\" y=\"35\">\n",
       "    Equity 25\n",
       "   </text>\n",
       "   <rect height=\"140\" style=\"fill:rgb(255, 204, 204);\" width=\"175\" x=\"180\" y=\"45\"/>\n",
       "   <text dominant-baseline=\" middle \" font-size=\"16\" text-anchor=\" middle \" x=\"267\" y=\"115\">\n",
       "    Deposits 175\n",
       "   </text>\n",
       "  </g>\n",
       "</svg>"
      ]
     },
     "metadata": {},
     "output_type": "display_data"
    },
    {
     "data": {
      "image/svg+xml": [
       "<svg height=\"170\" width=\"360\">\n",
       "  <g style=\"fill-opacity:1.0; stroke:black;    stroke-width:1;\">\n",
       "   <text dominant-baseline=\" hanging \" font-size=\"19\" text-anchor=\" middle \" x=\"175\" y=\"0\">\n",
       "    Household Balance Sheet\n",
       "   </text>\n",
       "   <rect height=\"140\" style=\"fill:rgb(153, 204, 255);\" width=\"175\" x=\"5\" y=\"25\"/>\n",
       "   <text dominant-baseline=\" middle \" font-size=\"16\" text-anchor=\" middle \" x=\"92\" y=\"95\">\n",
       "    Money 175\n",
       "   </text>\n",
       "   <rect height=\"60\" style=\"fill:rgb(204, 255, 204);\" width=\"175\" x=\"180\" y=\"25\"/>\n",
       "   <text dominant-baseline=\" middle \" font-size=\"16\" text-anchor=\" middle \" x=\"267\" y=\"55\">\n",
       "    Equity 75\n",
       "   </text>\n",
       "   <rect height=\"80\" style=\"fill:rgb(255, 204, 204);\" width=\"175\" x=\"180\" y=\"85\"/>\n",
       "   <text dominant-baseline=\" middle \" font-size=\"16\" text-anchor=\" middle \" x=\"267\" y=\"125\">\n",
       "    Loans 100\n",
       "   </text>\n",
       "  </g>\n",
       "</svg>"
      ]
     },
     "metadata": {},
     "output_type": "display_data"
    },
    {
     "name": "stdout",
     "output_type": "stream",
     "text": [
      "Total (Bank) Money: 175\n"
     ]
    }
   ],
   "source": [
    "household.book(debit=[('Interest expenses', 25)], credit=[('Money', 25)], text='Interest payment')\n",
    "bank.book(debit=[('Deposits', 25)], credit=[('Interest income', 25)], text='Interest payment')\n",
    "print('Bank')\n",
    "bank.print_profit_and_loss()\n",
    "print('Household')\n",
    "household.print_profit_and_loss()\n",
    "print_balance_sheets_and_money_stocks()"
   ]
  },
  {
   "cell_type": "markdown",
   "metadata": {},
   "source": [
    "## Dividend payment"
   ]
  },
  {
   "cell_type": "code",
   "execution_count": 7,
   "metadata": {},
   "outputs": [
    {
     "name": "stdout",
     "output_type": "stream",
     "text": [
      "Bank\n",
      "Flow accounts:\n",
      "Profit for period:  0\n",
      "Profit distribution and capital actions\n",
      "   Dividend payment : -25\n",
      "--\n",
      "Bank Owner\n",
      "Flow accounts:\n",
      "   Dividend income : 25\n",
      "Profit for period:  25\n",
      "--\n"
     ]
    },
    {
     "data": {
      "image/svg+xml": [
       "<svg height=\"190\" width=\"360\">\n",
       "  <g style=\"fill-opacity:1.0; stroke:black;    stroke-width:1;\">\n",
       "   <text dominant-baseline=\" hanging \" font-size=\"19\" text-anchor=\" middle \" x=\"175\" y=\"0\">\n",
       "    Bank Balance Sheet\n",
       "   </text>\n",
       "   <rect height=\"80\" style=\"fill:rgb(153, 204, 255);\" width=\"175\" x=\"5\" y=\"25\"/>\n",
       "   <text dominant-baseline=\" middle \" font-size=\"16\" text-anchor=\" middle \" x=\"92\" y=\"65\">\n",
       "    Reserves 100\n",
       "   </text>\n",
       "   <rect height=\"80\" style=\"fill:rgb(153, 204, 255);\" width=\"175\" x=\"5\" y=\"105\"/>\n",
       "   <text dominant-baseline=\" middle \" font-size=\"16\" text-anchor=\" middle \" x=\"92\" y=\"145\">\n",
       "    Loans 100\n",
       "   </text>\n",
       "   <rect height=\"160\" style=\"fill:rgb(255, 204, 204);\" width=\"175\" x=\"180\" y=\"25\"/>\n",
       "   <text dominant-baseline=\" middle \" font-size=\"16\" text-anchor=\" middle \" x=\"267\" y=\"105\">\n",
       "    Deposits 200\n",
       "   </text>\n",
       "  </g>\n",
       "</svg>"
      ]
     },
     "metadata": {},
     "output_type": "display_data"
    },
    {
     "data": {
      "image/svg+xml": [
       "<svg height=\"170\" width=\"360\">\n",
       "  <g style=\"fill-opacity:1.0; stroke:black;    stroke-width:1;\">\n",
       "   <text dominant-baseline=\" hanging \" font-size=\"19\" text-anchor=\" middle \" x=\"175\" y=\"0\">\n",
       "    Household Balance Sheet\n",
       "   </text>\n",
       "   <rect height=\"140\" style=\"fill:rgb(153, 204, 255);\" width=\"175\" x=\"5\" y=\"25\"/>\n",
       "   <text dominant-baseline=\" middle \" font-size=\"16\" text-anchor=\" middle \" x=\"92\" y=\"95\">\n",
       "    Money 175\n",
       "   </text>\n",
       "   <rect height=\"60\" style=\"fill:rgb(204, 255, 204);\" width=\"175\" x=\"180\" y=\"25\"/>\n",
       "   <text dominant-baseline=\" middle \" font-size=\"16\" text-anchor=\" middle \" x=\"267\" y=\"55\">\n",
       "    Equity 75\n",
       "   </text>\n",
       "   <rect height=\"80\" style=\"fill:rgb(255, 204, 204);\" width=\"175\" x=\"180\" y=\"85\"/>\n",
       "   <text dominant-baseline=\" middle \" font-size=\"16\" text-anchor=\" middle \" x=\"267\" y=\"125\">\n",
       "    Loans 100\n",
       "   </text>\n",
       "  </g>\n",
       "</svg>"
      ]
     },
     "metadata": {},
     "output_type": "display_data"
    },
    {
     "data": {
      "image/svg+xml": [
       "<svg height=\"130\" width=\"360\">\n",
       "  <g style=\"fill-opacity:1.0; stroke:black;    stroke-width:1;\">\n",
       "   <text dominant-baseline=\" hanging \" font-size=\"19\" text-anchor=\" middle \" x=\"175\" y=\"0\">\n",
       "    Bank Owner Balance Sheet\n",
       "   </text>\n",
       "   <rect height=\"20\" style=\"fill:rgb(153, 204, 255);\" width=\"175\" x=\"5\" y=\"25\"/>\n",
       "   <text dominant-baseline=\" middle \" font-size=\"16\" text-anchor=\" middle \" x=\"92\" y=\"35\">\n",
       "    Money 25\n",
       "   </text>\n",
       "   <rect height=\"80\" style=\"fill:rgb(153, 204, 255);\" width=\"175\" x=\"5\" y=\"45\"/>\n",
       "   <text dominant-baseline=\" middle \" font-size=\"16\" text-anchor=\" middle \" x=\"92\" y=\"85\">\n",
       "    Participations 100\n",
       "   </text>\n",
       "   <rect height=\"100\" style=\"fill:rgb(204, 255, 204);\" width=\"175\" x=\"180\" y=\"25\"/>\n",
       "   <text dominant-baseline=\" middle \" font-size=\"16\" text-anchor=\" middle \" x=\"267\" y=\"75\">\n",
       "    Equity 125\n",
       "   </text>\n",
       "  </g>\n",
       "</svg>"
      ]
     },
     "metadata": {},
     "output_type": "display_data"
    },
    {
     "name": "stdout",
     "output_type": "stream",
     "text": [
      "Total (Bank) Money: 200\n"
     ]
    }
   ],
   "source": [
    "bank.book(debit=[('Equity', 25)], credit=[('Deposits', 25)], text='Dividend payment')\n",
    "bank_owner.book(debit=[('Money', 25)], credit=[('Dividend income', 25)], text='Dividend payment')\n",
    "print('Bank')\n",
    "bank.print_profit_and_loss()\n",
    "print('Bank Owner')\n",
    "bank_owner.print_profit_and_loss()\n",
    "print_balance_sheets_and_money_stocks(\"include_owner\")"
   ]
  },
  {
   "cell_type": "markdown",
   "metadata": {},
   "source": [
    "## Loan principal repayment"
   ]
  },
  {
   "cell_type": "code",
   "execution_count": 8,
   "metadata": {},
   "outputs": [
    {
     "data": {
      "image/svg+xml": [
       "<svg height=\"110\" width=\"360\">\n",
       "  <g style=\"fill-opacity:1.0; stroke:black;    stroke-width:1;\">\n",
       "   <text dominant-baseline=\" hanging \" font-size=\"19\" text-anchor=\" middle \" x=\"175\" y=\"0\">\n",
       "    Bank Balance Sheet\n",
       "   </text>\n",
       "   <rect height=\"80\" style=\"fill:rgb(153, 204, 255);\" width=\"175\" x=\"5\" y=\"25\"/>\n",
       "   <text dominant-baseline=\" middle \" font-size=\"16\" text-anchor=\" middle \" x=\"92\" y=\"65\">\n",
       "    Reserves 100\n",
       "   </text>\n",
       "   <rect height=\"80\" style=\"fill:rgb(255, 204, 204);\" width=\"175\" x=\"180\" y=\"25\"/>\n",
       "   <text dominant-baseline=\" middle \" font-size=\"16\" text-anchor=\" middle \" x=\"267\" y=\"65\">\n",
       "    Deposits 100\n",
       "   </text>\n",
       "  </g>\n",
       "</svg>"
      ]
     },
     "metadata": {},
     "output_type": "display_data"
    },
    {
     "data": {
      "image/svg+xml": [
       "<svg height=\"90\" width=\"360\">\n",
       "  <g style=\"fill-opacity:1.0; stroke:black;    stroke-width:1;\">\n",
       "   <text dominant-baseline=\" hanging \" font-size=\"19\" text-anchor=\" middle \" x=\"175\" y=\"0\">\n",
       "    Household Balance Sheet\n",
       "   </text>\n",
       "   <rect height=\"60\" style=\"fill:rgb(153, 204, 255);\" width=\"175\" x=\"5\" y=\"25\"/>\n",
       "   <text dominant-baseline=\" middle \" font-size=\"16\" text-anchor=\" middle \" x=\"92\" y=\"55\">\n",
       "    Money 75\n",
       "   </text>\n",
       "   <rect height=\"60\" style=\"fill:rgb(204, 255, 204);\" width=\"175\" x=\"180\" y=\"25\"/>\n",
       "   <text dominant-baseline=\" middle \" font-size=\"16\" text-anchor=\" middle \" x=\"267\" y=\"55\">\n",
       "    Equity 75\n",
       "   </text>\n",
       "  </g>\n",
       "</svg>"
      ]
     },
     "metadata": {},
     "output_type": "display_data"
    },
    {
     "data": {
      "image/svg+xml": [
       "<svg height=\"130\" width=\"360\">\n",
       "  <g style=\"fill-opacity:1.0; stroke:black;    stroke-width:1;\">\n",
       "   <text dominant-baseline=\" hanging \" font-size=\"19\" text-anchor=\" middle \" x=\"175\" y=\"0\">\n",
       "    Bank Owner Balance Sheet\n",
       "   </text>\n",
       "   <rect height=\"20\" style=\"fill:rgb(153, 204, 255);\" width=\"175\" x=\"5\" y=\"25\"/>\n",
       "   <text dominant-baseline=\" middle \" font-size=\"16\" text-anchor=\" middle \" x=\"92\" y=\"35\">\n",
       "    Money 25\n",
       "   </text>\n",
       "   <rect height=\"80\" style=\"fill:rgb(153, 204, 255);\" width=\"175\" x=\"5\" y=\"45\"/>\n",
       "   <text dominant-baseline=\" middle \" font-size=\"16\" text-anchor=\" middle \" x=\"92\" y=\"85\">\n",
       "    Participations 100\n",
       "   </text>\n",
       "   <rect height=\"100\" style=\"fill:rgb(204, 255, 204);\" width=\"175\" x=\"180\" y=\"25\"/>\n",
       "   <text dominant-baseline=\" middle \" font-size=\"16\" text-anchor=\" middle \" x=\"267\" y=\"75\">\n",
       "    Equity 125\n",
       "   </text>\n",
       "  </g>\n",
       "</svg>"
      ]
     },
     "metadata": {},
     "output_type": "display_data"
    },
    {
     "name": "stdout",
     "output_type": "stream",
     "text": [
      "Total (Bank) Money: 100\n"
     ]
    }
   ],
   "source": [
    "household.book(debit=[('Loans', 100)], credit=[('Money', 100)], text='Principal repayment')\n",
    "bank.book(debit=[('Deposits', 100)], credit=[('Loans', 100)], text='Principal repayment')\n",
    "print_balance_sheets_and_money_stocks(\"include_owner\")"
   ]
  }
 ],
 "metadata": {
  "kernelspec": {
   "display_name": "Python 3",
   "language": "python",
   "name": "python3"
  },
  "language_info": {
   "codemirror_mode": {
    "name": "ipython",
    "version": 3
   },
   "file_extension": ".py",
   "mimetype": "text/x-python",
   "name": "python",
   "nbconvert_exporter": "python",
   "pygments_lexer": "ipython3",
   "version": "3.7.4"
  }
 },
 "nbformat": 4,
 "nbformat_minor": 2
}
