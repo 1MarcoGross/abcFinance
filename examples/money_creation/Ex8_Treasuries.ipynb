{
 "cells": [
  {
   "cell_type": "markdown",
   "metadata": {},
   "source": [
    "[Money Creation Examples](http://www.siebenbrunner.com/moneycreation/) > **Example 8**:\n",
    "# Purchase of US Treasury bonds\n",
    "This notebook implements the booking process in the Commercial Book-Entry System (https://www.treasurydirect.gov/instit/auctfund/held/cbes/cbes.htm).\n",
    "\n",
    "We start by importing required utilities:"
   ]
  },
  {
   "cell_type": "code",
   "execution_count": 1,
   "metadata": {},
   "outputs": [],
   "source": [
    "import os\n",
    "import sys\n",
    "\n",
    "base_path = os.path.realpath(os.getcwd()+\"/../..\")\n",
    "sys.path.append(base_path)\n",
    "\n",
    "from abcFinance import Ledger"
   ]
  },
  {
   "cell_type": "code",
   "execution_count": 2,
   "metadata": {},
   "outputs": [],
   "source": [
    "from IPython.core.display import SVG\n",
    "from IPython.display import display_svg\n",
    "\n",
    "def print_money_stocks():\n",
    "    bank_money = broker_M.get_balance('Customer Deposits')[1]\n",
    "    bank_money += fi_J.get_balance('Customer Deposits')[1]\n",
    "        \n",
    "    print(\"Total (Bank) Money:\",bank_money)\n",
    "\n",
    "def print_balance_sheets_and_money_stocks():\n",
    "    display_svg(SVG(fed.draw_balance_sheet(\"Federal Reserve\",width=750)))\n",
    "    display_svg(SVG(depository_A.draw_balance_sheet(\"Depository Institution A\",width=750)))\n",
    "    display_svg(SVG(depository_B.draw_balance_sheet(\"Depository Institution B\",width=750)))\n",
    "    display_svg(SVG(broker_M.draw_balance_sheet(\"Broker\",width=750)))\n",
    "    display_svg(SVG(fi_J.draw_balance_sheet(\"Financial Institution J\",width=750)))\n",
    "    \n",
    "    print_money_stocks()"
   ]
  },
  {
   "cell_type": "markdown",
   "metadata": {},
   "source": [
    "## Declaration of agents"
   ]
  },
  {
   "cell_type": "code",
   "execution_count": 3,
   "metadata": {},
   "outputs": [],
   "source": [
    "fed = Ledger(residual_account_name=\"Equity\")\n",
    "depository_A = Ledger(residual_account_name=\"Equity\")\n",
    "depository_B = Ledger(residual_account_name=\"Equity\")\n",
    "broker_M = Ledger(residual_account_name=\"Equity\")\n",
    "fi_J = Ledger(residual_account_name=\"Equity\")\n",
    "\n",
    "fed.make_stock_accounts(['Securities Holdings','Securities belonging to Depository A','Securities belonging to Depository B','Reserves Depository A','Reserves Depository B','Assets'])\n",
    "depository_A.make_stock_accounts(['Securities Holdings','Securities belonging to Broker M','Reserves','Deposits by Broker M'])\n",
    "depository_B.make_stock_accounts(['Securities Holdings','Securities belonging to Financial Institution J','Reserves','Deposits by Financial Institution J'])\n",
    "broker_M.make_stock_accounts(['Securities Holdings','Securities belonging to Customers','Reserves with Depository A','Customer Deposits'])\n",
    "fi_J.make_stock_accounts(['Securities Holdings','Securities belonging to Customers','Reserves with Depository B','Customer Deposits'])"
   ]
  },
  {
   "cell_type": "markdown",
   "metadata": {},
   "source": [
    "## Initialize balance sheets\n",
    "All symmetric balance sheets with 0 equity, for simplicity."
   ]
  },
  {
   "cell_type": "code",
   "execution_count": 4,
   "metadata": {},
   "outputs": [
    {
     "data": {
      "image/svg+xml": [
       "<svg height=\"270\" width=\"760\">\n",
       "  <g style=\"fill-opacity:1.0; stroke:black;    stroke-width:1;\">\n",
       "   <text dominant-baseline=\" hanging \" font-size=\"19\" text-anchor=\" middle \" x=\"375\" y=\"0\">\n",
       "    Federal Reserve\n",
       "   </text>\n",
       "   <rect height=\"80\" style=\"fill:rgb(153, 204, 255);\" width=\"375\" x=\"5\" y=\"25\"/>\n",
       "   <text dominant-baseline=\" middle \" font-size=\"16\" text-anchor=\" middle \" x=\"192\" y=\"65\">\n",
       "    Securities Holdings 100\n",
       "   </text>\n",
       "   <rect height=\"160\" style=\"fill:rgb(153, 204, 255);\" width=\"375\" x=\"5\" y=\"105\"/>\n",
       "   <text dominant-baseline=\" middle \" font-size=\"16\" text-anchor=\" middle \" x=\"192\" y=\"185\">\n",
       "    Assets 200\n",
       "   </text>\n",
       "   <rect height=\"40\" style=\"fill:rgb(255, 204, 204);\" width=\"375\" x=\"380\" y=\"25\"/>\n",
       "   <text dominant-baseline=\" middle \" font-size=\"16\" text-anchor=\" middle \" x=\"567\" y=\"45\">\n",
       "    Securities belonging to Depository A 50\n",
       "   </text>\n",
       "   <rect height=\"40\" style=\"fill:rgb(255, 204, 204);\" width=\"375\" x=\"380\" y=\"65\"/>\n",
       "   <text dominant-baseline=\" middle \" font-size=\"16\" text-anchor=\" middle \" x=\"567\" y=\"85\">\n",
       "    Securities belonging to Depository B 50\n",
       "   </text>\n",
       "   <rect height=\"80\" style=\"fill:rgb(255, 204, 204);\" width=\"375\" x=\"380\" y=\"105\"/>\n",
       "   <text dominant-baseline=\" middle \" font-size=\"16\" text-anchor=\" middle \" x=\"567\" y=\"145\">\n",
       "    Reserves Depository A 100\n",
       "   </text>\n",
       "   <rect height=\"80\" style=\"fill:rgb(255, 204, 204);\" width=\"375\" x=\"380\" y=\"185\"/>\n",
       "   <text dominant-baseline=\" middle \" font-size=\"16\" text-anchor=\" middle \" x=\"567\" y=\"225\">\n",
       "    Reserves Depository B 100\n",
       "   </text>\n",
       "  </g>\n",
       "</svg>"
      ]
     },
     "metadata": {},
     "output_type": "display_data"
    },
    {
     "data": {
      "image/svg+xml": [
       "<svg height=\"190\" width=\"760\">\n",
       "  <g style=\"fill-opacity:1.0; stroke:black;    stroke-width:1;\">\n",
       "   <text dominant-baseline=\" hanging \" font-size=\"19\" text-anchor=\" middle \" x=\"375\" y=\"0\">\n",
       "    Depository Institution A\n",
       "   </text>\n",
       "   <rect height=\"80\" style=\"fill:rgb(153, 204, 255);\" width=\"375\" x=\"5\" y=\"25\"/>\n",
       "   <text dominant-baseline=\" middle \" font-size=\"16\" text-anchor=\" middle \" x=\"192\" y=\"65\">\n",
       "    Securities Holdings 100\n",
       "   </text>\n",
       "   <rect height=\"80\" style=\"fill:rgb(153, 204, 255);\" width=\"375\" x=\"5\" y=\"105\"/>\n",
       "   <text dominant-baseline=\" middle \" font-size=\"16\" text-anchor=\" middle \" x=\"192\" y=\"145\">\n",
       "    Reserves 100\n",
       "   </text>\n",
       "   <rect height=\"80\" style=\"fill:rgb(255, 204, 204);\" width=\"375\" x=\"380\" y=\"25\"/>\n",
       "   <text dominant-baseline=\" middle \" font-size=\"16\" text-anchor=\" middle \" x=\"567\" y=\"65\">\n",
       "    Securities belonging to Broker M 100\n",
       "   </text>\n",
       "   <rect height=\"80\" style=\"fill:rgb(255, 204, 204);\" width=\"375\" x=\"380\" y=\"105\"/>\n",
       "   <text dominant-baseline=\" middle \" font-size=\"16\" text-anchor=\" middle \" x=\"567\" y=\"145\">\n",
       "    Deposits by Broker M 100\n",
       "   </text>\n",
       "  </g>\n",
       "</svg>"
      ]
     },
     "metadata": {},
     "output_type": "display_data"
    },
    {
     "data": {
      "image/svg+xml": [
       "<svg height=\"190\" width=\"760\">\n",
       "  <g style=\"fill-opacity:1.0; stroke:black;    stroke-width:1;\">\n",
       "   <text dominant-baseline=\" hanging \" font-size=\"19\" text-anchor=\" middle \" x=\"375\" y=\"0\">\n",
       "    Depository Institution B\n",
       "   </text>\n",
       "   <rect height=\"80\" style=\"fill:rgb(153, 204, 255);\" width=\"375\" x=\"5\" y=\"25\"/>\n",
       "   <text dominant-baseline=\" middle \" font-size=\"16\" text-anchor=\" middle \" x=\"192\" y=\"65\">\n",
       "    Securities Holdings 100\n",
       "   </text>\n",
       "   <rect height=\"80\" style=\"fill:rgb(153, 204, 255);\" width=\"375\" x=\"5\" y=\"105\"/>\n",
       "   <text dominant-baseline=\" middle \" font-size=\"16\" text-anchor=\" middle \" x=\"192\" y=\"145\">\n",
       "    Reserves 100\n",
       "   </text>\n",
       "   <rect height=\"80\" style=\"fill:rgb(255, 204, 204);\" width=\"375\" x=\"380\" y=\"25\"/>\n",
       "   <text dominant-baseline=\" middle \" font-size=\"16\" text-anchor=\" middle \" x=\"567\" y=\"65\">\n",
       "    Securities belonging to Financial Institution J 100\n",
       "   </text>\n",
       "   <rect height=\"80\" style=\"fill:rgb(255, 204, 204);\" width=\"375\" x=\"380\" y=\"105\"/>\n",
       "   <text dominant-baseline=\" middle \" font-size=\"16\" text-anchor=\" middle \" x=\"567\" y=\"145\">\n",
       "    Deposits by Financial Institution J 100\n",
       "   </text>\n",
       "  </g>\n",
       "</svg>"
      ]
     },
     "metadata": {},
     "output_type": "display_data"
    },
    {
     "data": {
      "image/svg+xml": [
       "<svg height=\"190\" width=\"760\">\n",
       "  <g style=\"fill-opacity:1.0; stroke:black;    stroke-width:1;\">\n",
       "   <text dominant-baseline=\" hanging \" font-size=\"19\" text-anchor=\" middle \" x=\"375\" y=\"0\">\n",
       "    Broker\n",
       "   </text>\n",
       "   <rect height=\"80\" style=\"fill:rgb(153, 204, 255);\" width=\"375\" x=\"5\" y=\"25\"/>\n",
       "   <text dominant-baseline=\" middle \" font-size=\"16\" text-anchor=\" middle \" x=\"192\" y=\"65\">\n",
       "    Securities Holdings 100\n",
       "   </text>\n",
       "   <rect height=\"80\" style=\"fill:rgb(153, 204, 255);\" width=\"375\" x=\"5\" y=\"105\"/>\n",
       "   <text dominant-baseline=\" middle \" font-size=\"16\" text-anchor=\" middle \" x=\"192\" y=\"145\">\n",
       "    Reserves with Depository A 100\n",
       "   </text>\n",
       "   <rect height=\"80\" style=\"fill:rgb(255, 204, 204);\" width=\"375\" x=\"380\" y=\"25\"/>\n",
       "   <text dominant-baseline=\" middle \" font-size=\"16\" text-anchor=\" middle \" x=\"567\" y=\"65\">\n",
       "    Securities belonging to Customers 100\n",
       "   </text>\n",
       "   <rect height=\"80\" style=\"fill:rgb(255, 204, 204);\" width=\"375\" x=\"380\" y=\"105\"/>\n",
       "   <text dominant-baseline=\" middle \" font-size=\"16\" text-anchor=\" middle \" x=\"567\" y=\"145\">\n",
       "    Customer Deposits 100\n",
       "   </text>\n",
       "  </g>\n",
       "</svg>"
      ]
     },
     "metadata": {},
     "output_type": "display_data"
    },
    {
     "data": {
      "image/svg+xml": [
       "<svg height=\"190\" width=\"760\">\n",
       "  <g style=\"fill-opacity:1.0; stroke:black;    stroke-width:1;\">\n",
       "   <text dominant-baseline=\" hanging \" font-size=\"19\" text-anchor=\" middle \" x=\"375\" y=\"0\">\n",
       "    Financial Institution J\n",
       "   </text>\n",
       "   <rect height=\"80\" style=\"fill:rgb(153, 204, 255);\" width=\"375\" x=\"5\" y=\"25\"/>\n",
       "   <text dominant-baseline=\" middle \" font-size=\"16\" text-anchor=\" middle \" x=\"192\" y=\"65\">\n",
       "    Securities Holdings 100\n",
       "   </text>\n",
       "   <rect height=\"80\" style=\"fill:rgb(153, 204, 255);\" width=\"375\" x=\"5\" y=\"105\"/>\n",
       "   <text dominant-baseline=\" middle \" font-size=\"16\" text-anchor=\" middle \" x=\"192\" y=\"145\">\n",
       "    Reserves with Depository B 100\n",
       "   </text>\n",
       "   <rect height=\"80\" style=\"fill:rgb(255, 204, 204);\" width=\"375\" x=\"380\" y=\"25\"/>\n",
       "   <text dominant-baseline=\" middle \" font-size=\"16\" text-anchor=\" middle \" x=\"567\" y=\"65\">\n",
       "    Securities belonging to Customers 100\n",
       "   </text>\n",
       "   <rect height=\"80\" style=\"fill:rgb(255, 204, 204);\" width=\"375\" x=\"380\" y=\"105\"/>\n",
       "   <text dominant-baseline=\" middle \" font-size=\"16\" text-anchor=\" middle \" x=\"567\" y=\"145\">\n",
       "    Customer Deposits 100\n",
       "   </text>\n",
       "  </g>\n",
       "</svg>"
      ]
     },
     "metadata": {},
     "output_type": "display_data"
    },
    {
     "name": "stdout",
     "output_type": "stream",
     "text": [
      "Total (Bank) Money: 200\n"
     ]
    }
   ],
   "source": [
    "fed.book(debit=[('Securities Holdings',100)],credit=[('Securities belonging to Depository A',50),('Securities belonging to Depository B',50)])\n",
    "fed.book(debit=[('Assets',200)],credit=[('Reserves Depository A',100),('Reserves Depository B',100)])\n",
    "depository_A.book(debit=[('Securities Holdings',100)],credit=[('Securities belonging to Broker M',100)])\n",
    "depository_A.book(debit=[('Reserves',100)],credit=[('Deposits by Broker M',100)])\n",
    "depository_B.book(debit=[('Securities Holdings',100)],credit=[('Securities belonging to Financial Institution J',100)])\n",
    "depository_B.book(debit=[('Reserves',100)],credit=[('Deposits by Financial Institution J',100)])\n",
    "broker_M.book(debit=[('Securities Holdings',100)],credit=[('Securities belonging to Customers',100)])\n",
    "broker_M.book(debit=[('Reserves with Depository A',100)],credit=[('Customer Deposits',100)])\n",
    "fi_J.book(debit=[('Securities Holdings',100)],credit=[('Securities belonging to Customers',100)])\n",
    "fi_J.book(debit=[('Reserves with Depository B',100)],credit=[('Customer Deposits',100)])\n",
    "print_balance_sheets_and_money_stocks()"
   ]
  },
  {
   "cell_type": "markdown",
   "metadata": {},
   "source": [
    "## Transfer of a security from a customer of Broker M to a customer of Financial Institution J\n",
    "The booking statements on the customers' balance sheet are left out for brevity, they would be completely analogous."
   ]
  },
  {
   "cell_type": "code",
   "execution_count": 5,
   "metadata": {},
   "outputs": [
    {
     "data": {
      "image/svg+xml": [
       "<svg height=\"270\" width=\"760\">\n",
       "  <g style=\"fill-opacity:1.0; stroke:black;    stroke-width:1;\">\n",
       "   <text dominant-baseline=\" hanging \" font-size=\"19\" text-anchor=\" middle \" x=\"375\" y=\"0\">\n",
       "    Federal Reserve\n",
       "   </text>\n",
       "   <rect height=\"80\" style=\"fill:rgb(153, 204, 255);\" width=\"375\" x=\"5\" y=\"25\"/>\n",
       "   <text dominant-baseline=\" middle \" font-size=\"16\" text-anchor=\" middle \" x=\"192\" y=\"65\">\n",
       "    Securities Holdings 100\n",
       "   </text>\n",
       "   <rect height=\"160\" style=\"fill:rgb(153, 204, 255);\" width=\"375\" x=\"5\" y=\"105\"/>\n",
       "   <text dominant-baseline=\" middle \" font-size=\"16\" text-anchor=\" middle \" x=\"192\" y=\"185\">\n",
       "    Assets 200\n",
       "   </text>\n",
       "   <rect height=\"80\" style=\"fill:rgb(255, 204, 204);\" width=\"375\" x=\"380\" y=\"25\"/>\n",
       "   <text dominant-baseline=\" middle \" font-size=\"16\" text-anchor=\" middle \" x=\"567\" y=\"65\">\n",
       "    Securities belonging to Depository B 100\n",
       "   </text>\n",
       "   <rect height=\"80\" style=\"fill:rgb(255, 204, 204);\" width=\"375\" x=\"380\" y=\"105\"/>\n",
       "   <text dominant-baseline=\" middle \" font-size=\"16\" text-anchor=\" middle \" x=\"567\" y=\"145\">\n",
       "    Reserves Depository A 100\n",
       "   </text>\n",
       "   <rect height=\"80\" style=\"fill:rgb(255, 204, 204);\" width=\"375\" x=\"380\" y=\"185\"/>\n",
       "   <text dominant-baseline=\" middle \" font-size=\"16\" text-anchor=\" middle \" x=\"567\" y=\"225\">\n",
       "    Reserves Depository B 100\n",
       "   </text>\n",
       "  </g>\n",
       "</svg>"
      ]
     },
     "metadata": {},
     "output_type": "display_data"
    },
    {
     "data": {
      "image/svg+xml": [
       "<svg height=\"150\" width=\"760\">\n",
       "  <g style=\"fill-opacity:1.0; stroke:black;    stroke-width:1;\">\n",
       "   <text dominant-baseline=\" hanging \" font-size=\"19\" text-anchor=\" middle \" x=\"375\" y=\"0\">\n",
       "    Depository Institution A\n",
       "   </text>\n",
       "   <rect height=\"40\" style=\"fill:rgb(153, 204, 255);\" width=\"375\" x=\"5\" y=\"25\"/>\n",
       "   <text dominant-baseline=\" middle \" font-size=\"16\" text-anchor=\" middle \" x=\"192\" y=\"45\">\n",
       "    Securities Holdings 50\n",
       "   </text>\n",
       "   <rect height=\"80\" style=\"fill:rgb(153, 204, 255);\" width=\"375\" x=\"5\" y=\"65\"/>\n",
       "   <text dominant-baseline=\" middle \" font-size=\"16\" text-anchor=\" middle \" x=\"192\" y=\"105\">\n",
       "    Reserves 100\n",
       "   </text>\n",
       "   <rect height=\"40\" style=\"fill:rgb(255, 204, 204);\" width=\"375\" x=\"380\" y=\"25\"/>\n",
       "   <text dominant-baseline=\" middle \" font-size=\"16\" text-anchor=\" middle \" x=\"567\" y=\"45\">\n",
       "    Securities belonging to Broker M 50\n",
       "   </text>\n",
       "   <rect height=\"80\" style=\"fill:rgb(255, 204, 204);\" width=\"375\" x=\"380\" y=\"65\"/>\n",
       "   <text dominant-baseline=\" middle \" font-size=\"16\" text-anchor=\" middle \" x=\"567\" y=\"105\">\n",
       "    Deposits by Broker M 100\n",
       "   </text>\n",
       "  </g>\n",
       "</svg>"
      ]
     },
     "metadata": {},
     "output_type": "display_data"
    },
    {
     "data": {
      "image/svg+xml": [
       "<svg height=\"230\" width=\"760\">\n",
       "  <g style=\"fill-opacity:1.0; stroke:black;    stroke-width:1;\">\n",
       "   <text dominant-baseline=\" hanging \" font-size=\"19\" text-anchor=\" middle \" x=\"375\" y=\"0\">\n",
       "    Depository Institution B\n",
       "   </text>\n",
       "   <rect height=\"120\" style=\"fill:rgb(153, 204, 255);\" width=\"375\" x=\"5\" y=\"25\"/>\n",
       "   <text dominant-baseline=\" middle \" font-size=\"16\" text-anchor=\" middle \" x=\"192\" y=\"85\">\n",
       "    Securities Holdings 150\n",
       "   </text>\n",
       "   <rect height=\"80\" style=\"fill:rgb(153, 204, 255);\" width=\"375\" x=\"5\" y=\"145\"/>\n",
       "   <text dominant-baseline=\" middle \" font-size=\"16\" text-anchor=\" middle \" x=\"192\" y=\"185\">\n",
       "    Reserves 100\n",
       "   </text>\n",
       "   <rect height=\"120\" style=\"fill:rgb(255, 204, 204);\" width=\"375\" x=\"380\" y=\"25\"/>\n",
       "   <text dominant-baseline=\" middle \" font-size=\"16\" text-anchor=\" middle \" x=\"567\" y=\"85\">\n",
       "    Securities belonging to Financial Institution J 150\n",
       "   </text>\n",
       "   <rect height=\"80\" style=\"fill:rgb(255, 204, 204);\" width=\"375\" x=\"380\" y=\"145\"/>\n",
       "   <text dominant-baseline=\" middle \" font-size=\"16\" text-anchor=\" middle \" x=\"567\" y=\"185\">\n",
       "    Deposits by Financial Institution J 100\n",
       "   </text>\n",
       "  </g>\n",
       "</svg>"
      ]
     },
     "metadata": {},
     "output_type": "display_data"
    },
    {
     "data": {
      "image/svg+xml": [
       "<svg height=\"150\" width=\"760\">\n",
       "  <g style=\"fill-opacity:1.0; stroke:black;    stroke-width:1;\">\n",
       "   <text dominant-baseline=\" hanging \" font-size=\"19\" text-anchor=\" middle \" x=\"375\" y=\"0\">\n",
       "    Broker\n",
       "   </text>\n",
       "   <rect height=\"40\" style=\"fill:rgb(153, 204, 255);\" width=\"375\" x=\"5\" y=\"25\"/>\n",
       "   <text dominant-baseline=\" middle \" font-size=\"16\" text-anchor=\" middle \" x=\"192\" y=\"45\">\n",
       "    Securities Holdings 50\n",
       "   </text>\n",
       "   <rect height=\"80\" style=\"fill:rgb(153, 204, 255);\" width=\"375\" x=\"5\" y=\"65\"/>\n",
       "   <text dominant-baseline=\" middle \" font-size=\"16\" text-anchor=\" middle \" x=\"192\" y=\"105\">\n",
       "    Reserves with Depository A 100\n",
       "   </text>\n",
       "   <rect height=\"40\" style=\"fill:rgb(255, 204, 204);\" width=\"375\" x=\"380\" y=\"25\"/>\n",
       "   <text dominant-baseline=\" middle \" font-size=\"16\" text-anchor=\" middle \" x=\"567\" y=\"45\">\n",
       "    Securities belonging to Customers 50\n",
       "   </text>\n",
       "   <rect height=\"80\" style=\"fill:rgb(255, 204, 204);\" width=\"375\" x=\"380\" y=\"65\"/>\n",
       "   <text dominant-baseline=\" middle \" font-size=\"16\" text-anchor=\" middle \" x=\"567\" y=\"105\">\n",
       "    Customer Deposits 100\n",
       "   </text>\n",
       "  </g>\n",
       "</svg>"
      ]
     },
     "metadata": {},
     "output_type": "display_data"
    },
    {
     "data": {
      "image/svg+xml": [
       "<svg height=\"230\" width=\"760\">\n",
       "  <g style=\"fill-opacity:1.0; stroke:black;    stroke-width:1;\">\n",
       "   <text dominant-baseline=\" hanging \" font-size=\"19\" text-anchor=\" middle \" x=\"375\" y=\"0\">\n",
       "    Financial Institution J\n",
       "   </text>\n",
       "   <rect height=\"120\" style=\"fill:rgb(153, 204, 255);\" width=\"375\" x=\"5\" y=\"25\"/>\n",
       "   <text dominant-baseline=\" middle \" font-size=\"16\" text-anchor=\" middle \" x=\"192\" y=\"85\">\n",
       "    Securities Holdings 150\n",
       "   </text>\n",
       "   <rect height=\"80\" style=\"fill:rgb(153, 204, 255);\" width=\"375\" x=\"5\" y=\"145\"/>\n",
       "   <text dominant-baseline=\" middle \" font-size=\"16\" text-anchor=\" middle \" x=\"192\" y=\"185\">\n",
       "    Reserves with Depository B 100\n",
       "   </text>\n",
       "   <rect height=\"120\" style=\"fill:rgb(255, 204, 204);\" width=\"375\" x=\"380\" y=\"25\"/>\n",
       "   <text dominant-baseline=\" middle \" font-size=\"16\" text-anchor=\" middle \" x=\"567\" y=\"85\">\n",
       "    Securities belonging to Customers 150\n",
       "   </text>\n",
       "   <rect height=\"80\" style=\"fill:rgb(255, 204, 204);\" width=\"375\" x=\"380\" y=\"145\"/>\n",
       "   <text dominant-baseline=\" middle \" font-size=\"16\" text-anchor=\" middle \" x=\"567\" y=\"185\">\n",
       "    Customer Deposits 100\n",
       "   </text>\n",
       "  </g>\n",
       "</svg>"
      ]
     },
     "metadata": {},
     "output_type": "display_data"
    },
    {
     "name": "stdout",
     "output_type": "stream",
     "text": [
      "Total (Bank) Money: 200\n"
     ]
    }
   ],
   "source": [
    "broker_M.book(debit=[('Securities belonging to Customers',50)],credit=[('Securities Holdings',50)])\n",
    "depository_A.book(debit=[('Securities belonging to Broker M',50)],credit=[('Securities Holdings',50)])\n",
    "fed.book(debit=[('Securities belonging to Depository A',50)],credit=[('Securities belonging to Depository B',50)])\n",
    "depository_B.book(debit=[('Securities Holdings',50)],credit=[('Securities belonging to Financial Institution J',50)])\n",
    "fi_J.book(debit=[('Securities Holdings',50)],credit=[('Securities belonging to Customers',50)])\n",
    "print_balance_sheets_and_money_stocks()"
   ]
  },
  {
   "cell_type": "markdown",
   "metadata": {},
   "source": [
    "## Transfer of the payment in the opposite direction"
   ]
  },
  {
   "cell_type": "code",
   "execution_count": 6,
   "metadata": {},
   "outputs": [
    {
     "data": {
      "image/svg+xml": [
       "<svg height=\"270\" width=\"760\">\n",
       "  <g style=\"fill-opacity:1.0; stroke:black;    stroke-width:1;\">\n",
       "   <text dominant-baseline=\" hanging \" font-size=\"19\" text-anchor=\" middle \" x=\"375\" y=\"0\">\n",
       "    Federal Reserve\n",
       "   </text>\n",
       "   <rect height=\"80\" style=\"fill:rgb(153, 204, 255);\" width=\"375\" x=\"5\" y=\"25\"/>\n",
       "   <text dominant-baseline=\" middle \" font-size=\"16\" text-anchor=\" middle \" x=\"192\" y=\"65\">\n",
       "    Securities Holdings 100\n",
       "   </text>\n",
       "   <rect height=\"160\" style=\"fill:rgb(153, 204, 255);\" width=\"375\" x=\"5\" y=\"105\"/>\n",
       "   <text dominant-baseline=\" middle \" font-size=\"16\" text-anchor=\" middle \" x=\"192\" y=\"185\">\n",
       "    Assets 200\n",
       "   </text>\n",
       "   <rect height=\"80\" style=\"fill:rgb(255, 204, 204);\" width=\"375\" x=\"380\" y=\"25\"/>\n",
       "   <text dominant-baseline=\" middle \" font-size=\"16\" text-anchor=\" middle \" x=\"567\" y=\"65\">\n",
       "    Securities belonging to Depository B 100\n",
       "   </text>\n",
       "   <rect height=\"120\" style=\"fill:rgb(255, 204, 204);\" width=\"375\" x=\"380\" y=\"105\"/>\n",
       "   <text dominant-baseline=\" middle \" font-size=\"16\" text-anchor=\" middle \" x=\"567\" y=\"165\">\n",
       "    Reserves Depository A 150\n",
       "   </text>\n",
       "   <rect height=\"40\" style=\"fill:rgb(255, 204, 204);\" width=\"375\" x=\"380\" y=\"225\"/>\n",
       "   <text dominant-baseline=\" middle \" font-size=\"16\" text-anchor=\" middle \" x=\"567\" y=\"245\">\n",
       "    Reserves Depository B 50\n",
       "   </text>\n",
       "  </g>\n",
       "</svg>"
      ]
     },
     "metadata": {},
     "output_type": "display_data"
    },
    {
     "data": {
      "image/svg+xml": [
       "<svg height=\"190\" width=\"760\">\n",
       "  <g style=\"fill-opacity:1.0; stroke:black;    stroke-width:1;\">\n",
       "   <text dominant-baseline=\" hanging \" font-size=\"19\" text-anchor=\" middle \" x=\"375\" y=\"0\">\n",
       "    Depository Institution A\n",
       "   </text>\n",
       "   <rect height=\"40\" style=\"fill:rgb(153, 204, 255);\" width=\"375\" x=\"5\" y=\"25\"/>\n",
       "   <text dominant-baseline=\" middle \" font-size=\"16\" text-anchor=\" middle \" x=\"192\" y=\"45\">\n",
       "    Securities Holdings 50\n",
       "   </text>\n",
       "   <rect height=\"120\" style=\"fill:rgb(153, 204, 255);\" width=\"375\" x=\"5\" y=\"65\"/>\n",
       "   <text dominant-baseline=\" middle \" font-size=\"16\" text-anchor=\" middle \" x=\"192\" y=\"125\">\n",
       "    Reserves 150\n",
       "   </text>\n",
       "   <rect height=\"40\" style=\"fill:rgb(255, 204, 204);\" width=\"375\" x=\"380\" y=\"25\"/>\n",
       "   <text dominant-baseline=\" middle \" font-size=\"16\" text-anchor=\" middle \" x=\"567\" y=\"45\">\n",
       "    Securities belonging to Broker M 50\n",
       "   </text>\n",
       "   <rect height=\"120\" style=\"fill:rgb(255, 204, 204);\" width=\"375\" x=\"380\" y=\"65\"/>\n",
       "   <text dominant-baseline=\" middle \" font-size=\"16\" text-anchor=\" middle \" x=\"567\" y=\"125\">\n",
       "    Deposits by Broker M 150\n",
       "   </text>\n",
       "  </g>\n",
       "</svg>"
      ]
     },
     "metadata": {},
     "output_type": "display_data"
    },
    {
     "data": {
      "image/svg+xml": [
       "<svg height=\"190\" width=\"760\">\n",
       "  <g style=\"fill-opacity:1.0; stroke:black;    stroke-width:1;\">\n",
       "   <text dominant-baseline=\" hanging \" font-size=\"19\" text-anchor=\" middle \" x=\"375\" y=\"0\">\n",
       "    Depository Institution B\n",
       "   </text>\n",
       "   <rect height=\"120\" style=\"fill:rgb(153, 204, 255);\" width=\"375\" x=\"5\" y=\"25\"/>\n",
       "   <text dominant-baseline=\" middle \" font-size=\"16\" text-anchor=\" middle \" x=\"192\" y=\"85\">\n",
       "    Securities Holdings 150\n",
       "   </text>\n",
       "   <rect height=\"40\" style=\"fill:rgb(153, 204, 255);\" width=\"375\" x=\"5\" y=\"145\"/>\n",
       "   <text dominant-baseline=\" middle \" font-size=\"16\" text-anchor=\" middle \" x=\"192\" y=\"165\">\n",
       "    Reserves 50\n",
       "   </text>\n",
       "   <rect height=\"120\" style=\"fill:rgb(255, 204, 204);\" width=\"375\" x=\"380\" y=\"25\"/>\n",
       "   <text dominant-baseline=\" middle \" font-size=\"16\" text-anchor=\" middle \" x=\"567\" y=\"85\">\n",
       "    Securities belonging to Financial Institution J 150\n",
       "   </text>\n",
       "   <rect height=\"40\" style=\"fill:rgb(255, 204, 204);\" width=\"375\" x=\"380\" y=\"145\"/>\n",
       "   <text dominant-baseline=\" middle \" font-size=\"16\" text-anchor=\" middle \" x=\"567\" y=\"165\">\n",
       "    Deposits by Financial Institution J 50\n",
       "   </text>\n",
       "  </g>\n",
       "</svg>"
      ]
     },
     "metadata": {},
     "output_type": "display_data"
    },
    {
     "data": {
      "image/svg+xml": [
       "<svg height=\"190\" width=\"760\">\n",
       "  <g style=\"fill-opacity:1.0; stroke:black;    stroke-width:1;\">\n",
       "   <text dominant-baseline=\" hanging \" font-size=\"19\" text-anchor=\" middle \" x=\"375\" y=\"0\">\n",
       "    Broker\n",
       "   </text>\n",
       "   <rect height=\"40\" style=\"fill:rgb(153, 204, 255);\" width=\"375\" x=\"5\" y=\"25\"/>\n",
       "   <text dominant-baseline=\" middle \" font-size=\"16\" text-anchor=\" middle \" x=\"192\" y=\"45\">\n",
       "    Securities Holdings 50\n",
       "   </text>\n",
       "   <rect height=\"120\" style=\"fill:rgb(153, 204, 255);\" width=\"375\" x=\"5\" y=\"65\"/>\n",
       "   <text dominant-baseline=\" middle \" font-size=\"16\" text-anchor=\" middle \" x=\"192\" y=\"125\">\n",
       "    Reserves with Depository A 150\n",
       "   </text>\n",
       "   <rect height=\"40\" style=\"fill:rgb(255, 204, 204);\" width=\"375\" x=\"380\" y=\"25\"/>\n",
       "   <text dominant-baseline=\" middle \" font-size=\"16\" text-anchor=\" middle \" x=\"567\" y=\"45\">\n",
       "    Securities belonging to Customers 50\n",
       "   </text>\n",
       "   <rect height=\"120\" style=\"fill:rgb(255, 204, 204);\" width=\"375\" x=\"380\" y=\"65\"/>\n",
       "   <text dominant-baseline=\" middle \" font-size=\"16\" text-anchor=\" middle \" x=\"567\" y=\"125\">\n",
       "    Customer Deposits 150\n",
       "   </text>\n",
       "  </g>\n",
       "</svg>"
      ]
     },
     "metadata": {},
     "output_type": "display_data"
    },
    {
     "data": {
      "image/svg+xml": [
       "<svg height=\"190\" width=\"760\">\n",
       "  <g style=\"fill-opacity:1.0; stroke:black;    stroke-width:1;\">\n",
       "   <text dominant-baseline=\" hanging \" font-size=\"19\" text-anchor=\" middle \" x=\"375\" y=\"0\">\n",
       "    Financial Institution J\n",
       "   </text>\n",
       "   <rect height=\"120\" style=\"fill:rgb(153, 204, 255);\" width=\"375\" x=\"5\" y=\"25\"/>\n",
       "   <text dominant-baseline=\" middle \" font-size=\"16\" text-anchor=\" middle \" x=\"192\" y=\"85\">\n",
       "    Securities Holdings 150\n",
       "   </text>\n",
       "   <rect height=\"40\" style=\"fill:rgb(153, 204, 255);\" width=\"375\" x=\"5\" y=\"145\"/>\n",
       "   <text dominant-baseline=\" middle \" font-size=\"16\" text-anchor=\" middle \" x=\"192\" y=\"165\">\n",
       "    Reserves with Depository B 50\n",
       "   </text>\n",
       "   <rect height=\"120\" style=\"fill:rgb(255, 204, 204);\" width=\"375\" x=\"380\" y=\"25\"/>\n",
       "   <text dominant-baseline=\" middle \" font-size=\"16\" text-anchor=\" middle \" x=\"567\" y=\"85\">\n",
       "    Securities belonging to Customers 150\n",
       "   </text>\n",
       "   <rect height=\"40\" style=\"fill:rgb(255, 204, 204);\" width=\"375\" x=\"380\" y=\"145\"/>\n",
       "   <text dominant-baseline=\" middle \" font-size=\"16\" text-anchor=\" middle \" x=\"567\" y=\"165\">\n",
       "    Customer Deposits 50\n",
       "   </text>\n",
       "  </g>\n",
       "</svg>"
      ]
     },
     "metadata": {},
     "output_type": "display_data"
    },
    {
     "name": "stdout",
     "output_type": "stream",
     "text": [
      "Total (Bank) Money: 200\n"
     ]
    }
   ],
   "source": [
    "fi_J.book(debit=[('Customer Deposits',50)],credit=[('Reserves with Depository B',50)])\n",
    "depository_B.book(debit=[('Deposits by Financial Institution J',50)],credit=[('Reserves',50)])\n",
    "fed.book(debit=[('Reserves Depository B',50)],credit=[('Reserves Depository A',50)])\n",
    "depository_A.book(debit=[('Reserves',50)],credit=[('Deposits by Broker M',50)])\n",
    "broker_M.book(debit=[('Reserves with Depository A',50)],credit=[('Customer Deposits',50)])\n",
    "print_balance_sheets_and_money_stocks()"
   ]
  }
 ],
 "metadata": {
  "kernelspec": {
   "display_name": "Python 3",
   "language": "python",
   "name": "python3"
  },
  "language_info": {
   "codemirror_mode": {
    "name": "ipython",
    "version": 3
   },
   "file_extension": ".py",
   "mimetype": "text/x-python",
   "name": "python",
   "nbconvert_exporter": "python",
   "pygments_lexer": "ipython3",
   "version": "3.7.4"
  }
 },
 "nbformat": 4,
 "nbformat_minor": 2
}
