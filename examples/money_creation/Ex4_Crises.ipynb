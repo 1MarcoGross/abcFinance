{
 "cells": [
  {
   "cell_type": "markdown",
   "metadata": {},
   "source": [
    "[Money Creation Examples](http://www.siebenbrunner.com/moneycreation/) > **Example 4**:\n",
    "# Banking crises\n",
    "In this example we revisit a situation from [Example 3](http://www.siebenbrunner.com/moneycreation/Ex3_Refinancing.html) where a a bank was holding a loan to an insolvent borrower. We now investigate what happens when the bank recognizes this loss.\n",
    "\n",
    "We start by importing required utilities:"
   ]
  },
  {
   "cell_type": "code",
   "execution_count": 1,
   "metadata": {},
   "outputs": [],
   "source": [
    "import os\n",
    "import sys\n",
    "\n",
    "base_path = os.path.realpath(os.getcwd()+\"/../..\")\n",
    "sys.path.append(base_path)\n",
    "\n",
    "from abcFinance import Ledger, Account, AccountSide"
   ]
  },
  {
   "cell_type": "markdown",
   "metadata": {},
   "source": [
    "## Declaration of agents\n",
    "The set of agents is similar to the set in [Example 3](http://www.siebenbrunner.com/moneycreation/Ex3_Refinancing.html). We omit the central bank because it will not make any booking statements in this example."
   ]
  },
  {
   "cell_type": "code",
   "execution_count": 2,
   "metadata": {},
   "outputs": [],
   "source": [
    "bank1 = Ledger(residual_account_name=\"Equity\")\n",
    "bank2 = Ledger(residual_account_name=\"Equity\")\n",
    "bank3 = Ledger(residual_account_name=\"Equity\")\n",
    "private_agentA = Ledger(residual_account_name=\"Equity\")\n",
    "private_agentB = Ledger(residual_account_name=\"Equity\")\n",
    "\n",
    "bank1.make_asset_accounts(['Loans'])\n",
    "bank1.make_liability_accounts(['Interbank Deposits'])\n",
    "bank1.make_flow_accounts(['Impairments'])\n",
    "bank2.make_asset_accounts(['Reserves','Interbank Loans'])\n",
    "bank2.make_liability_accounts(['Deposits'])\n",
    "bank2.make_flow_accounts(['Impairments','Expenses'])\n",
    "bank3.make_asset_accounts(['Reserves'])\n",
    "bank3.make_flow_accounts(['Income'])\n",
    "\n",
    "private_agentA.make_asset_accounts(['Deposits'])\n",
    "private_agentA.make_liability_accounts(['Loans'])\n",
    "private_agentB.make_asset_accounts(['Deposits'])\n",
    "private_agentB.make_liability_accounts(['Loans'])\n",
    "private_agentB.make_flow_accounts(['Impairments'])"
   ]
  },
  {
   "cell_type": "markdown",
   "metadata": {},
   "source": [
    "We further define a function that computes the money stocks according to our defined taxonomy:"
   ]
  },
  {
   "cell_type": "code",
   "execution_count": 3,
   "metadata": {},
   "outputs": [],
   "source": [
    "from IPython.core.display import SVG\n",
    "from IPython.display import display_svg\n",
    "\n",
    "def print_money_stocks():\n",
    "    # Bank money: bank liabilities that are money\n",
    "    bank_money = private_agentB.get_balance('Deposits')[1]\n",
    "        \n",
    "    print(\"Total (Bank) Money:\",bank_money)\n",
    "\n",
    "def print_balance_sheets_and_money_stocks(*args):\n",
    "    bank1.book_end_of_period()\n",
    "    bank2.book_end_of_period()\n",
    "    bank3.book_end_of_period()\n",
    "    \n",
    "    if len(args)==0:\n",
    "        args = (\"b1\",\"b2\",\"b3\",\"pA\",\"pB\")\n",
    "    if \"b1\" in args and bank1.get_total_assets() > 0: display_svg(SVG(bank1.draw_balance_sheet(\"Bank 1 Balance Sheet\", width=400)))\n",
    "    if \"b2\" in args and bank2.get_total_assets() > 0: display_svg(SVG(bank2.draw_balance_sheet(\"Bank 2 Balance Sheet\", width=400)))\n",
    "    if \"b3\" in args and bank3.get_total_assets() > 0: display_svg(SVG(bank3.draw_balance_sheet(\"Bank 3 Balance Sheet\", width=400)))\n",
    "    if \"pA\" in args and private_agentA.get_total_assets() > 0: display_svg(SVG(private_agentA.draw_balance_sheet(\"Private Agent A Balance Sheet\", width=400)))\n",
    "    if \"pB\" in args and private_agentB.get_total_assets() > 0: display_svg(SVG(private_agentB.draw_balance_sheet(\"Private Agent B Balance Sheet\", width=400)))\n",
    "        \n",
    "    print_money_stocks()"
   ]
  },
  {
   "cell_type": "markdown",
   "metadata": {},
   "source": [
    "## Initialization\n",
    "We start by recreating exactly the situation that occured at the end of the \"Refinancing deposit outflows on the interbank market\" section of [Example 3](http://www.siebenbrunner.com/moneycreation/Ex3_Refinancing.html):"
   ]
  },
  {
   "cell_type": "code",
   "execution_count": 4,
   "metadata": {},
   "outputs": [
    {
     "data": {
      "image/svg+xml": [
       "<svg height=\"110\" width=\"410\">\n",
       "  <g style=\"fill-opacity:1.0; stroke:black;    stroke-width:1;\">\n",
       "   <text dominant-baseline=\" hanging \" font-size=\"19\" text-anchor=\" middle \" x=\"200\" y=\"0\">\n",
       "    Bank 1 Balance Sheet\n",
       "   </text>\n",
       "   <rect height=\"80\" style=\"fill:rgb(153, 204, 255);\" width=\"200\" x=\"5\" y=\"25\"/>\n",
       "   <text dominant-baseline=\" middle \" font-size=\"16\" text-anchor=\" middle \" x=\"105\" y=\"65\">\n",
       "    Loans 100\n",
       "   </text>\n",
       "   <rect height=\"40\" style=\"fill:rgb(204, 255, 204);\" width=\"200\" x=\"205\" y=\"25\"/>\n",
       "   <text dominant-baseline=\" middle \" font-size=\"16\" text-anchor=\" middle \" x=\"305\" y=\"45\">\n",
       "    Equity 50\n",
       "   </text>\n",
       "   <rect height=\"40\" style=\"fill:rgb(255, 204, 204);\" width=\"200\" x=\"205\" y=\"65\"/>\n",
       "   <text dominant-baseline=\" middle \" font-size=\"16\" text-anchor=\" middle \" x=\"305\" y=\"85\">\n",
       "    Interbank Deposits 50\n",
       "   </text>\n",
       "  </g>\n",
       "</svg>"
      ]
     },
     "metadata": {},
     "output_type": "display_data"
    },
    {
     "data": {
      "image/svg+xml": [
       "<svg height=\"230\" width=\"410\">\n",
       "  <g style=\"fill-opacity:1.0; stroke:black;    stroke-width:1;\">\n",
       "   <text dominant-baseline=\" hanging \" font-size=\"19\" text-anchor=\" middle \" x=\"200\" y=\"0\">\n",
       "    Bank 2 Balance Sheet\n",
       "   </text>\n",
       "   <rect height=\"160\" style=\"fill:rgb(153, 204, 255);\" width=\"200\" x=\"5\" y=\"25\"/>\n",
       "   <text dominant-baseline=\" middle \" font-size=\"16\" text-anchor=\" middle \" x=\"105\" y=\"105\">\n",
       "    Reserves 200\n",
       "   </text>\n",
       "   <rect height=\"40\" style=\"fill:rgb(153, 204, 255);\" width=\"200\" x=\"5\" y=\"185\"/>\n",
       "   <text dominant-baseline=\" middle \" font-size=\"16\" text-anchor=\" middle \" x=\"105\" y=\"205\">\n",
       "    Interbank Loans 50\n",
       "   </text>\n",
       "   <rect height=\"40\" style=\"fill:rgb(204, 255, 204);\" width=\"200\" x=\"205\" y=\"25\"/>\n",
       "   <text dominant-baseline=\" middle \" font-size=\"16\" text-anchor=\" middle \" x=\"305\" y=\"45\">\n",
       "    Equity 50\n",
       "   </text>\n",
       "   <rect height=\"160\" style=\"fill:rgb(255, 204, 204);\" width=\"200\" x=\"205\" y=\"65\"/>\n",
       "   <text dominant-baseline=\" middle \" font-size=\"16\" text-anchor=\" middle \" x=\"305\" y=\"145\">\n",
       "    Deposits 200\n",
       "   </text>\n",
       "  </g>\n",
       "</svg>"
      ]
     },
     "metadata": {},
     "output_type": "display_data"
    },
    {
     "data": {
      "image/svg+xml": [
       "<svg height=\"110\" width=\"410\">\n",
       "  <g style=\"fill-opacity:1.0; stroke:black;    stroke-width:1;\">\n",
       "   <text dominant-baseline=\" hanging \" font-size=\"19\" text-anchor=\" middle \" x=\"200\" y=\"0\">\n",
       "    Private Agent A Balance Sheet\n",
       "   </text>\n",
       "   <rect height=\"80\" style=\"fill:rgb(255, 102, 102);\" width=\"200\" x=\"5\" y=\"25\"/>\n",
       "   <text dominant-baseline=\" middle \" font-size=\"16\" text-anchor=\" middle \" x=\"105\" y=\"65\">\n",
       "    Neg. Equity 100\n",
       "   </text>\n",
       "   <rect height=\"80\" style=\"fill:rgb(255, 204, 204);\" width=\"200\" x=\"205\" y=\"25\"/>\n",
       "   <text dominant-baseline=\" middle \" font-size=\"16\" text-anchor=\" middle \" x=\"305\" y=\"65\">\n",
       "    Loans 100\n",
       "   </text>\n",
       "  </g>\n",
       "</svg>"
      ]
     },
     "metadata": {},
     "output_type": "display_data"
    },
    {
     "data": {
      "image/svg+xml": [
       "<svg height=\"190\" width=\"410\">\n",
       "  <g style=\"fill-opacity:1.0; stroke:black;    stroke-width:1;\">\n",
       "   <text dominant-baseline=\" hanging \" font-size=\"19\" text-anchor=\" middle \" x=\"200\" y=\"0\">\n",
       "    Private Agent B Balance Sheet\n",
       "   </text>\n",
       "   <rect height=\"160\" style=\"fill:rgb(153, 204, 255);\" width=\"200\" x=\"5\" y=\"25\"/>\n",
       "   <text dominant-baseline=\" middle \" font-size=\"16\" text-anchor=\" middle \" x=\"105\" y=\"105\">\n",
       "    Deposits 200\n",
       "   </text>\n",
       "   <rect height=\"160\" style=\"fill:rgb(204, 255, 204);\" width=\"200\" x=\"205\" y=\"25\"/>\n",
       "   <text dominant-baseline=\" middle \" font-size=\"16\" text-anchor=\" middle \" x=\"305\" y=\"105\">\n",
       "    Equity 200\n",
       "   </text>\n",
       "  </g>\n",
       "</svg>"
      ]
     },
     "metadata": {},
     "output_type": "display_data"
    },
    {
     "name": "stdout",
     "output_type": "stream",
     "text": [
      "Total (Bank) Money: 200\n"
     ]
    }
   ],
   "source": [
    "bank1.book(debit=[('Loans',100)],credit=[('Equity',50),('Interbank Deposits',50)])\n",
    "private_agentA.book(debit=[('Equity',100)],credit=[('Loans',100)])\n",
    "bank2.book(debit=[('Reserves',200),('Interbank Loans',50)],credit=[('Equity',50),('Deposits',200)])\n",
    "private_agentB.book(debit=[('Deposits',200)],credit=[('Equity',200)])\n",
    "print_balance_sheets_and_money_stocks()"
   ]
  },
  {
   "cell_type": "markdown",
   "metadata": {},
   "source": [
    "## Bank defaults\n",
    "As already noted in [Example 3](http://www.siebenbrunner.com/moneycreation/Ex3_Refinancing.html), Bank 1 has a problem in this situation: it has a loan to a borrower who is completely insolvent. While we noted there that it usually takes some time before such losses are recognized and proceeded with the example, in this example we will consider the situation that arises when Bank 1 does indeed recognize this loss before the next transaction occurs. Note that for simplicity in this step we skip the step of creating a provision on the balance sheet and directly write off the loan on the balance sheet. This simplifies the presentation and has no impact on the results."
   ]
  },
  {
   "cell_type": "code",
   "execution_count": 5,
   "metadata": {},
   "outputs": [
    {
     "data": {
      "image/svg+xml": [
       "<svg height=\"70\" width=\"410\">\n",
       "  <g style=\"fill-opacity:1.0; stroke:black;    stroke-width:1;\">\n",
       "   <text dominant-baseline=\" hanging \" font-size=\"19\" text-anchor=\" middle \" x=\"200\" y=\"0\">\n",
       "    Bank 1 Balance Sheet\n",
       "   </text>\n",
       "   <rect height=\"40\" style=\"fill:rgb(255, 102, 102);\" width=\"200\" x=\"5\" y=\"25\"/>\n",
       "   <text dominant-baseline=\" middle \" font-size=\"16\" text-anchor=\" middle \" x=\"105\" y=\"45\">\n",
       "    Neg. Equity 50\n",
       "   </text>\n",
       "   <rect height=\"40\" style=\"fill:rgb(255, 204, 204);\" width=\"200\" x=\"205\" y=\"25\"/>\n",
       "   <text dominant-baseline=\" middle \" font-size=\"16\" text-anchor=\" middle \" x=\"305\" y=\"45\">\n",
       "    Interbank Deposits 50\n",
       "   </text>\n",
       "  </g>\n",
       "</svg>"
      ]
     },
     "metadata": {},
     "output_type": "display_data"
    },
    {
     "name": "stdout",
     "output_type": "stream",
     "text": [
      "Total (Bank) Money: 200\n"
     ]
    }
   ],
   "source": [
    "bank1.book(debit=[('Impairments',100)],credit=[('Loans',100)])\n",
    "print_balance_sheets_and_money_stocks(\"b1\")"
   ]
  },
  {
   "cell_type": "markdown",
   "metadata": {},
   "source": [
    "Bank 1 is now insolvent and unable to repay its loan to Bank 2. Bank 2 makes an impairment in the same fashion:"
   ]
  },
  {
   "cell_type": "code",
   "execution_count": 6,
   "metadata": {},
   "outputs": [
    {
     "data": {
      "image/svg+xml": [
       "<svg height=\"190\" width=\"410\">\n",
       "  <g style=\"fill-opacity:1.0; stroke:black;    stroke-width:1;\">\n",
       "   <text dominant-baseline=\" hanging \" font-size=\"19\" text-anchor=\" middle \" x=\"200\" y=\"0\">\n",
       "    Bank 2 Balance Sheet\n",
       "   </text>\n",
       "   <rect height=\"160\" style=\"fill:rgb(153, 204, 255);\" width=\"200\" x=\"5\" y=\"25\"/>\n",
       "   <text dominant-baseline=\" middle \" font-size=\"16\" text-anchor=\" middle \" x=\"105\" y=\"105\">\n",
       "    Reserves 200\n",
       "   </text>\n",
       "   <rect height=\"160\" style=\"fill:rgb(255, 204, 204);\" width=\"200\" x=\"205\" y=\"25\"/>\n",
       "   <text dominant-baseline=\" middle \" font-size=\"16\" text-anchor=\" middle \" x=\"305\" y=\"105\">\n",
       "    Deposits 200\n",
       "   </text>\n",
       "  </g>\n",
       "</svg>"
      ]
     },
     "metadata": {},
     "output_type": "display_data"
    },
    {
     "name": "stdout",
     "output_type": "stream",
     "text": [
      "Total (Bank) Money: 200\n"
     ]
    }
   ],
   "source": [
    "bank2.book(debit=[('Impairments',50)],credit=[('Interbank Loans',50)])\n",
    "print_balance_sheets_and_money_stocks(\"b2\")"
   ]
  },
  {
   "cell_type": "markdown",
   "metadata": {},
   "source": [
    "Bank 2 is now at the brink of insolvency. For the sake of the example we assume that it now faces a further loss, in the form of a payment that it has to make to Bank 3:"
   ]
  },
  {
   "cell_type": "code",
   "execution_count": 7,
   "metadata": {},
   "outputs": [
    {
     "data": {
      "image/svg+xml": [
       "<svg height=\"190\" width=\"410\">\n",
       "  <g style=\"fill-opacity:1.0; stroke:black;    stroke-width:1;\">\n",
       "   <text dominant-baseline=\" hanging \" font-size=\"19\" text-anchor=\" middle \" x=\"200\" y=\"0\">\n",
       "    Bank 2 Balance Sheet\n",
       "   </text>\n",
       "   <rect height=\"160\" style=\"fill:rgb(255, 102, 102);\" width=\"200\" x=\"5\" y=\"25\"/>\n",
       "   <text dominant-baseline=\" middle \" font-size=\"16\" text-anchor=\" middle \" x=\"105\" y=\"105\">\n",
       "    Neg. Equity 200\n",
       "   </text>\n",
       "   <rect height=\"160\" style=\"fill:rgb(255, 204, 204);\" width=\"200\" x=\"205\" y=\"25\"/>\n",
       "   <text dominant-baseline=\" middle \" font-size=\"16\" text-anchor=\" middle \" x=\"305\" y=\"105\">\n",
       "    Deposits 200\n",
       "   </text>\n",
       "  </g>\n",
       "</svg>"
      ]
     },
     "metadata": {},
     "output_type": "display_data"
    },
    {
     "data": {
      "image/svg+xml": [
       "<svg height=\"190\" width=\"410\">\n",
       "  <g style=\"fill-opacity:1.0; stroke:black;    stroke-width:1;\">\n",
       "   <text dominant-baseline=\" hanging \" font-size=\"19\" text-anchor=\" middle \" x=\"200\" y=\"0\">\n",
       "    Bank 3 Balance Sheet\n",
       "   </text>\n",
       "   <rect height=\"160\" style=\"fill:rgb(153, 204, 255);\" width=\"200\" x=\"5\" y=\"25\"/>\n",
       "   <text dominant-baseline=\" middle \" font-size=\"16\" text-anchor=\" middle \" x=\"105\" y=\"105\">\n",
       "    Reserves 200\n",
       "   </text>\n",
       "   <rect height=\"160\" style=\"fill:rgb(204, 255, 204);\" width=\"200\" x=\"205\" y=\"25\"/>\n",
       "   <text dominant-baseline=\" middle \" font-size=\"16\" text-anchor=\" middle \" x=\"305\" y=\"105\">\n",
       "    Equity 200\n",
       "   </text>\n",
       "  </g>\n",
       "</svg>"
      ]
     },
     "metadata": {},
     "output_type": "display_data"
    },
    {
     "name": "stdout",
     "output_type": "stream",
     "text": [
      "Total (Bank) Money: 200\n"
     ]
    }
   ],
   "source": [
    "bank2.book(debit=[('Expenses',200)],credit=[('Reserves',200)])\n",
    "bank3.book(debit=[('Reserves',200)],credit=[('Income',200)])\n",
    "print_balance_sheets_and_money_stocks(\"b2\",\"b3\")"
   ]
  },
  {
   "cell_type": "markdown",
   "metadata": {},
   "source": [
    "Now private agent B is faced with the situation of holding a deposit at a bank that has no more assets. In reality, other mechanisms like a deposit insurance, a government bail-out or bank resolution tools would step in at this point. We only note that in the absence of such mechanisms, the depositor would have to write down its savings, wiping out its entire balance sheet in this case, and destroying the money stock."
   ]
  },
  {
   "cell_type": "code",
   "execution_count": 8,
   "metadata": {},
   "outputs": [
    {
     "name": "stdout",
     "output_type": "stream",
     "text": [
      "Total (Bank) Money: 0\n"
     ]
    }
   ],
   "source": [
    "private_agentB.book(debit=[('Impairments',200)],credit=[('Deposits',200)])\n",
    "print_balance_sheets_and_money_stocks(\"pB\")"
   ]
  },
  {
   "cell_type": "markdown",
   "metadata": {},
   "source": [
    "## Discussion\n",
    "In this example we saw a cascade of defaults due to an intial insolvency of a bank. This is not the only way that a bank can fail, however. As discussed in [Example 3](http://www.siebenbrunner.com/moneycreation/Ex3_Refinancing.html), a bank may become illiquid if at any point it faces a situation where it is not possible to refinance a payment that it has to make. While under usual circumstances the central bank would always be available as a lender of last resort, there may be several reasons why in particular circumstances this may not be the case.\n",
    "\n",
    "One reason for such a situation is that central banks usually require collateral in exchange for granting a loan. While a solvent bank will on paper always have enough assets to post as collateral, these may not be eligible by the rules of the central bank, or, even if they are eligible, the central bank may apply a haircut to these assets.\n",
    "\n",
    "It should be noted that in practice, in a crisis situation, it may not be clear at all whether a bank is solvent at a given point in time. While the equity can always be computed from the book values of assets, there may be considerable uncertainty about the correct valuation of these assets. For this reason, it is generally entirely conceivable that a bank that is solvent on paper may no longer be able to refinance itself, if no one, including the central bank, is willing to lend against its assets with highly uncertaion valuations."
   ]
  }
 ],
 "metadata": {
  "kernelspec": {
   "display_name": "Python 3",
   "language": "python",
   "name": "python3"
  },
  "language_info": {
   "codemirror_mode": {
    "name": "ipython",
    "version": 3
   },
   "file_extension": ".py",
   "mimetype": "text/x-python",
   "name": "python",
   "nbconvert_exporter": "python",
   "pygments_lexer": "ipython3",
   "version": "3.7.4"
  }
 },
 "nbformat": 4,
 "nbformat_minor": 2
}
