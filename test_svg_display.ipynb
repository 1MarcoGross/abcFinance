{
 "cells": [
  {
   "cell_type": "code",
   "execution_count": 36,
   "metadata": {},
   "outputs": [
    {
     "data": {
      "image/svg+xml": [
       "<svg height=\"140\" width=\"400\">\n",
       " <g style=\"fill-opacity:1.0; stroke:black;   stroke-width:1;\">\n",
       "  <text dominant-baseline=\"hanging\" font-size=\"24\" text-anchor=\"middle\" x=\"195\" y=\"0\">\n",
       "   Balance Sheet\n",
       "  </text>\n",
       "  <rect height=\"50\" style=\"fill:rgb(255, 255, 255);\" width=\"195\" x=\"0\" y=\"35\"/>\n",
       "  <text dominant-baseline=\"middle\" font-size=\"18\" text-anchor=\"middle\" x=\"97\" y=\"60\">\n",
       "   CBDC 50\n",
       "  </text>\n",
       "  <rect height=\"50\" style=\"fill:rgb(255, 255, 255);\" width=\"195\" x=\"0\" y=\"85\"/>\n",
       "  <text dominant-baseline=\"middle\" font-size=\"18\" text-anchor=\"middle\" x=\"97\" y=\"110\">\n",
       "   Loans 50\n",
       "  </text>\n",
       "  <rect height=\"100\" style=\"fill:rgb(255, 255, 255);\" width=\"195\" x=\"195\" y=\"35\"/>\n",
       "  <text dominant-baseline=\"middle\" font-size=\"18\" text-anchor=\"middle\" x=\"292\" y=\"85\">\n",
       "   Equity 100\n",
       "  </text>\n",
       " </g>\n",
       "</svg>"
      ],
      "text/plain": [
       "<IPython.core.display.SVG object>"
      ]
     },
     "execution_count": 36,
     "metadata": {},
     "output_type": "execute_result"
    }
   ],
   "source": [
    "from IPython.core.display import SVG\n",
    "SVG(filename='balancesheet.svg')"
   ]
  }
 ],
 "metadata": {
  "kernelspec": {
   "display_name": "Python 3",
   "language": "python",
   "name": "python3"
  },
  "language_info": {
   "codemirror_mode": {
    "name": "ipython",
    "version": 3
   },
   "file_extension": ".py",
   "mimetype": "text/x-python",
   "name": "python",
   "nbconvert_exporter": "python",
   "pygments_lexer": "ipython3",
   "version": "3.7.4"
  }
 },
 "nbformat": 4,
 "nbformat_minor": 2
}
